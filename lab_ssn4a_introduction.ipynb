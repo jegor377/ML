{
  "nbformat": 4,
  "nbformat_minor": 0,
  "metadata": {
    "colab": {
      "provenance": [],
      "toc_visible": true
    },
    "kernelspec": {
      "name": "python3",
      "display_name": "Python 3"
    }
  },
  "cells": [
    {
      "cell_type": "markdown",
      "metadata": {
        "id": "ebvqJaNU9bkH"
      },
      "source": [
        "# Wprowadzenie do sieci neuronowych i uczenia maszynowego\n",
        "\n",
        "## Lab 4a: Wprowadzenie do biblioteki Numpy, podstawy sieci neuronowych\n",
        "\n",
        "---\n",
        "\n",
        "**Prowadzący:** Iwo Błądek, Anna Labijak-Kowalska <br>\n",
        "\n",
        "---"
      ]
    },
    {
      "cell_type": "markdown",
      "source": [
        "## Dlaczego Colab\n",
        "\n",
        "* Obliczenia wykonywane przez sieci są wymagające obliczeniowo, a ich specyfika sprawia, że można je dużo szybciej wykonywać na GPU.\n",
        "* Nie każdy ma odpowiedni GPU w swoim komputerze (rekomendowane GPU to GPU firmy Nvidia, alternatywnie układy Apple Silicon).\n",
        "* Dlatego sugerowany sposób pracy będzie przez Colab na którym jest skonfigurowane środowisko wraz ze skromnym GPU.\n",
        "\n",
        "Nie ma oczywiście przeszkód by zadania realizować lokalnie, np. w Jupyter Notebook."
      ],
      "metadata": {
        "id": "xfsz6tAYdsIX"
      }
    },
    {
      "cell_type": "markdown",
      "source": [],
      "metadata": {
        "id": "5-wB_m-vy3UC"
      }
    },
    {
      "cell_type": "markdown",
      "metadata": {
        "id": "i0tVMrm99g5w"
      },
      "source": [
        "## Praca w środowisku Colab\n",
        "\n",
        "* **Aby wykonać polecenia należy najpierw przejść do trybu 'playground': Plik -> Otwórz w trybie doświadczalnym (File -> Open in Playground Mode), jeżeli środowisko nie otworzyło się w nim automatycznie. Może być konieczne zalogowanie się do swojego konta Google.**\n",
        "* Dodatkowe pliki można wczytywać z dysku Google przy użyciu poniższego kodu:\n",
        "\n",
        "\n",
        "```\n",
        "from google.colab import drive\n",
        "drive.mount('/content/drive')\n",
        "```\n",
        "\n"
      ]
    },
    {
      "cell_type": "markdown",
      "metadata": {
        "id": "ZYcu0HmX9poV"
      },
      "source": [
        "## Cel ćwiczeń:\n",
        "\n",
        "* zapoznanie się z językiem Python oraz popularną biblioteką NumPy do przetwarzania danych,\n",
        "* przedstawienie podstaw teoretycznych, na których oparte są sieci neuronowe,\n",
        "* implementacja podstawowych elementów sieci neuronowej: neuron, funkcja aktywacji, warstwa neuronów."
      ]
    },
    {
      "cell_type": "markdown",
      "metadata": {
        "id": "2uhqCEJy5uuz"
      },
      "source": [
        "## NumPy\n",
        "\n",
        "NumPy jest biblioteką przeznaczoną do obliczeń o charakterze naukowym. Zawiera implementacje operacji na macierzach i wektorach, jak i bardziej zaawansowane funkcje typu transformata Fouriera.\n",
        "\n",
        "Aby korzystać z NumPy należy wykonać następującą instrukcję:"
      ]
    },
    {
      "cell_type": "code",
      "metadata": {
        "id": "x0DEDWrjBF8S"
      },
      "source": [
        "# import biblioteki NumPy i przypisanie aliasu ''np''\n",
        "import numpy as np"
      ],
      "execution_count": 2,
      "outputs": []
    },
    {
      "cell_type": "code",
      "metadata": {
        "colab": {
          "base_uri": "https://localhost:8080/"
        },
        "id": "cHMxlATApJkY",
        "outputId": "581b578c-7e63-4262-a16c-921e08fec556"
      },
      "source": [
        "# Użyj tej linijki by zobaczyć dane karty graficznej udostępnionej dla środowiska Colab przez Google\n",
        "!nvidia-smi"
      ],
      "execution_count": 3,
      "outputs": [
        {
          "output_type": "stream",
          "name": "stdout",
          "text": [
            "/bin/bash: line 1: nvidia-smi: command not found\n"
          ]
        }
      ]
    },
    {
      "cell_type": "markdown",
      "metadata": {
        "id": "2WAkAImKBawh"
      },
      "source": [
        "Podstawowym typem danych w NumPy jest tablica, poniżej zostały zaprezentowane różne metody alokacji takich tablic."
      ]
    },
    {
      "cell_type": "code",
      "metadata": {
        "id": "4tOm6bXP60C3",
        "colab": {
          "base_uri": "https://localhost:8080/"
        },
        "outputId": "63b7a5a4-b78c-4fba-e81a-58dc9702d263"
      },
      "source": [
        "# funkcja np.array() zmienia parametr (lista/tuple) na tablicę NumPy,\n",
        "# jednym z parametrów jest dtype który określa typ alokowanych danych (np.int32, np.float32, itp.)\n",
        "\n",
        "arr = np.array([1, 2, 3], dtype=np.int32)\n",
        "\n",
        "print('Tablica int:', arr, '\\n')\n",
        "\n",
        "arr = np.array([1, 2, 3], dtype=np.float32)\n",
        "print('Tablica float:', arr, '\\n')\n",
        "\n",
        "arr = np.zeros([2, 3], dtype=np.float32)\n",
        "print('Tablica zer:\\n', arr, '\\n')\n",
        "\n",
        "arr = np.ones([2, 3], dtype=np.float32)\n",
        "print('Tablica jedynek:\\n', arr, '\\n')\n",
        "\n",
        "arr = np.random.normal(5, 2, [5])\n",
        "print('5 wartości z rozkładu normalnego N(5, 2):\\n', arr, '\\n')\n",
        "\n",
        "arr = np.random.uniform(0, 2, [5])\n",
        "print('5 wartości losowych z przedziału <0, 2):\\n', arr, '\\n')\n",
        "\n",
        "arr = np.zeros_like(arr, dtype=np.float64)\n",
        "print('Tablica zer (float64) o takim samym rozmiarze co poprzednia tablica:\\n', arr, '\\n')\n",
        "\n",
        "arr = np.zeros_like(arr, dtype=np.uint8)\n",
        "print('Tablica zer (uint8) o takim samym rozmiarze co poprzednia tablica:\\n', arr, '\\n')"
      ],
      "execution_count": 4,
      "outputs": [
        {
          "output_type": "stream",
          "name": "stdout",
          "text": [
            "Tablica int: [1 2 3] \n",
            "\n",
            "Tablica float: [1. 2. 3.] \n",
            "\n",
            "Tablica zer:\n",
            " [[0. 0. 0.]\n",
            " [0. 0. 0.]] \n",
            "\n",
            "Tablica jedynek:\n",
            " [[1. 1. 1.]\n",
            " [1. 1. 1.]] \n",
            "\n",
            "5 wartości z rozkładu normalnego N(5, 2):\n",
            " [3.94371913 5.00522456 4.48880815 4.43760132 4.79392044] \n",
            "\n",
            "5 wartości losowych z przedziału <0, 2):\n",
            " [1.57635752 0.71676978 0.10687216 1.59592523 0.96817224] \n",
            "\n",
            "Tablica zer (float64) o takim samym rozmiarze co poprzednia tablica:\n",
            " [0. 0. 0. 0. 0.] \n",
            "\n",
            "Tablica zer (uint8) o takim samym rozmiarze co poprzednia tablica:\n",
            " [0 0 0 0 0] \n",
            "\n"
          ]
        }
      ]
    },
    {
      "cell_type": "markdown",
      "metadata": {
        "id": "X3nF2Ki5qUa3"
      },
      "source": [
        "Dodatkowo w bibliotece można znaleźć metody alokacji według pewnego wzorca jak *range* czy *linspace* (UWAGA: sprawdź, czy metody zwracają również przypadki krańcowe jako elementy tablicy):"
      ]
    },
    {
      "cell_type": "code",
      "metadata": {
        "id": "kxa5LFyAqfn_",
        "colab": {
          "base_uri": "https://localhost:8080/"
        },
        "outputId": "b21c0da7-b2d2-4615-c915-1bd7082cac49"
      },
      "source": [
        "# alokacja tablicy 10 wartości od 0 do 10 z równym krokiem\n",
        "arr = np.linspace(0, 10, 10)\n",
        "\n",
        "print('Linspace:', arr, '\\n')\n",
        "\n",
        "# alokacja tablicy z wartościami od 0 do 10 z krokiem 0.5\n",
        "arr = np.arange(0, 10, 0.5)\n",
        "\n",
        "print('ARange:', arr, '\\n')"
      ],
      "execution_count": 4,
      "outputs": [
        {
          "output_type": "stream",
          "name": "stdout",
          "text": [
            "Linspace: [ 0.          1.11111111  2.22222222  3.33333333  4.44444444  5.55555556\n",
            "  6.66666667  7.77777778  8.88888889 10.        ] \n",
            "\n",
            "ARange: [0.  0.5 1.  1.5 2.  2.5 3.  3.5 4.  4.5 5.  5.5 6.  6.5 7.  7.5 8.  8.5\n",
            " 9.  9.5] \n",
            "\n"
          ]
        }
      ]
    },
    {
      "cell_type": "markdown",
      "metadata": {
        "id": "IBXHfrIcrZrL"
      },
      "source": [
        "Kolejną przydatną funkcją jest funkcja **reshape** do zmiany wymiarów tablicy."
      ]
    },
    {
      "cell_type": "code",
      "metadata": {
        "id": "HHXn_4hvrkSE",
        "colab": {
          "base_uri": "https://localhost:8080/"
        },
        "outputId": "f1432d17-acc7-4635-fded-26271cb94d2d"
      },
      "source": [
        "# alokacja danych (tablica 25 wartości)\n",
        "arr = np.linspace(0, 10, 25)\n",
        "\n",
        "\n",
        "# zmiana rozmiaru z (25) na (5, 5):\n",
        "arr = np.reshape(arr, [5, 5])\n",
        "\n",
        "print(arr)\n"
      ],
      "execution_count": 5,
      "outputs": [
        {
          "output_type": "stream",
          "name": "stdout",
          "text": [
            "[[ 0.          0.41666667  0.83333333  1.25        1.66666667]\n",
            " [ 2.08333333  2.5         2.91666667  3.33333333  3.75      ]\n",
            " [ 4.16666667  4.58333333  5.          5.41666667  5.83333333]\n",
            " [ 6.25        6.66666667  7.08333333  7.5         7.91666667]\n",
            " [ 8.33333333  8.75        9.16666667  9.58333333 10.        ]]\n"
          ]
        }
      ]
    },
    {
      "cell_type": "markdown",
      "metadata": {
        "id": "HriZKIT7FWdR"
      },
      "source": [
        "NumPy dostarcza implementacji wielu przydatnych operacji na tablicach. Poniżej zaprezentowane zostały podstawowe operacje:"
      ]
    },
    {
      "cell_type": "code",
      "metadata": {
        "id": "1XO7gXvxFqa5",
        "colab": {
          "base_uri": "https://localhost:8080/"
        },
        "outputId": "66c2072c-77fb-46b3-e08b-bc0e6e4d6699"
      },
      "source": [
        "# alokacja danych\n",
        "a = np.random.normal(0, 1, [3, 3])\n",
        "b = np.random.uniform(-1, 1, [3, 3])\n",
        "\n",
        "print('Tablica a:\\n', a, '\\n\\nTablica b:\\n', b, '\\n')\n",
        "\n",
        "# mnożenie element-wise:\n",
        "print('Mnożenie elementwise:\\n', np.multiply(a, b), '\\n')\n",
        "\n",
        "# mnożenie macierzy:\n",
        "print('Mnożenie macierzy:\\n', np.matmul(a, b), '\\n')\n",
        "\n",
        "# transpozycja tablicy\n",
        "print('Transpozycja:\\n', np.transpose(a, [1, 0]), '\\n')\n",
        "\n",
        "# potęgowanie:\n",
        "print('Potęgowanie:\\n', np.power(a, 2), '\\n')\n",
        "\n",
        "# broadcasted ops (są to operacje które wykonują pewien wzorzec dla wszystkich elementów):\n",
        "# np. dla macierzy o wymiarach (5, 10) możemy zdefiniować tablicę o wymiarach (1, 10)\n",
        "# wówczas podstawowe operacje spowodują, że dla każdego wiersza (5 wierszy) zostanie wykonana\n",
        "# taka operacja z wykorzystaniem 10 elementów drugiej tablicy\n",
        "# poniżej a ma rozmiar (3, 3), factor ma rozmiar (1, 3)\n",
        "factor = np.array([[1, 2, 3]], dtype=np.float32)\n",
        "print('Broadcasted:\\n', np.multiply(a, factor), '\\n')\n",
        "\n",
        "# DONE: sprawdź również broadcasted ops dla innych operacji jak dodawanie, odejmowanie."
      ],
      "execution_count": 7,
      "outputs": [
        {
          "output_type": "stream",
          "name": "stdout",
          "text": [
            "Tablica a:\n",
            " [[-0.50852512  1.85908436  0.3528652 ]\n",
            " [-0.84844271  0.6669448  -1.59173486]\n",
            " [-1.00831699 -0.07430977 -0.84196301]] \n",
            "\n",
            "Tablica b:\n",
            " [[-0.46400492  0.47995709  0.78504368]\n",
            " [ 0.9902958   0.63961183  0.81065113]\n",
            " [-0.82796098  0.52093389 -0.28148906]] \n",
            "\n",
            "Mnożenie elementwise:\n",
            " [[ 0.23595816  0.89228072  0.27701459]\n",
            " [-0.84020925  0.42658578 -1.29034166]\n",
            " [ 0.83484712 -0.03871048  0.23700337]] \n",
            "\n",
            "Mnożenie macierzy:\n",
            " [[ 1.78484297  1.12884155  1.00852672]\n",
            " [ 2.37204858 -0.80981894  0.32265092]\n",
            " [ 1.0913879  -0.97008536 -0.6148088 ]] \n",
            "\n",
            "Transpozycja:\n",
            " [[-0.50852512 -0.84844271 -1.00831699]\n",
            " [ 1.85908436  0.6669448  -0.07430977]\n",
            " [ 0.3528652  -1.59173486 -0.84196301]] \n",
            "\n",
            "Potęgowanie:\n",
            " [[0.2585978  3.45619467 0.12451385]\n",
            " [0.71985504 0.44481537 2.53361986]\n",
            " [1.01670315 0.00552194 0.7089017 ]] \n",
            "\n",
            "Broadcasted:\n",
            " [[-0.50852512  3.71816873  1.05859559]\n",
            " [-0.84844271  1.33388961 -4.77520457]\n",
            " [-1.00831699 -0.14861955 -2.52588902]] \n",
            "\n"
          ]
        }
      ]
    },
    {
      "cell_type": "markdown",
      "metadata": {
        "id": "HLajGS7BH33s"
      },
      "source": [
        "Podstawowe operacje jak dodawanie, odejmowanie, mnożenie (element-wise), potęgowanie jest również dostępne korzystając z Python-owych operatorów (+, -, ...)"
      ]
    },
    {
      "cell_type": "code",
      "metadata": {
        "id": "KMl2sLqvIY59",
        "colab": {
          "base_uri": "https://localhost:8080/"
        },
        "outputId": "dac0047b-9f39-406a-e913-d900ac0e0605"
      },
      "source": [
        "a = np.ones([3, 3])\n",
        "\n",
        "print(a, '\\n')\n",
        "print((a * 2) ** 2, '\\n')\n",
        "print(a + 10, '\\n')\n",
        "print(a * 10, '\\n')"
      ],
      "execution_count": 8,
      "outputs": [
        {
          "output_type": "stream",
          "name": "stdout",
          "text": [
            "[[1. 1. 1.]\n",
            " [1. 1. 1.]\n",
            " [1. 1. 1.]] \n",
            "\n",
            "[[4. 4. 4.]\n",
            " [4. 4. 4.]\n",
            " [4. 4. 4.]] \n",
            "\n",
            "[[11. 11. 11.]\n",
            " [11. 11. 11.]\n",
            " [11. 11. 11.]] \n",
            "\n",
            "[[10. 10. 10.]\n",
            " [10. 10. 10.]\n",
            " [10. 10. 10.]] \n",
            "\n"
          ]
        }
      ]
    },
    {
      "cell_type": "markdown",
      "metadata": {
        "id": "-AqptNHVsTWd"
      },
      "source": [
        "### Zadanie 0\n",
        "Wykonaj poniższe polecenia:"
      ]
    },
    {
      "cell_type": "code",
      "metadata": {
        "id": "SN2wZRBWsYYH",
        "colab": {
          "base_uri": "https://localhost:8080/"
        },
        "outputId": "5665f7a0-606c-4d24-c2c5-4e96f77e3fc4"
      },
      "source": [
        "arr = np.linspace(0, 20, 20)\n",
        "\n",
        "#DONE: zmień kształt tablicy na (2, 10) - 2 wiersze po 10 wartości\n",
        "arr = np.reshape(arr, (2,10))\n",
        "print(arr, '\\n')\n",
        "\n",
        "#DONE: powiększ pierwszy wiersz o 2, drugi o 5. Operacja powinna być wykonana w 1 linii (zaalokuj zmienną a i wykorzystaj ją w operacji)\n",
        "a = [[2],[5]]\n",
        "arr = arr + a\n",
        "\n",
        "print(arr, '\\n')\n",
        "\n",
        "#DONE: tablice NumPy można indeksować tak jak w innych językach programowania (np C, C++, Java)\n",
        "#DONE: ''wybierz'' z tablicy drugi wiersz, podnieś do kwadratu jego elementy i wyświetl funkcją print()\n",
        "arr = arr[1] ** 2\n",
        "print(arr)"
      ],
      "execution_count": 16,
      "outputs": [
        {
          "output_type": "stream",
          "name": "stdout",
          "text": [
            "[[ 0.          1.05263158  2.10526316  3.15789474  4.21052632  5.26315789\n",
            "   6.31578947  7.36842105  8.42105263  9.47368421]\n",
            " [10.52631579 11.57894737 12.63157895 13.68421053 14.73684211 15.78947368\n",
            "  16.84210526 17.89473684 18.94736842 20.        ]] \n",
            "\n",
            "[[ 2.          3.05263158  4.10526316  5.15789474  6.21052632  7.26315789\n",
            "   8.31578947  9.36842105 10.42105263 11.47368421]\n",
            " [15.52631579 16.57894737 17.63157895 18.68421053 19.73684211 20.78947368\n",
            "  21.84210526 22.89473684 23.94736842 25.        ]] \n",
            "\n",
            "[241.06648199 274.86149584 310.87257618 349.09972299 389.54293629\n",
            " 432.20221607 477.07756233 524.16897507 573.47645429 625.        ]\n"
          ]
        }
      ]
    },
    {
      "cell_type": "markdown",
      "metadata": {
        "id": "v9W5ffp5IrnJ"
      },
      "source": [
        "### Zadanie 1\n",
        "Napisz funkcję liniową dla wielu zmiennych (**X** ma rozmiar *n* - liczba zmiennych), jednego współczynnika kierunkowego **a** i jednego wyrazu wolnego **b**. Następnie sprawdź, czy funkcja działa również, gdy dla każdej zmiennej przypiszemy osobne wartości a i b."
      ]
    },
    {
      "cell_type": "code",
      "metadata": {
        "id": "CCRLIDLmI1yr",
        "colab": {
          "base_uri": "https://localhost:8080/"
        },
        "outputId": "e51fdce3-7a01-47d9-bd57-762687aa8f60"
      },
      "source": [
        "x = np.array([1, 2, 3, 4, 5])\n",
        "a = np.array(2)\n",
        "b = np.array(-1)\n",
        "\n",
        "def f1(x, a, b):\n",
        "  return a * x + b\n",
        "\n",
        "print(f1(x, a, b))\n",
        "\n",
        "a = np.array([1, 5, 2, 3, 1])\n",
        "b = np.array([5, 2, 3, 5, 1])\n",
        "\n",
        "print(f1(x, a, b))"
      ],
      "execution_count": 6,
      "outputs": [
        {
          "output_type": "stream",
          "name": "stdout",
          "text": [
            "[1 3 5 7 9]\n",
            "[ 6 12  9 17  6]\n"
          ]
        }
      ]
    },
    {
      "cell_type": "markdown",
      "metadata": {
        "id": "FCgv2OGMmjP3"
      },
      "source": [
        "Mechanizm polegający na wykonaniu tej samej operacji dla wszystkich wartości w danej osi nazywa się **broadcasting**. Przykładowo, wynikiem mnożenia dwóch zmiennych o wymiarach [20] i [1] będzie zmienna o wymiarze [20], dla zmiennych o wymiarach [20, 1] i [1, 20] wynikiem będzie zmienna o wymiarach [20, 20] (a więc każdy element z pierwszej zmiennej, przemnożony zostanie przez wszystkie wartości (**osobno**) z drugiej zmiennej."
      ]
    },
    {
      "cell_type": "markdown",
      "metadata": {
        "id": "W_kYYr5vKIw4"
      },
      "source": [
        "### Zadanie 2\n",
        "\n",
        "Napisz funkcję, która będzie wykonywała kombinację liniową wektora zmiennych **X** oraz wektora stałych **a**. Sprawdź, czy dla wielu wektorów **a** (kolumny tablicy **a**) funkcja będzie działała (jeśli nie, popraw funkcję tak by wykorzystywała mechanizm broadcasting).\n"
      ]
    },
    {
      "cell_type": "code",
      "metadata": {
        "id": "QwvXJ0GOL4Z3",
        "colab": {
          "base_uri": "https://localhost:8080/"
        },
        "outputId": "6df7b5dc-2fc1-4eee-ef10-e40858b1a984"
      },
      "source": [
        "x = np.array([2, 3, 5])\n",
        "a = np.array([5, 1, 5])\n",
        "\n",
        "def f2(x, a):\n",
        "  return np.dot(x,a)\n",
        "\n",
        "print(f2(x, a))\n",
        "\n",
        "# f2 powinno sobie także radzić z \"równoległym\" obliczaniem kombinacji liniowej dla kilku wektorów na raz\n",
        "a = np.array([\n",
        "    [5, 2],\n",
        "    [1, 2],\n",
        "    [5, 1]\n",
        "])\n",
        "\n",
        "# by zadziałał broadcasting\n",
        "x = np.expand_dims(x, 0)\n",
        "\n",
        "print(f2(x, a))"
      ],
      "execution_count": 35,
      "outputs": [
        {
          "output_type": "stream",
          "name": "stdout",
          "text": [
            "38\n",
            "[[38 15]]\n"
          ]
        }
      ]
    },
    {
      "cell_type": "markdown",
      "metadata": {
        "id": "qnpgaxS9Ux4L"
      },
      "source": [
        "## Neuron\n",
        "\n",
        "Podstawowym elementem każdej sieci neuronowej jest neuron. Jest to jednostka która wykonuje następującą operację:\n",
        "\n",
        "$$z = \\sum_i x_i * w_i + b$$\n",
        "$$y = f(z)$$\n",
        "\n",
        "gdzie $x_i$ to i-te *wejście* neuronu, $w_i$ to waga tego wejścia, natomiast $b$ to pewna stała. Wyjście funkcji liniowej $z$ jest następnie podawane na wejście pewnej funkcji aktywacji $f$.\n",
        "\n",
        "Istnieje wiele funkcji aktywacji takich jak:\n",
        "* skokowa (*funkcja progowa unipolarna*),\n",
        "$${\\displaystyle y(x)=\\left\\{{\\begin{matrix}0 & dla & x\\lt a\\\\1 & dla&x\\geq a\\\\\\end{matrix}}\\right.}$$\n",
        "* sigmoid,\n",
        "$$y(x)={\\frac {1}{1+e^{-\\beta x}}}$$\n",
        "* tangens hiperboliczny,\n",
        "$$y(x)={\\frac {2}{1+e^{-\\beta x}}}-1={\\frac {1-e^{-\\beta x}}{1+e^{-\\beta x}}}$$\n",
        "* relu,\n",
        "$$y(x)=max(0, x)$$\n",
        "\n",
        "\n",
        " Dla neuronu ze skokową funkcją aktywacji używa się także czasami ze względów historycznych nazwy *perceptron*.\n",
        "\n",
        "\n",
        "---\n",
        "\n",
        "\n",
        "Neuron wchodzi w skład wielu różnych elementów sieci neuronowej jak *warstwa konwolucyjna* czy *warstwa w pełni połączona* (fully connected).\n",
        "W przypadku warstwy fully connected wzór rozszerza się trywialnie na:\n",
        "\n",
        "$$z_j = \\sum_i x_i * w_{ij} + b_j$$\n",
        "$$y_j = f(z_j)$$\n",
        "\n",
        "gdzie $j$ oznacza j-ty neuron, $x_i$ oznacza wyjście neuronu $i$ z warstwy poprzedzającej, a $w_{ij}$ oznacza wagę połączenia wychodzącego z neuronu $i$ do neuronu $j$.\n",
        "Składnik $\\sum_i x_i * w_{ij}$ to kombinacja liniowa (patrz zadanie 2).\n",
        "\n",
        "\n",
        "\n",
        "---\n",
        "\n",
        "### Zadanie 3\n",
        "Zaimplementuj z wykorzystaniem biblioteki NumPy następujące funkcje aktywacji: **linear**, **sigmoid**, **relu**."
      ]
    },
    {
      "cell_type": "code",
      "metadata": {
        "id": "oz25l0F1aUiY",
        "colab": {
          "base_uri": "https://localhost:8080/"
        },
        "outputId": "dc070581-df8d-41f3-febe-86cfcfd29c90"
      },
      "source": [
        "def linear(x, w, b):\n",
        "  return np.dot(x,w) + b\n",
        "\n",
        "\n",
        "def sigmoid(z, beta=0.5):\n",
        "  return 1 / (1 + np.exp(-1 * beta * z))\n",
        "\n",
        "\n",
        "def relu(z):\n",
        "  return np.maximum(z,0)\n",
        "\n",
        "# UWAGA: rozmiar wejściowy (1, 5) ma dodaną jedynkę tylko ze względów obliczeniowych\n",
        "x = np.random.normal(0, 1, [1, 5])\n",
        "w = np.random.normal(0, 1, [5, 2])\n",
        "b = np.random.normal(0, 1, [2])\n",
        "\n",
        "z = linear(x, w, b)\n",
        "\n",
        "print('Linear activation:\\n', z, '\\n')\n",
        "print('Sigmoid activation:\\n', sigmoid(z), '\\n')\n",
        "print('Relu activation:\\n', relu(z), '\\n')"
      ],
      "execution_count": 81,
      "outputs": [
        {
          "output_type": "stream",
          "name": "stdout",
          "text": [
            "Linear activation:\n",
            " [[-3.00343666  2.73669203]] \n",
            "\n",
            "Sigmoid activation:\n",
            " [[0.18216938 0.7971128 ]] \n",
            "\n",
            "Relu activation:\n",
            " [[0.         2.73669203]] \n",
            "\n"
          ]
        }
      ]
    },
    {
      "cell_type": "markdown",
      "source": [
        "### Zadanie 4\n",
        "\n",
        "Zaimplementuj klasę FullyConnectedLayer, reprezentującą całą warstwę w pełni połączoną (fully connected). Załóż, że wagi i biasy w warstwie są ustalane losowo w konstruktorze."
      ],
      "metadata": {
        "id": "43TL0qGq8IBf"
      }
    },
    {
      "cell_type": "code",
      "source": [
        "class FullyConnectedLayer:\n",
        "  def __init__(self, n, previous_layer_shape):\n",
        "    _, shape = previous_layer_shape\n",
        "    # DONE: Wypełnij konstruktor, zainicjalizuj wagi i biasy neuronów w warstwie\n",
        "    self.w = np.random.normal(0, 1, [shape, n])\n",
        "    self.b = np.random.normal(0, 1, [n])\n",
        "\n",
        "    # DONE: Ustal wymiary macierzy wyjściowej warstwy w postaci krotki\n",
        "    self.shape = (1,n)\n",
        "\n",
        "  def propagate(self, X):\n",
        "    # DONE: Zaimplementuj propagację sygnału w przód. Pamiętaj, by użyć mnożenia macierzy a nie mnożenia po elementach.\n",
        "    return np.dot(X,self.w) + self.b\n",
        "\n",
        "\n",
        "# Definicja sieci neuronowej\n",
        "L1 = FullyConnectedLayer(5, (1, 3))\n",
        "L2 = FullyConnectedLayer(10, L1.shape)\n",
        "L3 = FullyConnectedLayer(1, L2.shape)\n",
        "\n",
        "# Użycie sieci neuronowej do predykcji dla przykładu X\n",
        "X = np.array([1, 2, 0], ndmin=2)\n",
        "print(\"X: {}\\t\\t(shape: {})\".format(X, X.shape))\n",
        "y1 = L1.propagate(X)\n",
        "print(\"y1: {}\\t\\t(shape: {})\".format(y1, y1.shape))\n",
        "y2 = L2.propagate(y1)\n",
        "print(\"y2: {}\\t\\t(shape: {})\".format(y2, y2.shape))\n",
        "y3 = L3.propagate(y2)\n",
        "print(\"Network's output: {}\\t\\t(shape: {})\".format(y3.item(), y3.shape))"
      ],
      "metadata": {
        "id": "XA4sklpD8GVL",
        "colab": {
          "base_uri": "https://localhost:8080/"
        },
        "outputId": "e48993d8-91ff-4c3a-f6ee-d9b60e627af1"
      },
      "execution_count": 78,
      "outputs": [
        {
          "output_type": "stream",
          "name": "stdout",
          "text": [
            "X: [[1 2 0]]\t\t(shape: (1, 3))\n",
            "y1: [[ 1.70691156 -1.4310056  -2.35698596 -2.00245152 -3.72682354]]\t\t(shape: (1, 5))\n",
            "y2: [[-1.62670405  2.6424669   7.94513587  7.03449565 -0.69413376 -2.3092451\n",
            "   2.96129381 -3.18501466  7.53299714  1.3875025 ]]\t\t(shape: (1, 10))\n",
            "Network's output: 14.886613452836958\t\t(shape: (1, 1))\n"
          ]
        }
      ]
    }
  ]
}