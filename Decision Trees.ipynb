{
 "cells": [
  {
   "cell_type": "code",
   "execution_count": 54,
   "id": "cb2b98f7-6bbe-42bd-87d9-c951d325eeaa",
   "metadata": {},
   "outputs": [],
   "source": [
    "import pandas as pd\n",
    "import math\n",
    "from collections import Counter\n",
    "import numpy as np\n",
    "import pprint\n",
    "from sklearn.model_selection import train_test_split\n",
    "from tqdm import tqdm"
   ]
  },
  {
   "cell_type": "markdown",
   "id": "b10aa959-f9f1-43f8-bcf5-82c5fa64456d",
   "metadata": {},
   "source": [
    "# Importing data"
   ]
  },
  {
   "cell_type": "code",
   "execution_count": 72,
   "id": "97fbce10-d467-46ae-9d77-9931c86c468e",
   "metadata": {},
   "outputs": [],
   "source": [
    "df = pd.read_csv(\"titanic-homework.csv\").drop(['PassengerId', 'Name'], axis=1)"
   ]
  },
  {
   "cell_type": "code",
   "execution_count": 73,
   "id": "7fc3e272-b887-44a4-8f6f-24bb848d620e",
   "metadata": {},
   "outputs": [
    {
     "data": {
      "text/html": [
       "<div>\n",
       "<style scoped>\n",
       "    .dataframe tbody tr th:only-of-type {\n",
       "        vertical-align: middle;\n",
       "    }\n",
       "\n",
       "    .dataframe tbody tr th {\n",
       "        vertical-align: top;\n",
       "    }\n",
       "\n",
       "    .dataframe thead th {\n",
       "        text-align: right;\n",
       "    }\n",
       "</style>\n",
       "<table border=\"1\" class=\"dataframe\">\n",
       "  <thead>\n",
       "    <tr style=\"text-align: right;\">\n",
       "      <th></th>\n",
       "      <th>Pclass</th>\n",
       "      <th>Sex</th>\n",
       "      <th>Age</th>\n",
       "      <th>SibSp</th>\n",
       "      <th>Parch</th>\n",
       "      <th>Survived</th>\n",
       "    </tr>\n",
       "  </thead>\n",
       "  <tbody>\n",
       "    <tr>\n",
       "      <th>0</th>\n",
       "      <td>3</td>\n",
       "      <td>male</td>\n",
       "      <td>22</td>\n",
       "      <td>1</td>\n",
       "      <td>0</td>\n",
       "      <td>0</td>\n",
       "    </tr>\n",
       "    <tr>\n",
       "      <th>1</th>\n",
       "      <td>1</td>\n",
       "      <td>female</td>\n",
       "      <td>38</td>\n",
       "      <td>1</td>\n",
       "      <td>0</td>\n",
       "      <td>1</td>\n",
       "    </tr>\n",
       "    <tr>\n",
       "      <th>2</th>\n",
       "      <td>3</td>\n",
       "      <td>female</td>\n",
       "      <td>26</td>\n",
       "      <td>0</td>\n",
       "      <td>0</td>\n",
       "      <td>1</td>\n",
       "    </tr>\n",
       "    <tr>\n",
       "      <th>3</th>\n",
       "      <td>1</td>\n",
       "      <td>female</td>\n",
       "      <td>35</td>\n",
       "      <td>1</td>\n",
       "      <td>0</td>\n",
       "      <td>1</td>\n",
       "    </tr>\n",
       "    <tr>\n",
       "      <th>4</th>\n",
       "      <td>3</td>\n",
       "      <td>male</td>\n",
       "      <td>35</td>\n",
       "      <td>0</td>\n",
       "      <td>0</td>\n",
       "      <td>0</td>\n",
       "    </tr>\n",
       "    <tr>\n",
       "      <th>...</th>\n",
       "      <td>...</td>\n",
       "      <td>...</td>\n",
       "      <td>...</td>\n",
       "      <td>...</td>\n",
       "      <td>...</td>\n",
       "      <td>...</td>\n",
       "    </tr>\n",
       "    <tr>\n",
       "      <th>95</th>\n",
       "      <td>3</td>\n",
       "      <td>male</td>\n",
       "      <td>44</td>\n",
       "      <td>0</td>\n",
       "      <td>0</td>\n",
       "      <td>0</td>\n",
       "    </tr>\n",
       "    <tr>\n",
       "      <th>96</th>\n",
       "      <td>1</td>\n",
       "      <td>male</td>\n",
       "      <td>71</td>\n",
       "      <td>0</td>\n",
       "      <td>0</td>\n",
       "      <td>0</td>\n",
       "    </tr>\n",
       "    <tr>\n",
       "      <th>97</th>\n",
       "      <td>1</td>\n",
       "      <td>male</td>\n",
       "      <td>23</td>\n",
       "      <td>0</td>\n",
       "      <td>1</td>\n",
       "      <td>1</td>\n",
       "    </tr>\n",
       "    <tr>\n",
       "      <th>98</th>\n",
       "      <td>2</td>\n",
       "      <td>female</td>\n",
       "      <td>34</td>\n",
       "      <td>0</td>\n",
       "      <td>1</td>\n",
       "      <td>1</td>\n",
       "    </tr>\n",
       "    <tr>\n",
       "      <th>99</th>\n",
       "      <td>2</td>\n",
       "      <td>male</td>\n",
       "      <td>34</td>\n",
       "      <td>1</td>\n",
       "      <td>0</td>\n",
       "      <td>0</td>\n",
       "    </tr>\n",
       "  </tbody>\n",
       "</table>\n",
       "<p>100 rows × 6 columns</p>\n",
       "</div>"
      ],
      "text/plain": [
       "    Pclass     Sex  Age  SibSp  Parch  Survived\n",
       "0        3    male   22      1      0         0\n",
       "1        1  female   38      1      0         1\n",
       "2        3  female   26      0      0         1\n",
       "3        1  female   35      1      0         1\n",
       "4        3    male   35      0      0         0\n",
       "..     ...     ...  ...    ...    ...       ...\n",
       "95       3    male   44      0      0         0\n",
       "96       1    male   71      0      0         0\n",
       "97       1    male   23      0      1         1\n",
       "98       2  female   34      0      1         1\n",
       "99       2    male   34      1      0         0\n",
       "\n",
       "[100 rows x 6 columns]"
      ]
     },
     "execution_count": 73,
     "metadata": {},
     "output_type": "execute_result"
    }
   ],
   "source": [
    "df"
   ]
  },
  {
   "cell_type": "code",
   "execution_count": 75,
   "id": "0b8c4094-44e4-42a7-a31d-f70ae309ca8d",
   "metadata": {},
   "outputs": [],
   "source": [
    "train, test = train_test_split(df, test_size=0.2)\n",
    "train = train.reset_index(drop=True)\n",
    "test = test.reset_index(drop=True)"
   ]
  },
  {
   "cell_type": "code",
   "execution_count": 76,
   "id": "2c274ab2-7bdd-4779-bb53-4b2355dcb78f",
   "metadata": {},
   "outputs": [
    {
     "data": {
      "text/html": [
       "<div>\n",
       "<style scoped>\n",
       "    .dataframe tbody tr th:only-of-type {\n",
       "        vertical-align: middle;\n",
       "    }\n",
       "\n",
       "    .dataframe tbody tr th {\n",
       "        vertical-align: top;\n",
       "    }\n",
       "\n",
       "    .dataframe thead th {\n",
       "        text-align: right;\n",
       "    }\n",
       "</style>\n",
       "<table border=\"1\" class=\"dataframe\">\n",
       "  <thead>\n",
       "    <tr style=\"text-align: right;\">\n",
       "      <th></th>\n",
       "      <th>Pclass</th>\n",
       "      <th>Sex</th>\n",
       "      <th>Age</th>\n",
       "      <th>SibSp</th>\n",
       "      <th>Parch</th>\n",
       "      <th>Survived</th>\n",
       "    </tr>\n",
       "  </thead>\n",
       "  <tbody>\n",
       "    <tr>\n",
       "      <th>0</th>\n",
       "      <td>1</td>\n",
       "      <td>male</td>\n",
       "      <td>28</td>\n",
       "      <td>0</td>\n",
       "      <td>0</td>\n",
       "      <td>1</td>\n",
       "    </tr>\n",
       "    <tr>\n",
       "      <th>1</th>\n",
       "      <td>1</td>\n",
       "      <td>male</td>\n",
       "      <td>23</td>\n",
       "      <td>0</td>\n",
       "      <td>1</td>\n",
       "      <td>1</td>\n",
       "    </tr>\n",
       "    <tr>\n",
       "      <th>2</th>\n",
       "      <td>1</td>\n",
       "      <td>female</td>\n",
       "      <td>28</td>\n",
       "      <td>0</td>\n",
       "      <td>0</td>\n",
       "      <td>1</td>\n",
       "    </tr>\n",
       "    <tr>\n",
       "      <th>3</th>\n",
       "      <td>3</td>\n",
       "      <td>male</td>\n",
       "      <td>4</td>\n",
       "      <td>3</td>\n",
       "      <td>2</td>\n",
       "      <td>0</td>\n",
       "    </tr>\n",
       "    <tr>\n",
       "      <th>4</th>\n",
       "      <td>3</td>\n",
       "      <td>female</td>\n",
       "      <td>8</td>\n",
       "      <td>3</td>\n",
       "      <td>1</td>\n",
       "      <td>0</td>\n",
       "    </tr>\n",
       "    <tr>\n",
       "      <th>...</th>\n",
       "      <td>...</td>\n",
       "      <td>...</td>\n",
       "      <td>...</td>\n",
       "      <td>...</td>\n",
       "      <td>...</td>\n",
       "      <td>...</td>\n",
       "    </tr>\n",
       "    <tr>\n",
       "      <th>75</th>\n",
       "      <td>1</td>\n",
       "      <td>female</td>\n",
       "      <td>77</td>\n",
       "      <td>1</td>\n",
       "      <td>0</td>\n",
       "      <td>1</td>\n",
       "    </tr>\n",
       "    <tr>\n",
       "      <th>76</th>\n",
       "      <td>1</td>\n",
       "      <td>male</td>\n",
       "      <td>13</td>\n",
       "      <td>0</td>\n",
       "      <td>0</td>\n",
       "      <td>1</td>\n",
       "    </tr>\n",
       "    <tr>\n",
       "      <th>77</th>\n",
       "      <td>3</td>\n",
       "      <td>male</td>\n",
       "      <td>37</td>\n",
       "      <td>0</td>\n",
       "      <td>0</td>\n",
       "      <td>0</td>\n",
       "    </tr>\n",
       "    <tr>\n",
       "      <th>78</th>\n",
       "      <td>3</td>\n",
       "      <td>male</td>\n",
       "      <td>22</td>\n",
       "      <td>0</td>\n",
       "      <td>0</td>\n",
       "      <td>0</td>\n",
       "    </tr>\n",
       "    <tr>\n",
       "      <th>79</th>\n",
       "      <td>1</td>\n",
       "      <td>male</td>\n",
       "      <td>19</td>\n",
       "      <td>3</td>\n",
       "      <td>2</td>\n",
       "      <td>0</td>\n",
       "    </tr>\n",
       "  </tbody>\n",
       "</table>\n",
       "<p>80 rows × 6 columns</p>\n",
       "</div>"
      ],
      "text/plain": [
       "    Pclass     Sex  Age  SibSp  Parch  Survived\n",
       "0        1    male   28      0      0         1\n",
       "1        1    male   23      0      1         1\n",
       "2        1  female   28      0      0         1\n",
       "3        3    male    4      3      2         0\n",
       "4        3  female    8      3      1         0\n",
       "..     ...     ...  ...    ...    ...       ...\n",
       "75       1  female   77      1      0         1\n",
       "76       1    male   13      0      0         1\n",
       "77       3    male   37      0      0         0\n",
       "78       3    male   22      0      0         0\n",
       "79       1    male   19      3      2         0\n",
       "\n",
       "[80 rows x 6 columns]"
      ]
     },
     "execution_count": 76,
     "metadata": {},
     "output_type": "execute_result"
    }
   ],
   "source": [
    "train"
   ]
  },
  {
   "cell_type": "code",
   "execution_count": 77,
   "id": "f5404dff-9e0d-4b2c-90e4-02e90b4f52ca",
   "metadata": {},
   "outputs": [
    {
     "data": {
      "text/html": [
       "<div>\n",
       "<style scoped>\n",
       "    .dataframe tbody tr th:only-of-type {\n",
       "        vertical-align: middle;\n",
       "    }\n",
       "\n",
       "    .dataframe tbody tr th {\n",
       "        vertical-align: top;\n",
       "    }\n",
       "\n",
       "    .dataframe thead th {\n",
       "        text-align: right;\n",
       "    }\n",
       "</style>\n",
       "<table border=\"1\" class=\"dataframe\">\n",
       "  <thead>\n",
       "    <tr style=\"text-align: right;\">\n",
       "      <th></th>\n",
       "      <th>Pclass</th>\n",
       "      <th>Sex</th>\n",
       "      <th>Age</th>\n",
       "      <th>SibSp</th>\n",
       "      <th>Parch</th>\n",
       "      <th>Survived</th>\n",
       "    </tr>\n",
       "  </thead>\n",
       "  <tbody>\n",
       "    <tr>\n",
       "      <th>0</th>\n",
       "      <td>3</td>\n",
       "      <td>male</td>\n",
       "      <td>28</td>\n",
       "      <td>0</td>\n",
       "      <td>0</td>\n",
       "      <td>0</td>\n",
       "    </tr>\n",
       "    <tr>\n",
       "      <th>1</th>\n",
       "      <td>1</td>\n",
       "      <td>male</td>\n",
       "      <td>45</td>\n",
       "      <td>1</td>\n",
       "      <td>0</td>\n",
       "      <td>0</td>\n",
       "    </tr>\n",
       "    <tr>\n",
       "      <th>2</th>\n",
       "      <td>2</td>\n",
       "      <td>male</td>\n",
       "      <td>29</td>\n",
       "      <td>0</td>\n",
       "      <td>0</td>\n",
       "      <td>0</td>\n",
       "    </tr>\n",
       "    <tr>\n",
       "      <th>3</th>\n",
       "      <td>3</td>\n",
       "      <td>male</td>\n",
       "      <td>44</td>\n",
       "      <td>0</td>\n",
       "      <td>0</td>\n",
       "      <td>0</td>\n",
       "    </tr>\n",
       "    <tr>\n",
       "      <th>4</th>\n",
       "      <td>2</td>\n",
       "      <td>male</td>\n",
       "      <td>34</td>\n",
       "      <td>0</td>\n",
       "      <td>0</td>\n",
       "      <td>0</td>\n",
       "    </tr>\n",
       "    <tr>\n",
       "      <th>5</th>\n",
       "      <td>2</td>\n",
       "      <td>female</td>\n",
       "      <td>5</td>\n",
       "      <td>1</td>\n",
       "      <td>2</td>\n",
       "      <td>1</td>\n",
       "    </tr>\n",
       "    <tr>\n",
       "      <th>6</th>\n",
       "      <td>3</td>\n",
       "      <td>male</td>\n",
       "      <td>35</td>\n",
       "      <td>0</td>\n",
       "      <td>0</td>\n",
       "      <td>0</td>\n",
       "    </tr>\n",
       "    <tr>\n",
       "      <th>7</th>\n",
       "      <td>3</td>\n",
       "      <td>female</td>\n",
       "      <td>19</td>\n",
       "      <td>0</td>\n",
       "      <td>0</td>\n",
       "      <td>1</td>\n",
       "    </tr>\n",
       "    <tr>\n",
       "      <th>8</th>\n",
       "      <td>1</td>\n",
       "      <td>female</td>\n",
       "      <td>35</td>\n",
       "      <td>1</td>\n",
       "      <td>0</td>\n",
       "      <td>1</td>\n",
       "    </tr>\n",
       "    <tr>\n",
       "      <th>9</th>\n",
       "      <td>3</td>\n",
       "      <td>male</td>\n",
       "      <td>2</td>\n",
       "      <td>3</td>\n",
       "      <td>1</td>\n",
       "      <td>0</td>\n",
       "    </tr>\n",
       "    <tr>\n",
       "      <th>10</th>\n",
       "      <td>1</td>\n",
       "      <td>male</td>\n",
       "      <td>71</td>\n",
       "      <td>0</td>\n",
       "      <td>0</td>\n",
       "      <td>0</td>\n",
       "    </tr>\n",
       "    <tr>\n",
       "      <th>11</th>\n",
       "      <td>3</td>\n",
       "      <td>male</td>\n",
       "      <td>24</td>\n",
       "      <td>0</td>\n",
       "      <td>0</td>\n",
       "      <td>0</td>\n",
       "    </tr>\n",
       "    <tr>\n",
       "      <th>12</th>\n",
       "      <td>1</td>\n",
       "      <td>female</td>\n",
       "      <td>38</td>\n",
       "      <td>0</td>\n",
       "      <td>0</td>\n",
       "      <td>1</td>\n",
       "    </tr>\n",
       "    <tr>\n",
       "      <th>13</th>\n",
       "      <td>3</td>\n",
       "      <td>female</td>\n",
       "      <td>16</td>\n",
       "      <td>5</td>\n",
       "      <td>2</td>\n",
       "      <td>0</td>\n",
       "    </tr>\n",
       "    <tr>\n",
       "      <th>14</th>\n",
       "      <td>3</td>\n",
       "      <td>male</td>\n",
       "      <td>32</td>\n",
       "      <td>0</td>\n",
       "      <td>0</td>\n",
       "      <td>0</td>\n",
       "    </tr>\n",
       "    <tr>\n",
       "      <th>15</th>\n",
       "      <td>3</td>\n",
       "      <td>female</td>\n",
       "      <td>40</td>\n",
       "      <td>1</td>\n",
       "      <td>0</td>\n",
       "      <td>0</td>\n",
       "    </tr>\n",
       "    <tr>\n",
       "      <th>16</th>\n",
       "      <td>3</td>\n",
       "      <td>male</td>\n",
       "      <td>31</td>\n",
       "      <td>0</td>\n",
       "      <td>0</td>\n",
       "      <td>0</td>\n",
       "    </tr>\n",
       "    <tr>\n",
       "      <th>17</th>\n",
       "      <td>3</td>\n",
       "      <td>female</td>\n",
       "      <td>27</td>\n",
       "      <td>0</td>\n",
       "      <td>2</td>\n",
       "      <td>1</td>\n",
       "    </tr>\n",
       "    <tr>\n",
       "      <th>18</th>\n",
       "      <td>3</td>\n",
       "      <td>female</td>\n",
       "      <td>57</td>\n",
       "      <td>0</td>\n",
       "      <td>0</td>\n",
       "      <td>1</td>\n",
       "    </tr>\n",
       "    <tr>\n",
       "      <th>19</th>\n",
       "      <td>3</td>\n",
       "      <td>female</td>\n",
       "      <td>4</td>\n",
       "      <td>1</td>\n",
       "      <td>1</td>\n",
       "      <td>1</td>\n",
       "    </tr>\n",
       "  </tbody>\n",
       "</table>\n",
       "</div>"
      ],
      "text/plain": [
       "    Pclass     Sex  Age  SibSp  Parch  Survived\n",
       "0        3    male   28      0      0         0\n",
       "1        1    male   45      1      0         0\n",
       "2        2    male   29      0      0         0\n",
       "3        3    male   44      0      0         0\n",
       "4        2    male   34      0      0         0\n",
       "5        2  female    5      1      2         1\n",
       "6        3    male   35      0      0         0\n",
       "7        3  female   19      0      0         1\n",
       "8        1  female   35      1      0         1\n",
       "9        3    male    2      3      1         0\n",
       "10       1    male   71      0      0         0\n",
       "11       3    male   24      0      0         0\n",
       "12       1  female   38      0      0         1\n",
       "13       3  female   16      5      2         0\n",
       "14       3    male   32      0      0         0\n",
       "15       3  female   40      1      0         0\n",
       "16       3    male   31      0      0         0\n",
       "17       3  female   27      0      2         1\n",
       "18       3  female   57      0      0         1\n",
       "19       3  female    4      1      1         1"
      ]
     },
     "execution_count": 77,
     "metadata": {},
     "output_type": "execute_result"
    }
   ],
   "source": [
    "test"
   ]
  },
  {
   "cell_type": "markdown",
   "id": "a7d878f6-aa00-4303-b397-0e02b30ab5c8",
   "metadata": {},
   "source": [
    "# Example"
   ]
  },
  {
   "cell_type": "code",
   "execution_count": 55,
   "id": "d1980247-2b9a-4adc-b8b5-f19d99819364",
   "metadata": {},
   "outputs": [],
   "source": [
    "edf = pd.DataFrame.from_dict({\n",
    "    'Uczeń': ['A', 'B', 'C', 'D', 'E', 'F'],\n",
    "    'Matematyka': [4, 4, 3, 5, 4, 3],\n",
    "    'Biologia': [4, 5, 4, 3, 4, 5],\n",
    "    'Polski': [5, 4, 4, 5, 4, 3],\n",
    "    'Wiek': ['dorosły', 'dorosły', 'młody', 'młody', 'młody', 'młody'],\n",
    "    'Decyzja': ['T', 'T', 'N', 'N', 'N', 'N']\n",
    "})"
   ]
  },
  {
   "cell_type": "code",
   "execution_count": 56,
   "id": "f7694552-52ec-46f1-af96-ed5707696fbb",
   "metadata": {},
   "outputs": [
    {
     "data": {
      "text/html": [
       "<div>\n",
       "<style scoped>\n",
       "    .dataframe tbody tr th:only-of-type {\n",
       "        vertical-align: middle;\n",
       "    }\n",
       "\n",
       "    .dataframe tbody tr th {\n",
       "        vertical-align: top;\n",
       "    }\n",
       "\n",
       "    .dataframe thead th {\n",
       "        text-align: right;\n",
       "    }\n",
       "</style>\n",
       "<table border=\"1\" class=\"dataframe\">\n",
       "  <thead>\n",
       "    <tr style=\"text-align: right;\">\n",
       "      <th></th>\n",
       "      <th>Uczeń</th>\n",
       "      <th>Matematyka</th>\n",
       "      <th>Biologia</th>\n",
       "      <th>Polski</th>\n",
       "      <th>Wiek</th>\n",
       "      <th>Decyzja</th>\n",
       "    </tr>\n",
       "  </thead>\n",
       "  <tbody>\n",
       "    <tr>\n",
       "      <th>0</th>\n",
       "      <td>A</td>\n",
       "      <td>4</td>\n",
       "      <td>4</td>\n",
       "      <td>5</td>\n",
       "      <td>dorosły</td>\n",
       "      <td>T</td>\n",
       "    </tr>\n",
       "    <tr>\n",
       "      <th>1</th>\n",
       "      <td>B</td>\n",
       "      <td>4</td>\n",
       "      <td>5</td>\n",
       "      <td>4</td>\n",
       "      <td>dorosły</td>\n",
       "      <td>T</td>\n",
       "    </tr>\n",
       "    <tr>\n",
       "      <th>2</th>\n",
       "      <td>C</td>\n",
       "      <td>3</td>\n",
       "      <td>4</td>\n",
       "      <td>4</td>\n",
       "      <td>młody</td>\n",
       "      <td>N</td>\n",
       "    </tr>\n",
       "    <tr>\n",
       "      <th>3</th>\n",
       "      <td>D</td>\n",
       "      <td>5</td>\n",
       "      <td>3</td>\n",
       "      <td>5</td>\n",
       "      <td>młody</td>\n",
       "      <td>N</td>\n",
       "    </tr>\n",
       "    <tr>\n",
       "      <th>4</th>\n",
       "      <td>E</td>\n",
       "      <td>4</td>\n",
       "      <td>4</td>\n",
       "      <td>4</td>\n",
       "      <td>młody</td>\n",
       "      <td>N</td>\n",
       "    </tr>\n",
       "    <tr>\n",
       "      <th>5</th>\n",
       "      <td>F</td>\n",
       "      <td>3</td>\n",
       "      <td>5</td>\n",
       "      <td>3</td>\n",
       "      <td>młody</td>\n",
       "      <td>N</td>\n",
       "    </tr>\n",
       "  </tbody>\n",
       "</table>\n",
       "</div>"
      ],
      "text/plain": [
       "  Uczeń  Matematyka  Biologia  Polski     Wiek Decyzja\n",
       "0     A           4         4       5  dorosły       T\n",
       "1     B           4         5       4  dorosły       T\n",
       "2     C           3         4       4    młody       N\n",
       "3     D           5         3       5    młody       N\n",
       "4     E           4         4       4    młody       N\n",
       "5     F           3         5       3    młody       N"
      ]
     },
     "execution_count": 56,
     "metadata": {},
     "output_type": "execute_result"
    }
   ],
   "source": [
    "edf"
   ]
  },
  {
   "cell_type": "markdown",
   "id": "72be2241-c3f5-47af-ab6e-d2a2d086a05c",
   "metadata": {},
   "source": [
    "# Helper functions"
   ]
  },
  {
   "cell_type": "code",
   "execution_count": 57,
   "id": "29c91915-1889-4eb3-a628-9fa2f69a2aab",
   "metadata": {},
   "outputs": [],
   "source": [
    "numerics = ['int16', 'int32', 'int64', 'float16', 'float32', 'float64']"
   ]
  },
  {
   "cell_type": "code",
   "execution_count": 58,
   "id": "846878ff-c78a-4340-9168-67fed230be57",
   "metadata": {},
   "outputs": [],
   "source": [
    "# measure of dissorder, how impure a set of classes is, if all elements belong to one class entropy is 0\n",
    "def entropy(part):\n",
    "    labels = Counter(part)\n",
    "    p = np.array(list(labels.values())) / labels.total()\n",
    "    return -sum([p_i * math.log2(p_i) if p_i != 0 else 0 for p_i in p])"
   ]
  },
  {
   "cell_type": "code",
   "execution_count": 105,
   "id": "a22b65e3-b747-4e61-86a7-b29cc17a06b5",
   "metadata": {},
   "outputs": [],
   "source": [
    "# how much uncertainty remains in one random variable if we know the value of other variable\n",
    "def cond_entropy(division):\n",
    "    if type(division) is Inequality:\n",
    "        division = division.prepared_for_cond_entropy()\n",
    "    sizes = np.array([len(x) for x in division.values()])\n",
    "    freqs = sizes / sizes.sum()\n",
    "    entropies = np.array([entropy([p[1] for p in part]) for part in division.values()])\n",
    "    return freqs.dot(entropies)"
   ]
  },
  {
   "cell_type": "code",
   "execution_count": 60,
   "id": "80f59eeb-a79c-44ee-bff2-5addf499228e",
   "metadata": {},
   "outputs": [],
   "source": [
    "# how much we reduce the entropy\n",
    "def gain(initial_entropy, conditional_entropy):\n",
    "    return initial_entropy - conditional_entropy"
   ]
  },
  {
   "cell_type": "code",
   "execution_count": 95,
   "id": "35209caf-c32b-47aa-b476-497abc514fc6",
   "metadata": {},
   "outputs": [],
   "source": [
    "class Inequality():\n",
    "    def __init__(self, boundary, greater_or_equal, smaller):\n",
    "        self.boundary = boundary\n",
    "        self.greater_or_equal = greater_or_equal\n",
    "        self.smaller = smaller\n",
    "\n",
    "    def prepared_for_cond_entropy(self):\n",
    "        return {\n",
    "            f'>={self.boundary}': self.greater_or_equal,\n",
    "            f'<{self.boundary}': self.smaller\n",
    "        }\n",
    "\n",
    "    def leaf(self):\n",
    "        if len(self.greater_or_equal) > 0:\n",
    "            return self.self.greater_or_equal[0]\n",
    "        else:\n",
    "            return self.smaller[0]\n",
    "\n",
    "    def __str__(self):\n",
    "        return f'Inequality({self.boundary}, {self.greater_or_equal}, {self.smaller})'"
   ]
  },
  {
   "cell_type": "code",
   "execution_count": 62,
   "id": "a04b2637-93c7-4260-a893-bd481dcc4b31",
   "metadata": {},
   "outputs": [],
   "source": [
    "def number_division(doc, divisor, dividend, boundary):\n",
    "    res1 = []\n",
    "    res2 = []\n",
    "    for i, row in doc.iterrows():\n",
    "        if row[dividend] >= boundary:\n",
    "            res1.append((i, row[divisor]))\n",
    "        if row[dividend] < boundary:\n",
    "            res2.append((i, row[divisor]))\n",
    "\n",
    "    return Inequality(boundary, res1, res2)"
   ]
  },
  {
   "cell_type": "code",
   "execution_count": 63,
   "id": "4c1fb780-df0d-47c8-b717-509cfacd90fe",
   "metadata": {},
   "outputs": [],
   "source": [
    "def number_division_in_subset(doc, subset, divisor, boundary):\n",
    "    res1 = []\n",
    "    res2 = []\n",
    "    subset = sorted(list(map(lambda x: (x[0], x[1], doc.loc[x[0]][divisor]), subset)), key=lambda x: x[2])\n",
    "\n",
    "    for i, label, divisor_value in subset:\n",
    "        if divisor_value >= boundary:\n",
    "            res1.append((i, label))\n",
    "        if divisor_value < boundary:\n",
    "            res2.append((i, label))\n",
    "    \n",
    "    return Inequality(boundary, res1, res2)"
   ]
  },
  {
   "cell_type": "code",
   "execution_count": 64,
   "id": "961e800a-6216-49c8-8f7f-34a9951dc4fb",
   "metadata": {},
   "outputs": [],
   "source": [
    "def candidate_boundaries(doc, divisor, dividend):\n",
    "    res = []\n",
    "    doc = doc.sort_values(dividend)\n",
    "    last_label = doc.iloc[0][divisor]\n",
    "    for i, row in doc.iterrows():\n",
    "        if last_label != row[divisor]:\n",
    "            res.append(row[dividend])\n",
    "            last_label = row[divisor]\n",
    "            \n",
    "    return sorted(res)"
   ]
  },
  {
   "cell_type": "code",
   "execution_count": 65,
   "id": "8f0e7a21-8aec-48fc-9f04-f57b3d125dff",
   "metadata": {},
   "outputs": [],
   "source": [
    "def candidate_boundaries_in_subset(doc, subset, divisor):\n",
    "    subset = list(map(lambda x: (x[0], x[1], doc.loc[x[0]][divisor]), subset))\n",
    "    subset = sorted(subset, key=lambda x: x[2])\n",
    "    \n",
    "    res = []\n",
    "    last_label = subset[0][1]\n",
    "    for _, label, divisor_value in subset:\n",
    "        if last_label != label:\n",
    "            res.append(divisor_value)\n",
    "            last_label = label\n",
    "            \n",
    "    return sorted(res)"
   ]
  },
  {
   "cell_type": "code",
   "execution_count": 66,
   "id": "281d2d43-e786-4ef5-bcc4-aa6c33088424",
   "metadata": {},
   "outputs": [],
   "source": [
    "def best_number_division(doc, divisor, dividend):\n",
    "    boundaries = candidate_boundaries(doc, divisor, dividend)\n",
    "    best_division = None\n",
    "    best_entropy = 0\n",
    "    for boundary in boundaries:\n",
    "        division = number_division(doc, divisor, dividend, boundary)\n",
    "\n",
    "        current_entropy = cond_entropy(division.prepared_for_cond_entropy())\n",
    "        if best_division is None or best_entropy > current_entropy:\n",
    "            best_entropy = current_entropy\n",
    "            best_division = division\n",
    "    return best_division"
   ]
  },
  {
   "cell_type": "code",
   "execution_count": 67,
   "id": "4c3345a0-143b-406a-bd87-96345eadf2c0",
   "metadata": {},
   "outputs": [],
   "source": [
    "# only for first iteration, split dataset based on divisor column, with dividend column values\n",
    "def initial_divide(doc, divisor, dividend):\n",
    "    division = {}\n",
    "    for i, row in doc.iterrows():\n",
    "        if row[divisor] not in division:\n",
    "            division[row[divisor]] = []\n",
    "        division[row[divisor]].append((i, row[dividend]))\n",
    "    return division"
   ]
  },
  {
   "cell_type": "code",
   "execution_count": null,
   "id": "1f2d54f5",
   "metadata": {},
   "outputs": [],
   "source": [
    "# for other iterations, same as initial, but works on subsets\n",
    "def divide(doc, subset, divisor):\n",
    "    division = {}\n",
    "    if doc.dtypes[divisor] in numerics:\n",
    "        boundaries = candidate_boundaries_in_subset(doc, subset, divisor)\n",
    "        best_division = None\n",
    "        best_entropy = 0\n",
    "        for boundary in boundaries:\n",
    "            division = number_division_in_subset(doc, subset, divisor, boundary)\n",
    "    \n",
    "            current_entropy = cond_entropy(division.prepared_for_cond_entropy())\n",
    "            if best_division is None or best_entropy > current_entropy:\n",
    "                best_entropy = current_entropy\n",
    "                best_division = division\n",
    "        division = best_division\n",
    "    else:\n",
    "        for i, label in subset:\n",
    "            row = doc.iloc[i]\n",
    "            if row[divisor] not in division:\n",
    "                division[row[divisor]] = []\n",
    "            division[row[divisor]].append((i, label))\n",
    "    return division"
   ]
  },
  {
   "cell_type": "code",
   "execution_count": 122,
   "id": "27ffaa39-cbbf-4711-9e9a-5b3513787e17",
   "metadata": {},
   "outputs": [],
   "source": [
    "def initial_divide(doc, divisor, dividend):\n",
    "    division = {}\n",
    "    if doc.dtypes[divisor] in numerics:\n",
    "        division = best_number_division(doc, dividend, divisor)\n",
    "    else:\n",
    "        for i, row in doc.iterrows():\n",
    "            if row[divisor] not in division:\n",
    "                division[row[divisor]] = []\n",
    "            division[row[divisor]].append((i, row[dividend]))\n",
    "    return division"
   ]
  },
  {
   "cell_type": "code",
   "execution_count": 83,
   "id": "c689e70e-5bc1-43fb-85f8-11cbd07c7d42",
   "metadata": {},
   "outputs": [],
   "source": [
    "def is_leaf(subset):\n",
    "    if type(subset) is Inequality:\n",
    "        gr_or_eq_subset = Counter([part[1] for part in subset.greater_or_equal])\n",
    "        sm_subset = Counter([part[1] for part in subset.smaller])\n",
    "        a = len(gr_or_eq_subset.keys())\n",
    "        b = len(sm_subset.keys())\n",
    "        return (a == 1 and b == 0) or (a == 0 and b == 1)\n",
    "    x = Counter([part[1] for part in subset])\n",
    "    return len(x.keys()) == 1"
   ]
  },
  {
   "cell_type": "code",
   "execution_count": 16,
   "id": "51e6de2d-dbcb-48f7-bff7-a0e8db0dc8fc",
   "metadata": {},
   "outputs": [
    {
     "data": {
      "text/plain": [
       "{4: [(0, 'T'), (1, 'T'), (4, 'N')], 3: [(2, 'N'), (5, 'N')], 5: [(3, 'N')]}"
      ]
     },
     "execution_count": 16,
     "metadata": {},
     "output_type": "execute_result"
    }
   ],
   "source": [
    "division = initial_divide(edf, 'Matematyka', 'Decyzja')\n",
    "division"
   ]
  },
  {
   "cell_type": "code",
   "execution_count": 17,
   "id": "78fb5442-5f6c-4883-aa46-8ce802c682a0",
   "metadata": {},
   "outputs": [
    {
     "data": {
      "text/plain": [
       "np.float64(0.9182958340544896)"
      ]
     },
     "execution_count": 17,
     "metadata": {},
     "output_type": "execute_result"
    }
   ],
   "source": [
    "initial_entropy = entropy(edf['Decyzja'])\n",
    "initial_entropy"
   ]
  },
  {
   "cell_type": "code",
   "execution_count": 18,
   "id": "62f70add-5485-447a-8c55-28e068fadd00",
   "metadata": {},
   "outputs": [
    {
     "data": {
      "text/plain": [
       "np.float64(0.4591479170272448)"
      ]
     },
     "execution_count": 18,
     "metadata": {},
     "output_type": "execute_result"
    }
   ],
   "source": [
    "conditional_entropy = cond_entropy(division)\n",
    "conditional_entropy"
   ]
  },
  {
   "cell_type": "code",
   "execution_count": 19,
   "id": "c7153df0-dac0-4911-8276-469df5128e79",
   "metadata": {},
   "outputs": [
    {
     "data": {
      "text/plain": [
       "np.float64(0.4591479170272448)"
      ]
     },
     "execution_count": 19,
     "metadata": {},
     "output_type": "execute_result"
    }
   ],
   "source": [
    "gain(initial_entropy, conditional_entropy)"
   ]
  },
  {
   "cell_type": "code",
   "execution_count": 20,
   "id": "3a678507-4f88-4e57-bdc2-1e40b4358edd",
   "metadata": {},
   "outputs": [
    {
     "data": {
      "text/plain": [
       "{4: [(0, 'T'), (2, 'N'), (4, 'N')], 5: [(1, 'T'), (5, 'N')], 3: [(3, 'N')]}"
      ]
     },
     "execution_count": 20,
     "metadata": {},
     "output_type": "execute_result"
    }
   ],
   "source": [
    "division2 = initial_divide(edf, 'Biologia', 'Decyzja')\n",
    "division2"
   ]
  },
  {
   "cell_type": "code",
   "execution_count": 21,
   "id": "7f33e77a-6966-4b4f-86cc-de555bac8b71",
   "metadata": {},
   "outputs": [
    {
     "data": {
      "text/plain": [
       "np.float64(0.792481250360578)"
      ]
     },
     "execution_count": 23,
     "metadata": {},
     "output_type": "execute_result"
    }
   ],
   "source": [
    "conditional_entropy2 = cond_entropy(division2)\n",
    "conditional_entropy2"
   ]
  },
  {
   "cell_type": "code",
   "execution_count": 22,
   "id": "d9e22359-2a66-4069-80bd-fe4739485e7a",
   "metadata": {},
   "outputs": [
    {
     "data": {
      "text/plain": [
       "np.float64(0.12581458369391152)"
      ]
     },
     "execution_count": 24,
     "metadata": {},
     "output_type": "execute_result"
    }
   ],
   "source": [
    "gain(initial_entropy, conditional_entropy2)"
   ]
  },
  {
   "cell_type": "code",
   "execution_count": 23,
   "id": "498c4481-52a4-4202-ba57-32ed0b0285c6",
   "metadata": {},
   "outputs": [
    {
     "data": {
      "text/plain": [
       "{5: [(0, 'T'), (3, 'N')], 4: [(1, 'T'), (2, 'N'), (4, 'N')], 3: [(5, 'N')]}"
      ]
     },
     "execution_count": 23,
     "metadata": {},
     "output_type": "execute_result"
    }
   ],
   "source": [
    "division3 = initial_divide(edf, 'Polski', 'Decyzja')\n",
    "division3"
   ]
  },
  {
   "cell_type": "code",
   "execution_count": 24,
   "id": "d8cfba76-abb4-46b9-b3f8-3e79327da4dc",
   "metadata": {},
   "outputs": [
    {
     "data": {
      "text/plain": [
       "np.float64(0.792481250360578)"
      ]
     },
     "execution_count": 24,
     "metadata": {},
     "output_type": "execute_result"
    }
   ],
   "source": [
    "conditional_entropy3 = cond_entropy(division3)\n",
    "conditional_entropy3"
   ]
  },
  {
   "cell_type": "code",
   "execution_count": 25,
   "id": "38067dbf-852f-43a6-93cb-486728a42cd0",
   "metadata": {},
   "outputs": [
    {
     "data": {
      "text/plain": [
       "np.float64(0.12581458369391152)"
      ]
     },
     "execution_count": 25,
     "metadata": {},
     "output_type": "execute_result"
    }
   ],
   "source": [
    "gain(initial_entropy, conditional_entropy3)"
   ]
  },
  {
   "cell_type": "code",
   "execution_count": 26,
   "id": "2ddb2669-03b6-4888-8f53-62a3f95f0e81",
   "metadata": {},
   "outputs": [
    {
     "data": {
      "text/plain": [
       "{np.int64(4): [(0, 'T'), (4, 'N')], np.int64(5): [(1, 'T')]}"
      ]
     },
     "execution_count": 26,
     "metadata": {},
     "output_type": "execute_result"
    }
   ],
   "source": [
    "nl_division = divide(edf, [(0, 'T'), (1, 'T'), (4, 'N')], 'Biologia')\n",
    "nl_division"
   ]
  },
  {
   "cell_type": "code",
   "execution_count": 27,
   "id": "3d1c46cb-965a-4813-8304-b26399717ac6",
   "metadata": {},
   "outputs": [
    {
     "data": {
      "text/plain": [
       "np.float64(0.6666666666666666)"
      ]
     },
     "execution_count": 29,
     "metadata": {},
     "output_type": "execute_result"
    }
   ],
   "source": [
    "conditional_entropy4 = cond_entropy(nl_division)\n",
    "conditional_entropy4"
   ]
  },
  {
   "cell_type": "code",
   "execution_count": 28,
   "id": "a9beb9f6-b07a-44e7-ae38-0fd7dd18fe5e",
   "metadata": {},
   "outputs": [
    {
     "data": {
      "text/plain": [
       "np.float64(0.2516291673878229)"
      ]
     },
     "execution_count": 30,
     "metadata": {},
     "output_type": "execute_result"
    }
   ],
   "source": [
    "gain(initial_entropy, conditional_entropy4)"
   ]
  },
  {
   "cell_type": "code",
   "execution_count": 29,
   "id": "3716010a-bba2-41c4-9c56-b80890d5e61e",
   "metadata": {},
   "outputs": [
    {
     "data": {
      "text/plain": [
       "{np.int64(5): [(0, 'T')], np.int64(4): [(1, 'T'), (4, 'N')]}"
      ]
     },
     "execution_count": 29,
     "metadata": {},
     "output_type": "execute_result"
    }
   ],
   "source": [
    "nl_division2 = divide(edf, [(0, 'T'), (1, 'T'), (4, 'N')], 'Polski')\n",
    "nl_division2"
   ]
  },
  {
   "cell_type": "code",
   "execution_count": 30,
   "id": "161f29b5-9b30-4463-99c6-7880ee5e40e5",
   "metadata": {},
   "outputs": [
    {
     "data": {
      "text/plain": [
       "np.float64(0.6666666666666666)"
      ]
     },
     "execution_count": 30,
     "metadata": {},
     "output_type": "execute_result"
    }
   ],
   "source": [
    "conditional_entropy5 = cond_entropy(nl_division2)\n",
    "conditional_entropy5"
   ]
  },
  {
   "cell_type": "code",
   "execution_count": 31,
   "id": "defc08f9-3184-4be8-aa52-5c6b73f9aff3",
   "metadata": {},
   "outputs": [
    {
     "data": {
      "text/plain": [
       "np.float64(0.2516291673878229)"
      ]
     },
     "execution_count": 31,
     "metadata": {},
     "output_type": "execute_result"
    }
   ],
   "source": [
    "gain(initial_entropy, conditional_entropy5)"
   ]
  },
  {
   "cell_type": "code",
   "execution_count": 32,
   "id": "e36d0907-07d5-420d-a0cb-312fbed7c6e1",
   "metadata": {},
   "outputs": [
    {
     "data": {
      "text/plain": [
       "True"
      ]
     },
     "execution_count": 32,
     "metadata": {},
     "output_type": "execute_result"
    }
   ],
   "source": [
    "is_leaf(nl_division[5])"
   ]
  },
  {
   "cell_type": "markdown",
   "id": "0cd6060f-795e-4c8e-bd05-bc587d314e71",
   "metadata": {},
   "source": [
    "# Algorithm"
   ]
  },
  {
   "cell_type": "code",
   "execution_count": 354,
   "id": "ecc4751f-a368-4a76-8f7c-33ae6063e370",
   "metadata": {},
   "outputs": [],
   "source": [
    "def decision_tree(doc, label):\n",
    "    initial_entropy = entropy(doc[label])\n",
    "\n",
    "    tree = {}\n",
    "    columns = doc.columns.drop(label)\n",
    "\n",
    "    # calculate initial division entropy gains\n",
    "    # select the best division (biggest gain)\n",
    "    best_initial_division = None\n",
    "    best_gain = 0\n",
    "    best_column = None\n",
    "    for column in columns:\n",
    "        division = initial_divide(doc, column, label)\n",
    "        conditional_entropy = cond_entropy(division) if type(division) is not Inequality else cond_entropy(division.prepared_for_cond_entropy())\n",
    "        g = gain(initial_entropy, conditional_entropy)\n",
    "        if best_gain < g:\n",
    "            best_column = column\n",
    "            best_gain = g\n",
    "            best_initial_division = division\n",
    "    \n",
    "    current_entropy = best_gain\n",
    "\n",
    "    # initialize tree root\n",
    "    tree[best_column] = {}\n",
    "    curr_tree = tree[best_column]\n",
    "\n",
    "    # node queue\n",
    "    nodes = []\n",
    "\n",
    "    if doc.dtypes[best_column] not in numerics:\n",
    "        labels_counter = Counter()\n",
    "        doc_keys = doc[best_column].unique()\n",
    "    \n",
    "        # fill tree node\n",
    "        for k, v in best_initial_division.items():\n",
    "            if is_leaf(v):\n",
    "                curr_tree[k] = v[0][1]\n",
    "                labels_counter[v[0][1]] += 1\n",
    "            else:\n",
    "                curr_tree[k] = {}\n",
    "                nodes.append((curr_tree[k], v, best_column))\n",
    "\n",
    "        # fill in absent keys\n",
    "        absent_keys = set(best_initial_division.keys()).symmetric_difference(set(doc_keys))\n",
    "\n",
    "        for absent_key in absent_keys:\n",
    "            curr_tree[absent_key] = labels_counter.most_common()[0][0]\n",
    "\n",
    "    # do the same but for every subnode\n",
    "    while len(nodes) > 0:\n",
    "        curr_tree, subset, last_column = nodes.pop(0)\n",
    "\n",
    "        # find best division\n",
    "        best_division = None\n",
    "        best_gain = 0\n",
    "        best_column = None\n",
    "        for column in columns.drop(last_column):\n",
    "            division = divide(doc, subset, column)\n",
    "            conditional_entropy = cond_entropy(division) if type(division) is not Inequality else cond_entropy(division.prepared_for_cond_entropy())\n",
    "            g = gain(initial_entropy, conditional_entropy)\n",
    "            if best_gain < g:\n",
    "                best_column = column\n",
    "                best_gain = g\n",
    "                best_division = division\n",
    "\n",
    "        # initialize subnode root\n",
    "        curr_tree[best_column] = {}\n",
    "        curr_tree = curr_tree[best_column]\n",
    "\n",
    "        if doc.dtypes[best_column] not in numerics:\n",
    "            labels_counter = Counter()\n",
    "            doc_keys = doc[best_column].unique()\n",
    "    \n",
    "            # fill in the subnode leafs\n",
    "            for k, v in best_division.items():\n",
    "                if is_leaf(v):\n",
    "                    curr_tree[k] = v[0][1]\n",
    "                    labels_counter[v[0][1]] += 1\n",
    "                else:\n",
    "                    curr_tree[k] = {}\n",
    "                    nodes.append((curr_tree[k], v, best_column))\n",
    "    \n",
    "            # fill in the missing leafs\n",
    "            absent_keys = set(best_division.keys()).symmetric_difference(set(doc_keys))\n",
    "    \n",
    "            for absent_key in absent_keys:\n",
    "                curr_tree[absent_key] = labels_counter.most_common()[0][0]\n",
    "    \n",
    "    return tree"
   ]
  },
  {
   "cell_type": "code",
   "execution_count": 355,
   "id": "67206037-810d-45db-b164-e06e4fb5e99e",
   "metadata": {},
   "outputs": [
    {
     "name": "stdout",
     "output_type": "stream",
     "text": [
      "Matematyka\n"
     ]
    },
    {
     "data": {
      "text/plain": [
       "{'Matematyka': {}}"
      ]
     },
     "execution_count": 355,
     "metadata": {},
     "output_type": "execute_result"
    }
   ],
   "source": [
    "model = decision_tree(example, 'Decyzja')\n",
    "model"
   ]
  },
  {
   "cell_type": "code",
   "execution_count": 67,
   "id": "8720f81d-24e7-4a1d-aa77-9e44a21888db",
   "metadata": {},
   "outputs": [
    {
     "name": "stdout",
     "output_type": "stream",
     "text": [
      "{'Matematyka': {4: {'Biologia': {np.int64(4): {'Polski': {np.int64(5): 'T',\n",
      "                                                          np.int64(4): 'N',\n",
      "                                                          np.int64(3): 'T'}},\n",
      "                                 np.int64(5): 'T',\n",
      "                                 np.int64(3): 'T'}},\n",
      "                3: 'N',\n",
      "                5: 'N'}}\n"
     ]
    }
   ],
   "source": [
    "pprint.pp(model)"
   ]
  },
  {
   "cell_type": "code",
   "execution_count": 39,
   "id": "02da0ccf-5b69-4d3a-a430-2c85ce204fa8",
   "metadata": {},
   "outputs": [
    {
     "data": {
      "text/html": [
       "<div>\n",
       "<style scoped>\n",
       "    .dataframe tbody tr th:only-of-type {\n",
       "        vertical-align: middle;\n",
       "    }\n",
       "\n",
       "    .dataframe tbody tr th {\n",
       "        vertical-align: top;\n",
       "    }\n",
       "\n",
       "    .dataframe thead th {\n",
       "        text-align: right;\n",
       "    }\n",
       "</style>\n",
       "<table border=\"1\" class=\"dataframe\">\n",
       "  <thead>\n",
       "    <tr style=\"text-align: right;\">\n",
       "      <th></th>\n",
       "      <th>Pclass</th>\n",
       "      <th>Sex</th>\n",
       "      <th>Age</th>\n",
       "      <th>SibSp</th>\n",
       "      <th>Parch</th>\n",
       "      <th>Survived</th>\n",
       "    </tr>\n",
       "  </thead>\n",
       "  <tbody>\n",
       "    <tr>\n",
       "      <th>0</th>\n",
       "      <td>3</td>\n",
       "      <td>male</td>\n",
       "      <td>31</td>\n",
       "      <td>0</td>\n",
       "      <td>0</td>\n",
       "      <td>0</td>\n",
       "    </tr>\n",
       "    <tr>\n",
       "      <th>1</th>\n",
       "      <td>3</td>\n",
       "      <td>male</td>\n",
       "      <td>59</td>\n",
       "      <td>0</td>\n",
       "      <td>0</td>\n",
       "      <td>0</td>\n",
       "    </tr>\n",
       "    <tr>\n",
       "      <th>2</th>\n",
       "      <td>3</td>\n",
       "      <td>male</td>\n",
       "      <td>27</td>\n",
       "      <td>0</td>\n",
       "      <td>0</td>\n",
       "      <td>0</td>\n",
       "    </tr>\n",
       "    <tr>\n",
       "      <th>3</th>\n",
       "      <td>2</td>\n",
       "      <td>female</td>\n",
       "      <td>27</td>\n",
       "      <td>1</td>\n",
       "      <td>0</td>\n",
       "      <td>1</td>\n",
       "    </tr>\n",
       "    <tr>\n",
       "      <th>4</th>\n",
       "      <td>3</td>\n",
       "      <td>male</td>\n",
       "      <td>24</td>\n",
       "      <td>0</td>\n",
       "      <td>0</td>\n",
       "      <td>0</td>\n",
       "    </tr>\n",
       "    <tr>\n",
       "      <th>...</th>\n",
       "      <td>...</td>\n",
       "      <td>...</td>\n",
       "      <td>...</td>\n",
       "      <td>...</td>\n",
       "      <td>...</td>\n",
       "      <td>...</td>\n",
       "    </tr>\n",
       "    <tr>\n",
       "      <th>75</th>\n",
       "      <td>3</td>\n",
       "      <td>female</td>\n",
       "      <td>8</td>\n",
       "      <td>3</td>\n",
       "      <td>1</td>\n",
       "      <td>0</td>\n",
       "    </tr>\n",
       "    <tr>\n",
       "      <th>76</th>\n",
       "      <td>1</td>\n",
       "      <td>male</td>\n",
       "      <td>57</td>\n",
       "      <td>0</td>\n",
       "      <td>0</td>\n",
       "      <td>0</td>\n",
       "    </tr>\n",
       "    <tr>\n",
       "      <th>77</th>\n",
       "      <td>3</td>\n",
       "      <td>male</td>\n",
       "      <td>34</td>\n",
       "      <td>0</td>\n",
       "      <td>0</td>\n",
       "      <td>0</td>\n",
       "    </tr>\n",
       "    <tr>\n",
       "      <th>78</th>\n",
       "      <td>3</td>\n",
       "      <td>female</td>\n",
       "      <td>63</td>\n",
       "      <td>0</td>\n",
       "      <td>0</td>\n",
       "      <td>1</td>\n",
       "    </tr>\n",
       "    <tr>\n",
       "      <th>79</th>\n",
       "      <td>3</td>\n",
       "      <td>male</td>\n",
       "      <td>41</td>\n",
       "      <td>1</td>\n",
       "      <td>0</td>\n",
       "      <td>0</td>\n",
       "    </tr>\n",
       "  </tbody>\n",
       "</table>\n",
       "<p>80 rows × 6 columns</p>\n",
       "</div>"
      ],
      "text/plain": [
       "    Pclass     Sex  Age  SibSp  Parch  Survived\n",
       "0        3    male   31      0      0         0\n",
       "1        3    male   59      0      0         0\n",
       "2        3    male   27      0      0         0\n",
       "3        2  female   27      1      0         1\n",
       "4        3    male   24      0      0         0\n",
       "..     ...     ...  ...    ...    ...       ...\n",
       "75       3  female    8      3      1         0\n",
       "76       1    male   57      0      0         0\n",
       "77       3    male   34      0      0         0\n",
       "78       3  female   63      0      0         1\n",
       "79       3    male   41      1      0         0\n",
       "\n",
       "[80 rows x 6 columns]"
      ]
     },
     "execution_count": 39,
     "metadata": {},
     "output_type": "execute_result"
    }
   ],
   "source": [
    "train.drop(['PassengerId', 'Name'], axis=1)"
   ]
  },
  {
   "cell_type": "code",
   "execution_count": 80,
   "id": "9db88631-2cdf-4cc3-a29e-07e153523975",
   "metadata": {},
   "outputs": [
    {
     "data": {
      "text/plain": [
       "Pclass       int64\n",
       "Sex         object\n",
       "Age          int64\n",
       "SibSp        int64\n",
       "Parch        int64\n",
       "Survived     int64\n",
       "dtype: object"
      ]
     },
     "execution_count": 80,
     "metadata": {},
     "output_type": "execute_result"
    }
   ],
   "source": [
    "train.dtypes"
   ]
  },
  {
   "cell_type": "code",
   "execution_count": 81,
   "id": "8222866b-6cbe-4072-8276-60a8c58692bd",
   "metadata": {},
   "outputs": [
    {
     "data": {
      "text/plain": [
       "Index(['Pclass', 'Sex', 'Age', 'SibSp', 'Parch', 'Survived'], dtype='object')"
      ]
     },
     "execution_count": 81,
     "metadata": {},
     "output_type": "execute_result"
    }
   ],
   "source": [
    "train.columns"
   ]
  },
  {
   "cell_type": "code",
   "execution_count": 84,
   "id": "f358971e-af6b-4c92-a83d-639c4019cfc9",
   "metadata": {},
   "outputs": [],
   "source": [
    "numerics = ['int16', 'int32', 'int64', 'float16', 'float32', 'float64']"
   ]
  },
  {
   "cell_type": "code",
   "execution_count": 87,
   "id": "c10e0eee-00fa-4d9e-99bb-e76e8d790440",
   "metadata": {},
   "outputs": [
    {
     "data": {
      "text/plain": [
       "True"
      ]
     },
     "execution_count": 87,
     "metadata": {},
     "output_type": "execute_result"
    }
   ],
   "source": [
    "train.dtypes['Pclass'] in numerics"
   ]
  },
  {
   "cell_type": "code",
   "execution_count": 40,
   "id": "3b13d77d-83f4-4eb2-be03-add223c69b65",
   "metadata": {
    "scrolled": true
   },
   "outputs": [
    {
     "data": {
      "text/plain": [
       "{'Age': {31: 0,\n",
       "  59: 0,\n",
       "  27: {'Sex': {'male': 0, 'female': 1}},\n",
       "  24: 0,\n",
       "  18: {'SibSp': {np.int64(2): 0,\n",
       "    np.int64(0): 1,\n",
       "    np.int64(1): 0,\n",
       "    np.int64(3): 0,\n",
       "    np.int64(4): 0,\n",
       "    np.int64(5): 0}},\n",
       "  44: 0,\n",
       "  46: 0,\n",
       "  14: {'Pclass': {np.int64(3): {'SibSp': {np.int64(1): 0,\n",
       "      np.int64(0): 1,\n",
       "      np.int64(2): 0,\n",
       "      np.int64(3): 0,\n",
       "      np.int64(4): 0,\n",
       "      np.int64(5): 0}},\n",
       "    np.int64(2): 1,\n",
       "    np.int64(1): 1}},\n",
       "  77: 1,\n",
       "  58: 1,\n",
       "  13: 1,\n",
       "  34: 0,\n",
       "  4: {'Sex': {'male': 0, 'female': 1}},\n",
       "  29: 1,\n",
       "  38: 1,\n",
       "  55: 1,\n",
       "  25: 0,\n",
       "  2: 0,\n",
       "  52: 0,\n",
       "  6: 1,\n",
       "  28: {'Pclass': {np.int64(1): {'SibSp': {np.int64(0): 1,\n",
       "      np.int64(1): 0,\n",
       "      np.int64(2): 1,\n",
       "      np.int64(3): 1,\n",
       "      np.int64(4): 1,\n",
       "      np.int64(5): 1}},\n",
       "    np.int64(3): 0,\n",
       "    np.int64(2): 0}},\n",
       "  40: {'Pclass': {np.int64(3): 0, np.int64(1): 1, np.int64(2): 0}},\n",
       "  21: {'Sex': {'male': 0, 'female': 1}},\n",
       "  33: 1,\n",
       "  19: 0,\n",
       "  32: 0,\n",
       "  49: 1,\n",
       "  57: {'Pclass': {np.int64(3): 1, np.int64(1): 0, np.int64(2): 1}},\n",
       "  35: {'Pclass': {np.int64(1): 1, np.int64(3): 0, np.int64(2): 1}},\n",
       "  30: 1,\n",
       "  5: 1,\n",
       "  12: 1,\n",
       "  26: {'Sex': {'male': 0, 'female': 1}},\n",
       "  16: 0,\n",
       "  39: 0,\n",
       "  71: 0,\n",
       "  22: 0,\n",
       "  7: 0,\n",
       "  42: 0,\n",
       "  37: 0,\n",
       "  45: 0,\n",
       "  23: 1,\n",
       "  15: 1,\n",
       "  20: 0,\n",
       "  54: 0,\n",
       "  8: 0,\n",
       "  63: 1,\n",
       "  41: 0}}"
      ]
     },
     "execution_count": 40,
     "metadata": {},
     "output_type": "execute_result"
    }
   ],
   "source": [
    "model = decision_tree(train.drop(['PassengerId', 'Name'], axis=1), 'Survived')\n",
    "model"
   ]
  },
  {
   "cell_type": "code",
   "execution_count": 41,
   "id": "be9b479b",
   "metadata": {},
   "outputs": [],
   "source": [
    "def enumerate_tree(tree, parent, depth):\n",
    "    item_i = 0\n",
    "    for i,k in sorted(enumerate(tree), key=lambda x:x[1]):     \n",
    "        if isinstance(tree[k], dict):\n",
    "            enumerate_tree(tree[k], k, depth + 1)\n",
    "        else:\n",
    "            sign = ' > ' if item_i == len(tree) - 1 else ' <= '\n",
    "            if isinstance(k, np.int64) or isinstance(k, str):\n",
    "                sign = ' = '\n",
    "            print('|     '*(depth//2),'|---- ', parent, sign , k, sep='')\n",
    "            print('|     '*(depth//2),'|---- ', tree[k], sep='')\n",
    "        item_i+= 1"
   ]
  },
  {
   "cell_type": "code",
   "execution_count": 42,
   "id": "8fd55269",
   "metadata": {
    "scrolled": true
   },
   "outputs": [
    {
     "name": "stdout",
     "output_type": "stream",
     "text": [
      "|---- Age <= 2\n",
      "|---- 0\n",
      "|     |---- Sex = female\n",
      "|     |---- 1\n",
      "|     |---- Sex = male\n",
      "|     |---- 0\n",
      "|---- Age <= 5\n",
      "|---- 1\n",
      "|---- Age <= 6\n",
      "|---- 1\n",
      "|---- Age <= 7\n",
      "|---- 0\n",
      "|---- Age <= 8\n",
      "|---- 0\n",
      "|---- Age <= 12\n",
      "|---- 1\n",
      "|---- Age <= 13\n",
      "|---- 1\n",
      "|     |---- Pclass = 1\n",
      "|     |---- 1\n",
      "|     |---- Pclass = 2\n",
      "|     |---- 1\n",
      "|     |     |---- SibSp = 0\n",
      "|     |     |---- 1\n",
      "|     |     |---- SibSp = 1\n",
      "|     |     |---- 0\n",
      "|     |     |---- SibSp = 2\n",
      "|     |     |---- 0\n",
      "|     |     |---- SibSp = 3\n",
      "|     |     |---- 0\n",
      "|     |     |---- SibSp = 4\n",
      "|     |     |---- 0\n",
      "|     |     |---- SibSp = 5\n",
      "|     |     |---- 0\n",
      "|---- Age <= 15\n",
      "|---- 1\n",
      "|---- Age <= 16\n",
      "|---- 0\n",
      "|     |---- SibSp = 0\n",
      "|     |---- 1\n",
      "|     |---- SibSp = 1\n",
      "|     |---- 0\n",
      "|     |---- SibSp = 2\n",
      "|     |---- 0\n",
      "|     |---- SibSp = 3\n",
      "|     |---- 0\n",
      "|     |---- SibSp = 4\n",
      "|     |---- 0\n",
      "|     |---- SibSp = 5\n",
      "|     |---- 0\n",
      "|---- Age <= 19\n",
      "|---- 0\n",
      "|---- Age <= 20\n",
      "|---- 0\n",
      "|     |---- Sex = female\n",
      "|     |---- 1\n",
      "|     |---- Sex = male\n",
      "|     |---- 0\n",
      "|---- Age <= 22\n",
      "|---- 0\n",
      "|---- Age <= 23\n",
      "|---- 1\n",
      "|---- Age <= 24\n",
      "|---- 0\n",
      "|---- Age <= 25\n",
      "|---- 0\n",
      "|     |---- Sex = female\n",
      "|     |---- 1\n",
      "|     |---- Sex = male\n",
      "|     |---- 0\n",
      "|     |---- Sex = female\n",
      "|     |---- 1\n",
      "|     |---- Sex = male\n",
      "|     |---- 0\n",
      "|     |     |---- SibSp = 0\n",
      "|     |     |---- 1\n",
      "|     |     |---- SibSp = 1\n",
      "|     |     |---- 0\n",
      "|     |     |---- SibSp = 2\n",
      "|     |     |---- 1\n",
      "|     |     |---- SibSp = 3\n",
      "|     |     |---- 1\n",
      "|     |     |---- SibSp = 4\n",
      "|     |     |---- 1\n",
      "|     |     |---- SibSp = 5\n",
      "|     |     |---- 1\n",
      "|     |---- Pclass = 2\n",
      "|     |---- 0\n",
      "|     |---- Pclass = 3\n",
      "|     |---- 0\n",
      "|---- Age <= 29\n",
      "|---- 1\n",
      "|---- Age <= 30\n",
      "|---- 1\n",
      "|---- Age <= 31\n",
      "|---- 0\n",
      "|---- Age <= 32\n",
      "|---- 0\n",
      "|---- Age <= 33\n",
      "|---- 1\n",
      "|---- Age <= 34\n",
      "|---- 0\n",
      "|     |---- Pclass = 1\n",
      "|     |---- 1\n",
      "|     |---- Pclass = 2\n",
      "|     |---- 1\n",
      "|     |---- Pclass = 3\n",
      "|     |---- 0\n",
      "|---- Age <= 37\n",
      "|---- 0\n",
      "|---- Age <= 38\n",
      "|---- 1\n",
      "|---- Age <= 39\n",
      "|---- 0\n",
      "|     |---- Pclass = 1\n",
      "|     |---- 1\n",
      "|     |---- Pclass = 2\n",
      "|     |---- 0\n",
      "|     |---- Pclass = 3\n",
      "|     |---- 0\n",
      "|---- Age <= 41\n",
      "|---- 0\n",
      "|---- Age <= 42\n",
      "|---- 0\n",
      "|---- Age <= 44\n",
      "|---- 0\n",
      "|---- Age <= 45\n",
      "|---- 0\n",
      "|---- Age <= 46\n",
      "|---- 0\n",
      "|---- Age <= 49\n",
      "|---- 1\n",
      "|---- Age <= 52\n",
      "|---- 0\n",
      "|---- Age <= 54\n",
      "|---- 0\n",
      "|---- Age <= 55\n",
      "|---- 1\n",
      "|     |---- Pclass = 1\n",
      "|     |---- 0\n",
      "|     |---- Pclass = 2\n",
      "|     |---- 1\n",
      "|     |---- Pclass = 3\n",
      "|     |---- 1\n",
      "|---- Age <= 58\n",
      "|---- 1\n",
      "|---- Age <= 59\n",
      "|---- 0\n",
      "|---- Age <= 63\n",
      "|---- 1\n",
      "|---- Age <= 71\n",
      "|---- 0\n",
      "|---- Age > 77\n",
      "|---- 1\n"
     ]
    }
   ],
   "source": [
    "enumerate_tree(model, None, 0)"
   ]
  },
  {
   "cell_type": "code",
   "execution_count": 43,
   "id": "17a2e9f3-1113-43ec-a208-6fc30db07f80",
   "metadata": {},
   "outputs": [],
   "source": [
    "def predict(model, example):\n",
    "    key = list(model.keys())[0]\n",
    "    subtree = model\n",
    "\n",
    "    while True:\n",
    "        subtree = subtree[key][example[key]]\n",
    "        if type(subtree) is dict:\n",
    "            key = list(subtree.keys())[0]\n",
    "        else:\n",
    "            return subtree"
   ]
  },
  {
   "cell_type": "code",
   "execution_count": 44,
   "id": "d8e6d301-46a0-4393-93fd-9165ddb7ec6f",
   "metadata": {
    "scrolled": true
   },
   "outputs": [
    {
     "name": "stdout",
     "output_type": "stream",
     "text": [
      "Calculating accuracy...\n",
      "PassengerId                         20\n",
      "Pclass                               3\n",
      "Name           Masselmani, Mrs. Fatima\n",
      "Sex                             female\n",
      "Age                                 63\n",
      "SibSp                                0\n",
      "Parch                                0\n",
      "Survived                             1\n",
      "Name: 0, dtype: object\n",
      "PassengerId                             82\n",
      "Pclass                                   2\n",
      "Name           Sheerlinck, Mr. Jan Baptist\n",
      "Sex                                   male\n",
      "Age                                     29\n",
      "SibSp                                    0\n",
      "Parch                                    0\n",
      "Survived                                 0\n",
      "Name: 1, dtype: object\n",
      "PassengerId                      91\n",
      "Pclass                            3\n",
      "Name           Christmann, Mr. Emil\n",
      "Sex                            male\n",
      "Age                              29\n",
      "SibSp                             0\n",
      "Parch                             0\n",
      "Survived                          0\n",
      "Name: 2, dtype: object\n",
      "PassengerId                               45\n",
      "Pclass                                     3\n",
      "Name           Devaney, Miss. Margaret Delia\n",
      "Sex                                   female\n",
      "Age                                       19\n",
      "SibSp                                      0\n",
      "Parch                                      0\n",
      "Survived                                   1\n",
      "Name: 3, dtype: object\n",
      "PassengerId                          78\n",
      "Pclass                                3\n",
      "Name           Moutal, Mr. Rahamin Haim\n",
      "Sex                                male\n",
      "Age                                  22\n",
      "SibSp                                 0\n",
      "Parch                                 0\n",
      "Survived                              0\n",
      "Name: 4, dtype: object\n",
      "PassengerId                                          44\n",
      "Pclass                                                2\n",
      "Name           Laroche, Miss. Simonne Marie Anne Andree\n",
      "Sex                                              female\n",
      "Age                                                   3\n",
      "SibSp                                                 1\n",
      "Parch                                                 2\n",
      "Survived                                              1\n",
      "Name: 5, dtype: object\n"
     ]
    },
    {
     "ename": "KeyError",
     "evalue": "3",
     "output_type": "error",
     "traceback": [
      "\u001b[1;31m---------------------------------------------------------------------------\u001b[0m",
      "\u001b[1;31mKeyError\u001b[0m                                  Traceback (most recent call last)",
      "Cell \u001b[1;32mIn[44], line 6\u001b[0m\n\u001b[0;32m      4\u001b[0m \u001b[38;5;28;01mfor\u001b[39;00m _, row \u001b[38;5;129;01min\u001b[39;00m test\u001b[38;5;241m.\u001b[39miterrows():\n\u001b[0;32m      5\u001b[0m     \u001b[38;5;28mprint\u001b[39m(row)\n\u001b[1;32m----> 6\u001b[0m     output \u001b[38;5;241m=\u001b[39m predict(model, row)\n\u001b[0;32m      7\u001b[0m     \u001b[38;5;28;01mif\u001b[39;00m output \u001b[38;5;241m==\u001b[39m row[\u001b[38;5;124m'\u001b[39m\u001b[38;5;124mSurvived\u001b[39m\u001b[38;5;124m'\u001b[39m]:\n\u001b[0;32m      8\u001b[0m         accurate \u001b[38;5;241m+\u001b[39m\u001b[38;5;241m=\u001b[39m \u001b[38;5;241m1\u001b[39m\n",
      "Cell \u001b[1;32mIn[43], line 6\u001b[0m, in \u001b[0;36mpredict\u001b[1;34m(model, example)\u001b[0m\n\u001b[0;32m      3\u001b[0m subtree \u001b[38;5;241m=\u001b[39m model\n\u001b[0;32m      5\u001b[0m \u001b[38;5;28;01mwhile\u001b[39;00m \u001b[38;5;28;01mTrue\u001b[39;00m:\n\u001b[1;32m----> 6\u001b[0m     subtree \u001b[38;5;241m=\u001b[39m subtree[key][example[key]]\n\u001b[0;32m      7\u001b[0m     \u001b[38;5;28;01mif\u001b[39;00m \u001b[38;5;28mtype\u001b[39m(subtree) \u001b[38;5;129;01mis\u001b[39;00m \u001b[38;5;28mdict\u001b[39m:\n\u001b[0;32m      8\u001b[0m         key \u001b[38;5;241m=\u001b[39m \u001b[38;5;28mlist\u001b[39m(subtree\u001b[38;5;241m.\u001b[39mkeys())[\u001b[38;5;241m0\u001b[39m]\n",
      "\u001b[1;31mKeyError\u001b[0m: 3"
     ]
    }
   ],
   "source": [
    "print(\"Calculating accuracy...\")\n",
    "\n",
    "accurate = 0\n",
    "for _, row in test.iterrows():\n",
    "    print(row)\n",
    "    output = predict(model, row)\n",
    "    if output == row['Survived']:\n",
    "        accurate += 1\n",
    "\n",
    "print(f\"Accuracy is {accurate / test.shape[0]}\")"
   ]
  },
  {
   "cell_type": "code",
   "execution_count": 45,
   "id": "3a652cca-e68e-46dd-8163-d6c4c0ffb7aa",
   "metadata": {},
   "outputs": [
    {
     "ename": "KeyError",
     "evalue": "np.int64(3)",
     "output_type": "error",
     "traceback": [
      "\u001b[1;31m---------------------------------------------------------------------------\u001b[0m",
      "\u001b[1;31mKeyError\u001b[0m                                  Traceback (most recent call last)",
      "Cell \u001b[1;32mIn[45], line 1\u001b[0m\n\u001b[1;32m----> 1\u001b[0m predict(model, test\u001b[38;5;241m.\u001b[39miloc[\u001b[38;5;241m5\u001b[39m])\n",
      "Cell \u001b[1;32mIn[43], line 6\u001b[0m, in \u001b[0;36mpredict\u001b[1;34m(model, example)\u001b[0m\n\u001b[0;32m      3\u001b[0m subtree \u001b[38;5;241m=\u001b[39m model\n\u001b[0;32m      5\u001b[0m \u001b[38;5;28;01mwhile\u001b[39;00m \u001b[38;5;28;01mTrue\u001b[39;00m:\n\u001b[1;32m----> 6\u001b[0m     subtree \u001b[38;5;241m=\u001b[39m subtree[key][example[key]]\n\u001b[0;32m      7\u001b[0m     \u001b[38;5;28;01mif\u001b[39;00m \u001b[38;5;28mtype\u001b[39m(subtree) \u001b[38;5;129;01mis\u001b[39;00m \u001b[38;5;28mdict\u001b[39m:\n\u001b[0;32m      8\u001b[0m         key \u001b[38;5;241m=\u001b[39m \u001b[38;5;28mlist\u001b[39m(subtree\u001b[38;5;241m.\u001b[39mkeys())[\u001b[38;5;241m0\u001b[39m]\n",
      "\u001b[1;31mKeyError\u001b[0m: np.int64(3)"
     ]
    }
   ],
   "source": [
    "predict(model, test.iloc[5])"
   ]
  },
  {
   "cell_type": "code",
   "execution_count": 46,
   "id": "71729c4c-b6ec-4e5a-94ba-a78eacc27d4f",
   "metadata": {},
   "outputs": [
    {
     "data": {
      "text/plain": [
       "PassengerId                                          44\n",
       "Pclass                                                2\n",
       "Name           Laroche, Miss. Simonne Marie Anne Andree\n",
       "Sex                                              female\n",
       "Age                                                   3\n",
       "SibSp                                                 1\n",
       "Parch                                                 2\n",
       "Survived                                              1\n",
       "Name: 5, dtype: object"
      ]
     },
     "execution_count": 46,
     "metadata": {},
     "output_type": "execute_result"
    }
   ],
   "source": [
    "test.iloc[5]"
   ]
  },
  {
   "cell_type": "code",
   "execution_count": 47,
   "id": "54b9f920-c71f-4449-9c32-b301227e1863",
   "metadata": {},
   "outputs": [
    {
     "data": {
      "text/plain": [
       "1"
      ]
     },
     "execution_count": 47,
     "metadata": {},
     "output_type": "execute_result"
    }
   ],
   "source": [
    "predict(model, test.iloc[0])"
   ]
  },
  {
   "cell_type": "code",
   "execution_count": 242,
   "id": "cd96f2ac-afe8-4e05-a958-535a3513b6fb",
   "metadata": {},
   "outputs": [
    {
     "data": {
      "text/html": [
       "<div>\n",
       "<style scoped>\n",
       "    .dataframe tbody tr th:only-of-type {\n",
       "        vertical-align: middle;\n",
       "    }\n",
       "\n",
       "    .dataframe tbody tr th {\n",
       "        vertical-align: top;\n",
       "    }\n",
       "\n",
       "    .dataframe thead th {\n",
       "        text-align: right;\n",
       "    }\n",
       "</style>\n",
       "<table border=\"1\" class=\"dataframe\">\n",
       "  <thead>\n",
       "    <tr style=\"text-align: right;\">\n",
       "      <th></th>\n",
       "      <th>age</th>\n",
       "      <th>class</th>\n",
       "      <th>salary</th>\n",
       "    </tr>\n",
       "  </thead>\n",
       "  <tbody>\n",
       "    <tr>\n",
       "      <th>0</th>\n",
       "      <td>18</td>\n",
       "      <td>1</td>\n",
       "      <td>1000</td>\n",
       "    </tr>\n",
       "    <tr>\n",
       "      <th>2</th>\n",
       "      <td>24</td>\n",
       "      <td>2</td>\n",
       "      <td>3000</td>\n",
       "    </tr>\n",
       "    <tr>\n",
       "      <th>5</th>\n",
       "      <td>41</td>\n",
       "      <td>3</td>\n",
       "      <td>5100</td>\n",
       "    </tr>\n",
       "    <tr>\n",
       "      <th>8</th>\n",
       "      <td>56</td>\n",
       "      <td>2</td>\n",
       "      <td>2900</td>\n",
       "    </tr>\n",
       "    <tr>\n",
       "      <th>9</th>\n",
       "      <td>70</td>\n",
       "      <td>2</td>\n",
       "      <td>3050</td>\n",
       "    </tr>\n",
       "    <tr>\n",
       "      <th>4</th>\n",
       "      <td>34</td>\n",
       "      <td>2</td>\n",
       "      <td>3200</td>\n",
       "    </tr>\n",
       "    <tr>\n",
       "      <th>1</th>\n",
       "      <td>21</td>\n",
       "      <td>1</td>\n",
       "      <td>1100</td>\n",
       "    </tr>\n",
       "    <tr>\n",
       "      <th>7</th>\n",
       "      <td>52</td>\n",
       "      <td>3</td>\n",
       "      <td>5000</td>\n",
       "    </tr>\n",
       "    <tr>\n",
       "      <th>3</th>\n",
       "      <td>26</td>\n",
       "      <td>2</td>\n",
       "      <td>3100</td>\n",
       "    </tr>\n",
       "    <tr>\n",
       "      <th>6</th>\n",
       "      <td>46</td>\n",
       "      <td>3</td>\n",
       "      <td>4900</td>\n",
       "    </tr>\n",
       "  </tbody>\n",
       "</table>\n",
       "</div>"
      ],
      "text/plain": [
       "   age  class  salary\n",
       "0   18      1    1000\n",
       "2   24      2    3000\n",
       "5   41      3    5100\n",
       "8   56      2    2900\n",
       "9   70      2    3050\n",
       "4   34      2    3200\n",
       "1   21      1    1100\n",
       "7   52      3    5000\n",
       "3   26      2    3100\n",
       "6   46      3    4900"
      ]
     },
     "execution_count": 242,
     "metadata": {},
     "output_type": "execute_result"
    }
   ],
   "source": [
    "ex2 = pd.DataFrame.from_dict({\n",
    "    'age': [18, 21, 24, 26, 34, 41, 46, 52, 56, 70],\n",
    "    'class': [1, 1, 2, 2, 2, 3, 3, 3, 2, 2],\n",
    "    'salary': [1000, 1100, 3000, 3100, 3200, 5100, 4900, 5000, 2900, 3050]\n",
    "})\n",
    "ex2 = ex2.sample(ex2.shape[0])\n",
    "ex2"
   ]
  },
  {
   "cell_type": "code",
   "execution_count": 360,
   "id": "4a2b0bb0-e5d9-4dab-8d36-844bd6b6ba17",
   "metadata": {},
   "outputs": [
    {
     "name": "stdout",
     "output_type": "stream",
     "text": [
      "Inequality(24, [(2, np.int64(2)), (5, np.int64(3)), (8, np.int64(2)), (9, np.int64(2)), (4, np.int64(2)), (7, np.int64(3)), (3, np.int64(2)), (6, np.int64(3))], [(0, np.int64(1)), (1, np.int64(1))])\n"
     ]
    }
   ],
   "source": [
    "inequality = initial_divide(ex2, 'class', 'age')\n",
    "print(inequality)"
   ]
  },
  {
   "cell_type": "code",
   "execution_count": 361,
   "id": "3527d8d4-96e9-49e5-894f-399a8a27f025",
   "metadata": {},
   "outputs": [
    {
     "data": {
      "text/plain": [
       "True"
      ]
     },
     "execution_count": 361,
     "metadata": {},
     "output_type": "execute_result"
    }
   ],
   "source": [
    "inequality.test(25)"
   ]
  },
  {
   "cell_type": "code",
   "execution_count": 362,
   "id": "6fb48cb8-0ac4-4267-b1ed-fc1a3b9a6b29",
   "metadata": {},
   "outputs": [
    {
     "data": {
      "text/plain": [
       "dict_items([('>=24', [(2, np.int64(2)), (5, np.int64(3)), (8, np.int64(2)), (9, np.int64(2)), (4, np.int64(2)), (7, np.int64(3)), (3, np.int64(2)), (6, np.int64(3))]), ('<24', [(0, np.int64(1)), (1, np.int64(1))])])"
      ]
     },
     "execution_count": 362,
     "metadata": {},
     "output_type": "execute_result"
    }
   ],
   "source": [
    "inequality.items()"
   ]
  },
  {
   "cell_type": "code",
   "execution_count": 33,
   "id": "83e2c859-5162-430c-86b1-4d14c414163f",
   "metadata": {},
   "outputs": [],
   "source": [
    "class ClassNode():\n",
    "    def __init__(self, feature_name, nodes={}):\n",
    "        self.feature_name = feature_name\n",
    "        self.nodes = nodes\n",
    "\n",
    "    def add_node(self, node, value):\n",
    "        self.nodes[value] = node\n",
    "\n",
    "    def test(self, row):\n",
    "        print(self)\n",
    "        feature_value = row[self.feature_name]\n",
    "        return self.nodes[feature_value].test(row)\n",
    "\n",
    "    def __str__(self):\n",
    "        return f'ClassNode({self.feature_name})'"
   ]
  },
  {
   "cell_type": "code",
   "execution_count": 34,
   "id": "d253fcd9-d947-4475-8adb-7cc8badc0ac9",
   "metadata": {},
   "outputs": [],
   "source": [
    "class LeafNode():\n",
    "    def __init__(self, value):\n",
    "        self.value = value\n",
    "\n",
    "    def test(self, row):\n",
    "        print(self)\n",
    "        return self.value\n",
    "\n",
    "    def __str__(self):\n",
    "        return f'LeafNode({self.value})'"
   ]
  },
  {
   "cell_type": "code",
   "execution_count": 53,
   "id": "1381e743-2c40-4317-a841-9fd45fd46f58",
   "metadata": {},
   "outputs": [],
   "source": [
    "class IntervalNode():\n",
    "    def __init__(self, feature_name, boundary, gr_eq_node=None, le_node=None):\n",
    "        self.feature_name = feature_name\n",
    "        self.boundary = boundary\n",
    "        self.gr_eq_node = gr_eq_node\n",
    "        self.le_node = le_node\n",
    "\n",
    "    def set_gr_eq_node(self, gr_eq_node):\n",
    "        self.gr_eq_node = gr_eq_node\n",
    "\n",
    "    def set_le_node(self, le_node):\n",
    "        self.le_node = le_node\n",
    "    \n",
    "    def test(self, row):\n",
    "        print(self)\n",
    "        feature_value = row[self.feature_name]\n",
    "        if feature_value >= self.boundary:\n",
    "            return self.gr_eq_node.test(row)\n",
    "        else:\n",
    "            return self.le_node.test(row)\n",
    "    \n",
    "    def __str__(self):\n",
    "        return f'IntervalNode({self.feature_name}, {self.boundary})'"
   ]
  },
  {
   "cell_type": "code",
   "execution_count": 36,
   "id": "9a441818-e57a-4a14-a191-c5027fb64c85",
   "metadata": {},
   "outputs": [],
   "source": [
    "tree = IntervalNode(\n",
    "    \"Matematyka\",\n",
    "    4,\n",
    "    IntervalNode(\n",
    "        \"Biologia\",\n",
    "        4,\n",
    "        IntervalNode(\n",
    "            \"Polski\",\n",
    "            4,\n",
    "            ClassNode(\n",
    "                \"Wiek\",\n",
    "                {\n",
    "                    \"dorosły\": LeafNode(\"T\"),\n",
    "                    \"młody\": LeafNode(\"N\")\n",
    "                }\n",
    "            ),\n",
    "            LeafNode(\"N\")\n",
    "        ),\n",
    "        LeafNode('N')\n",
    "    ),\n",
    "    LeafNode('N')\n",
    ")\n"
   ]
  },
  {
   "cell_type": "code",
   "execution_count": 37,
   "id": "eb588ab2-3983-423b-8cf4-9c6eaf30c0a2",
   "metadata": {},
   "outputs": [
    {
     "name": "stdout",
     "output_type": "stream",
     "text": [
      "IntervalNode(Matematyka, 4)\n"
     ]
    }
   ],
   "source": [
    "print(tree)"
   ]
  },
  {
   "cell_type": "code",
   "execution_count": 40,
   "id": "3f9d7a5c-6ecf-40db-b214-915d693f5aec",
   "metadata": {},
   "outputs": [
    {
     "data": {
      "text/plain": [
       "Uczeń             C\n",
       "Matematyka        3\n",
       "Biologia          4\n",
       "Polski            4\n",
       "Wiek          młody\n",
       "Decyzja           N\n",
       "Name: 2, dtype: object"
      ]
     },
     "execution_count": 40,
     "metadata": {},
     "output_type": "execute_result"
    }
   ],
   "source": [
    "edf.iloc[2]"
   ]
  },
  {
   "cell_type": "code",
   "execution_count": 41,
   "id": "35b73c21-aac9-40e5-b6e4-316ca7a9d2e4",
   "metadata": {},
   "outputs": [
    {
     "name": "stdout",
     "output_type": "stream",
     "text": [
      "IntervalNode(Matematyka, 4)\n",
      "LeafNode(N)\n"
     ]
    },
    {
     "data": {
      "text/plain": [
       "'N'"
      ]
     },
     "execution_count": 41,
     "metadata": {},
     "output_type": "execute_result"
    }
   ],
   "source": [
    "tree.test(edf.iloc[2])"
   ]
  },
  {
   "cell_type": "code",
   "execution_count": null,
   "id": "b0d9d537-99c5-4101-955a-9648dc18252d",
   "metadata": {},
   "outputs": [],
   "source": [
    "def build_tree(data, label_key):\n",
    "    initial_entropy = entropy(data[label_key])\n",
    "    columns = doc.columns.drop(label_key)\n",
    "\n",
    "    best_division = None\n",
    "    best_gain = 0\n",
    "    best_column = None\n",
    "    for column in columns:\n",
    "        division = initial_divide(data, column, label_key)\n",
    "        cond_ent_val = cond_entropy(division)\n",
    "        g = gain(initial_entropy, cond_ent_val)\n",
    "        if best_gain < g:\n",
    "            best_column = column\n",
    "            best_gain = g\n",
    "            best_division = division\n",
    "    current_entropy = best_gain\n",
    "\n",
    "    if type(best_division) is Inequality:\n",
    "        tree = IntervalNode(best_column, best_division.boundary)\n",
    "    else:\n",
    "        tree = ClassNode(best_column)\n",
    "\n",
    "    curr_tree = tree\n",
    "    \n",
    "    # node queue\n",
    "    nodes = []\n",
    "    "
   ]
  },
  {
   "cell_type": "code",
   "execution_count": 136,
   "id": "b62a5608-ca0e-4ebc-ae1a-3a4c5a815bcb",
   "metadata": {},
   "outputs": [],
   "source": [
    "data = edf.drop(['Uczeń', 'Wiek'], axis=1)\n",
    "label_key = 'Decyzja'"
   ]
  },
  {
   "cell_type": "code",
   "execution_count": 138,
   "id": "8779867e-0690-4295-b48a-cc0ded86461e",
   "metadata": {},
   "outputs": [],
   "source": [
    "initial_entropy = entropy(data[label_key])\n",
    "columns = data.columns.drop(label_key)\n",
    "\n",
    "best_division = None\n",
    "best_gain = 0\n",
    "best_column = None\n",
    "for column in columns:\n",
    "    division = initial_divide(data, column, label_key)\n",
    "    cond_ent_val = cond_entropy(division)\n",
    "    g = gain(initial_entropy, cond_ent_val)\n",
    "    if best_gain < g:\n",
    "        best_column = column\n",
    "        best_gain = g\n",
    "        best_division = division\n",
    "current_entropy = best_gain\n",
    "\n",
    "if type(best_division) is Inequality:\n",
    "    tree = IntervalNode(best_column, best_division.boundary)\n",
    "    if is_leaf(best_division):\n",
    "        leaf = best_division.leaf()\n",
    "        leaf_value = data.loc[leaf[0]][best_column]\n",
    "        if leaf_value >= best_division.boundary:\n",
    "            tree.set_gr_eq_node(LeafNode(leaf[1]))\n",
    "            other_label = [x for x in data[label_key].unique().tolist() if x != leaf[1]][0]\n",
    "            tree.set_le_node(LeafNode(other_label))\n",
    "        else:\n",
    "            tree.set_le_node(LeafNode(leaf[1]))\n",
    "            other_label = [x for x in data[label_key].unique().tolist() if x != leaf[1]][0]\n",
    "            tree.set_gr_eq_node(LeafNode(other_label))\n",
    "else:\n",
    "    tree = ClassNode(best_column)\n",
    "\n",
    "    for k, v in best_division.items():\n",
    "        if is_leaf(v):\n",
    "            tree.add_node(None, k)\n"
   ]
  },
  {
   "cell_type": "code",
   "execution_count": 128,
   "id": "91522a50-8082-4cc0-83f3-72ff1a4b6d5e",
   "metadata": {},
   "outputs": [
    {
     "data": {
      "text/plain": [
       "'IntervalNode(Matematyka, 4)'"
      ]
     },
     "execution_count": 128,
     "metadata": {},
     "output_type": "execute_result"
    }
   ],
   "source": [
    "str(tree)"
   ]
  },
  {
   "cell_type": "code",
   "execution_count": 94,
   "id": "d8c2c78b-2944-413a-9fef-56c60fc6a727",
   "metadata": {},
   "outputs": [
    {
     "name": "stdout",
     "output_type": "stream",
     "text": [
      "ClassNode(Wiek)\n"
     ]
    },
    {
     "ename": "KeyError",
     "evalue": "'dorosły'",
     "output_type": "error",
     "traceback": [
      "\u001b[1;31m---------------------------------------------------------------------------\u001b[0m",
      "\u001b[1;31mKeyError\u001b[0m                                  Traceback (most recent call last)",
      "Cell \u001b[1;32mIn[94], line 1\u001b[0m\n\u001b[1;32m----> 1\u001b[0m tree\u001b[38;5;241m.\u001b[39mtest(data\u001b[38;5;241m.\u001b[39miloc[\u001b[38;5;241m0\u001b[39m])\n",
      "Cell \u001b[1;32mIn[33], line 12\u001b[0m, in \u001b[0;36mClassNode.test\u001b[1;34m(self, row)\u001b[0m\n\u001b[0;32m     10\u001b[0m \u001b[38;5;28mprint\u001b[39m(\u001b[38;5;28mself\u001b[39m)\n\u001b[0;32m     11\u001b[0m feature_value \u001b[38;5;241m=\u001b[39m row[\u001b[38;5;28mself\u001b[39m\u001b[38;5;241m.\u001b[39mfeature_name]\n\u001b[1;32m---> 12\u001b[0m \u001b[38;5;28;01mreturn\u001b[39;00m \u001b[38;5;28mself\u001b[39m\u001b[38;5;241m.\u001b[39mnodes[feature_value]\u001b[38;5;241m.\u001b[39mtest(row)\n",
      "\u001b[1;31mKeyError\u001b[0m: 'dorosły'"
     ]
    }
   ],
   "source": [
    "tree.test(data.iloc[0])"
   ]
  },
  {
   "cell_type": "code",
   "execution_count": 129,
   "id": "779fb671-6957-4a4f-9a7e-593fcf969b1c",
   "metadata": {},
   "outputs": [],
   "source": [
    "tree.gr_eq_node"
   ]
  },
  {
   "cell_type": "code",
   "execution_count": 130,
   "id": "a4291a03-f398-452c-9266-6944664647aa",
   "metadata": {},
   "outputs": [],
   "source": [
    "tree.le_node"
   ]
  },
  {
   "cell_type": "code",
   "execution_count": null,
   "id": "62f3407a-36c2-46b8-ab50-02906f0caea1",
   "metadata": {},
   "outputs": [],
   "source": []
  }
 ],
 "metadata": {
  "kernelspec": {
   "display_name": "myenv",
   "language": "python",
   "name": "python3"
  },
  "language_info": {
   "codemirror_mode": {
    "name": "ipython",
    "version": 3
   },
   "file_extension": ".py",
   "mimetype": "text/x-python",
   "name": "python",
   "nbconvert_exporter": "python",
   "pygments_lexer": "ipython3",
   "version": "3.13.2"
  }
 },
 "nbformat": 4,
 "nbformat_minor": 5
}
