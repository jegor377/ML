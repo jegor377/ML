{
 "cells": [
  {
   "cell_type": "code",
   "execution_count": 214,
   "id": "cb2b98f7-6bbe-42bd-87d9-c951d325eeaa",
   "metadata": {},
   "outputs": [],
   "source": [
    "import pandas as pd\n",
    "import math\n",
    "from collections import Counter\n",
    "import numpy as np\n",
    "import pprint"
   ]
  },
  {
   "cell_type": "markdown",
   "id": "b10aa959-f9f1-43f8-bcf5-82c5fa64456d",
   "metadata": {},
   "source": [
    "# Importing data"
   ]
  },
  {
   "cell_type": "code",
   "execution_count": 4,
   "id": "97fbce10-d467-46ae-9d77-9931c86c468e",
   "metadata": {},
   "outputs": [],
   "source": [
    "df = pd.read_csv(\"titanic-homework.csv\")"
   ]
  },
  {
   "cell_type": "code",
   "execution_count": 5,
   "id": "7fc3e272-b887-44a4-8f6f-24bb848d620e",
   "metadata": {},
   "outputs": [
    {
     "data": {
      "text/html": [
       "<div>\n",
       "<style scoped>\n",
       "    .dataframe tbody tr th:only-of-type {\n",
       "        vertical-align: middle;\n",
       "    }\n",
       "\n",
       "    .dataframe tbody tr th {\n",
       "        vertical-align: top;\n",
       "    }\n",
       "\n",
       "    .dataframe thead th {\n",
       "        text-align: right;\n",
       "    }\n",
       "</style>\n",
       "<table border=\"1\" class=\"dataframe\">\n",
       "  <thead>\n",
       "    <tr style=\"text-align: right;\">\n",
       "      <th></th>\n",
       "      <th>PassengerId</th>\n",
       "      <th>Pclass</th>\n",
       "      <th>Name</th>\n",
       "      <th>Sex</th>\n",
       "      <th>Age</th>\n",
       "      <th>SibSp</th>\n",
       "      <th>Parch</th>\n",
       "      <th>Survived</th>\n",
       "    </tr>\n",
       "  </thead>\n",
       "  <tbody>\n",
       "    <tr>\n",
       "      <th>0</th>\n",
       "      <td>1</td>\n",
       "      <td>3</td>\n",
       "      <td>Braund, Mr. Owen Harris</td>\n",
       "      <td>male</td>\n",
       "      <td>22</td>\n",
       "      <td>1</td>\n",
       "      <td>0</td>\n",
       "      <td>0</td>\n",
       "    </tr>\n",
       "    <tr>\n",
       "      <th>1</th>\n",
       "      <td>2</td>\n",
       "      <td>1</td>\n",
       "      <td>Cumings, Mrs. John Bradley (Florence Briggs Th...</td>\n",
       "      <td>female</td>\n",
       "      <td>38</td>\n",
       "      <td>1</td>\n",
       "      <td>0</td>\n",
       "      <td>1</td>\n",
       "    </tr>\n",
       "    <tr>\n",
       "      <th>2</th>\n",
       "      <td>3</td>\n",
       "      <td>3</td>\n",
       "      <td>Heikkinen, Miss. Laina</td>\n",
       "      <td>female</td>\n",
       "      <td>26</td>\n",
       "      <td>0</td>\n",
       "      <td>0</td>\n",
       "      <td>1</td>\n",
       "    </tr>\n",
       "    <tr>\n",
       "      <th>3</th>\n",
       "      <td>4</td>\n",
       "      <td>1</td>\n",
       "      <td>Futrelle, Mrs. Jacques Heath (Lily May Peel)</td>\n",
       "      <td>female</td>\n",
       "      <td>35</td>\n",
       "      <td>1</td>\n",
       "      <td>0</td>\n",
       "      <td>1</td>\n",
       "    </tr>\n",
       "    <tr>\n",
       "      <th>4</th>\n",
       "      <td>5</td>\n",
       "      <td>3</td>\n",
       "      <td>Allen, Mr. William Henry</td>\n",
       "      <td>male</td>\n",
       "      <td>35</td>\n",
       "      <td>0</td>\n",
       "      <td>0</td>\n",
       "      <td>0</td>\n",
       "    </tr>\n",
       "    <tr>\n",
       "      <th>...</th>\n",
       "      <td>...</td>\n",
       "      <td>...</td>\n",
       "      <td>...</td>\n",
       "      <td>...</td>\n",
       "      <td>...</td>\n",
       "      <td>...</td>\n",
       "      <td>...</td>\n",
       "      <td>...</td>\n",
       "    </tr>\n",
       "    <tr>\n",
       "      <th>95</th>\n",
       "      <td>96</td>\n",
       "      <td>3</td>\n",
       "      <td>Shorney, Mr. Charles Joseph</td>\n",
       "      <td>male</td>\n",
       "      <td>44</td>\n",
       "      <td>0</td>\n",
       "      <td>0</td>\n",
       "      <td>0</td>\n",
       "    </tr>\n",
       "    <tr>\n",
       "      <th>96</th>\n",
       "      <td>97</td>\n",
       "      <td>1</td>\n",
       "      <td>Goldschmidt, Mr. George B</td>\n",
       "      <td>male</td>\n",
       "      <td>71</td>\n",
       "      <td>0</td>\n",
       "      <td>0</td>\n",
       "      <td>0</td>\n",
       "    </tr>\n",
       "    <tr>\n",
       "      <th>97</th>\n",
       "      <td>98</td>\n",
       "      <td>1</td>\n",
       "      <td>Greenfield, Mr. William Bertram</td>\n",
       "      <td>male</td>\n",
       "      <td>23</td>\n",
       "      <td>0</td>\n",
       "      <td>1</td>\n",
       "      <td>1</td>\n",
       "    </tr>\n",
       "    <tr>\n",
       "      <th>98</th>\n",
       "      <td>99</td>\n",
       "      <td>2</td>\n",
       "      <td>Doling, Mrs. John T (Ada Julia Bone)</td>\n",
       "      <td>female</td>\n",
       "      <td>34</td>\n",
       "      <td>0</td>\n",
       "      <td>1</td>\n",
       "      <td>1</td>\n",
       "    </tr>\n",
       "    <tr>\n",
       "      <th>99</th>\n",
       "      <td>100</td>\n",
       "      <td>2</td>\n",
       "      <td>Kantor, Mr. Sinai</td>\n",
       "      <td>male</td>\n",
       "      <td>34</td>\n",
       "      <td>1</td>\n",
       "      <td>0</td>\n",
       "      <td>0</td>\n",
       "    </tr>\n",
       "  </tbody>\n",
       "</table>\n",
       "<p>100 rows × 8 columns</p>\n",
       "</div>"
      ],
      "text/plain": [
       "    PassengerId  Pclass                                               Name  \\\n",
       "0             1       3                            Braund, Mr. Owen Harris   \n",
       "1             2       1  Cumings, Mrs. John Bradley (Florence Briggs Th...   \n",
       "2             3       3                             Heikkinen, Miss. Laina   \n",
       "3             4       1       Futrelle, Mrs. Jacques Heath (Lily May Peel)   \n",
       "4             5       3                           Allen, Mr. William Henry   \n",
       "..          ...     ...                                                ...   \n",
       "95           96       3                        Shorney, Mr. Charles Joseph   \n",
       "96           97       1                          Goldschmidt, Mr. George B   \n",
       "97           98       1                    Greenfield, Mr. William Bertram   \n",
       "98           99       2               Doling, Mrs. John T (Ada Julia Bone)   \n",
       "99          100       2                                  Kantor, Mr. Sinai   \n",
       "\n",
       "       Sex  Age  SibSp  Parch  Survived  \n",
       "0     male   22      1      0         0  \n",
       "1   female   38      1      0         1  \n",
       "2   female   26      0      0         1  \n",
       "3   female   35      1      0         1  \n",
       "4     male   35      0      0         0  \n",
       "..     ...  ...    ...    ...       ...  \n",
       "95    male   44      0      0         0  \n",
       "96    male   71      0      0         0  \n",
       "97    male   23      0      1         1  \n",
       "98  female   34      0      1         1  \n",
       "99    male   34      1      0         0  \n",
       "\n",
       "[100 rows x 8 columns]"
      ]
     },
     "execution_count": 5,
     "metadata": {},
     "output_type": "execute_result"
    }
   ],
   "source": [
    "df"
   ]
  },
  {
   "cell_type": "code",
   "execution_count": 327,
   "id": "8bbfa83f-760f-4ccf-965a-b5be92e6d530",
   "metadata": {},
   "outputs": [
    {
     "data": {
      "text/plain": [
       "100"
      ]
     },
     "execution_count": 327,
     "metadata": {},
     "output_type": "execute_result"
    }
   ],
   "source": [
    "len(df[\"Name\"].unique())"
   ]
  },
  {
   "cell_type": "markdown",
   "id": "a7d878f6-aa00-4303-b397-0e02b30ab5c8",
   "metadata": {},
   "source": [
    "# Example"
   ]
  },
  {
   "cell_type": "code",
   "execution_count": 105,
   "id": "d1980247-2b9a-4adc-b8b5-f19d99819364",
   "metadata": {},
   "outputs": [],
   "source": [
    "edf = pd.DataFrame.from_dict({\n",
    "    'Uczeń': ['A', 'B', 'C', 'D', 'E', 'F'],\n",
    "    'Matematyka': [4, 4, 3, 5, 4, 3],\n",
    "    'Biologia': [4, 5, 4, 3, 4, 5],\n",
    "    'Polski': [5, 4, 4, 5, 4, 3],\n",
    "    'Decyzja': ['T', 'T', 'N', 'N', 'N', 'N']\n",
    "})"
   ]
  },
  {
   "cell_type": "code",
   "execution_count": 106,
   "id": "f7694552-52ec-46f1-af96-ed5707696fbb",
   "metadata": {},
   "outputs": [
    {
     "data": {
      "text/html": [
       "<div>\n",
       "<style scoped>\n",
       "    .dataframe tbody tr th:only-of-type {\n",
       "        vertical-align: middle;\n",
       "    }\n",
       "\n",
       "    .dataframe tbody tr th {\n",
       "        vertical-align: top;\n",
       "    }\n",
       "\n",
       "    .dataframe thead th {\n",
       "        text-align: right;\n",
       "    }\n",
       "</style>\n",
       "<table border=\"1\" class=\"dataframe\">\n",
       "  <thead>\n",
       "    <tr style=\"text-align: right;\">\n",
       "      <th></th>\n",
       "      <th>Uczeń</th>\n",
       "      <th>Matematyka</th>\n",
       "      <th>Biologia</th>\n",
       "      <th>Polski</th>\n",
       "      <th>Decyzja</th>\n",
       "    </tr>\n",
       "  </thead>\n",
       "  <tbody>\n",
       "    <tr>\n",
       "      <th>0</th>\n",
       "      <td>A</td>\n",
       "      <td>4</td>\n",
       "      <td>4</td>\n",
       "      <td>5</td>\n",
       "      <td>T</td>\n",
       "    </tr>\n",
       "    <tr>\n",
       "      <th>1</th>\n",
       "      <td>B</td>\n",
       "      <td>4</td>\n",
       "      <td>5</td>\n",
       "      <td>4</td>\n",
       "      <td>T</td>\n",
       "    </tr>\n",
       "    <tr>\n",
       "      <th>2</th>\n",
       "      <td>C</td>\n",
       "      <td>3</td>\n",
       "      <td>4</td>\n",
       "      <td>4</td>\n",
       "      <td>N</td>\n",
       "    </tr>\n",
       "    <tr>\n",
       "      <th>3</th>\n",
       "      <td>D</td>\n",
       "      <td>5</td>\n",
       "      <td>3</td>\n",
       "      <td>5</td>\n",
       "      <td>N</td>\n",
       "    </tr>\n",
       "    <tr>\n",
       "      <th>4</th>\n",
       "      <td>E</td>\n",
       "      <td>4</td>\n",
       "      <td>4</td>\n",
       "      <td>4</td>\n",
       "      <td>N</td>\n",
       "    </tr>\n",
       "    <tr>\n",
       "      <th>5</th>\n",
       "      <td>F</td>\n",
       "      <td>3</td>\n",
       "      <td>5</td>\n",
       "      <td>3</td>\n",
       "      <td>N</td>\n",
       "    </tr>\n",
       "  </tbody>\n",
       "</table>\n",
       "</div>"
      ],
      "text/plain": [
       "  Uczeń  Matematyka  Biologia  Polski Decyzja\n",
       "0     A           4         4       5       T\n",
       "1     B           4         5       4       T\n",
       "2     C           3         4       4       N\n",
       "3     D           5         3       5       N\n",
       "4     E           4         4       4       N\n",
       "5     F           3         5       3       N"
      ]
     },
     "execution_count": 106,
     "metadata": {},
     "output_type": "execute_result"
    }
   ],
   "source": [
    "edf"
   ]
  },
  {
   "cell_type": "markdown",
   "id": "72be2241-c3f5-47af-ab6e-d2a2d086a05c",
   "metadata": {},
   "source": [
    "# Helper functions"
   ]
  },
  {
   "cell_type": "code",
   "execution_count": 149,
   "id": "846878ff-c78a-4340-9168-67fed230be57",
   "metadata": {},
   "outputs": [],
   "source": [
    "def entropy(part):\n",
    "    labels = Counter(part)\n",
    "    p = np.array(list(labels.values())) / labels.total()\n",
    "    return -sum([p_i * math.log2(p_i) if p_i != 0 else 0 for p_i in p])"
   ]
  },
  {
   "cell_type": "code",
   "execution_count": 163,
   "id": "a22b65e3-b747-4e61-86a7-b29cc17a06b5",
   "metadata": {},
   "outputs": [],
   "source": [
    "def cond_entropy(division):\n",
    "    sizes = np.array([len(x) for x in division.values()])\n",
    "    freqs = sizes / sizes.sum()\n",
    "    entropies = np.array([entropy([p[1] for p in part]) for part in division.values()])\n",
    "    return freqs.dot(entropies)"
   ]
  },
  {
   "cell_type": "code",
   "execution_count": 99,
   "id": "80f59eeb-a79c-44ee-bff2-5addf499228e",
   "metadata": {},
   "outputs": [],
   "source": [
    "def gain(initial_entropy, conditional_entropy):\n",
    "    return initial_entropy - conditional_entropy"
   ]
  },
  {
   "cell_type": "code",
   "execution_count": 177,
   "id": "4c3345a0-143b-406a-bd87-96345eadf2c0",
   "metadata": {},
   "outputs": [],
   "source": [
    "def divide(doc, subset, divisor):\n",
    "    division = {}\n",
    "    for i, label in subset:\n",
    "        row = doc.iloc[i]\n",
    "        if row[divisor] not in division:\n",
    "            division[row[divisor]] = []\n",
    "        division[row[divisor]].append((i, label))\n",
    "    return division"
   ]
  },
  {
   "cell_type": "code",
   "execution_count": 137,
   "id": "27ffaa39-cbbf-4711-9e9a-5b3513787e17",
   "metadata": {},
   "outputs": [],
   "source": [
    "def initial_divide(doc, divisor, dividend):\n",
    "    division = {}\n",
    "    for i, row in doc.iterrows():\n",
    "        if row[divisor] not in division:\n",
    "            division[row[divisor]] = []\n",
    "        division[row[divisor]].append((i, row[dividend]))\n",
    "    return division"
   ]
  },
  {
   "cell_type": "code",
   "execution_count": 192,
   "id": "c689e70e-5bc1-43fb-85f8-11cbd07c7d42",
   "metadata": {},
   "outputs": [],
   "source": [
    "def is_leaf(subset):\n",
    "    x = Counter([part[1] for part in subset])\n",
    "    return len(x.keys()) == 1"
   ]
  },
  {
   "cell_type": "code",
   "execution_count": 154,
   "id": "51e6de2d-dbcb-48f7-bff7-a0e8db0dc8fc",
   "metadata": {},
   "outputs": [
    {
     "data": {
      "text/plain": [
       "{4: [(0, 'T'), (1, 'T'), (4, 'N')], 3: [(2, 'N'), (5, 'N')], 5: [(3, 'N')]}"
      ]
     },
     "execution_count": 154,
     "metadata": {},
     "output_type": "execute_result"
    }
   ],
   "source": [
    "division = initial_divide(edf, 'Matematyka', 'Decyzja')\n",
    "division"
   ]
  },
  {
   "cell_type": "code",
   "execution_count": 155,
   "id": "78fb5442-5f6c-4883-aa46-8ce802c682a0",
   "metadata": {},
   "outputs": [
    {
     "data": {
      "text/plain": [
       "np.float64(0.9182958340544896)"
      ]
     },
     "execution_count": 155,
     "metadata": {},
     "output_type": "execute_result"
    }
   ],
   "source": [
    "initial_entropy = entropy(edf['Decyzja'])\n",
    "initial_entropy"
   ]
  },
  {
   "cell_type": "code",
   "execution_count": 166,
   "id": "62f70add-5485-447a-8c55-28e068fadd00",
   "metadata": {},
   "outputs": [
    {
     "data": {
      "text/plain": [
       "np.float64(0.4591479170272448)"
      ]
     },
     "execution_count": 166,
     "metadata": {},
     "output_type": "execute_result"
    }
   ],
   "source": [
    "conditional_entropy = cond_entropy(division)\n",
    "conditional_entropy"
   ]
  },
  {
   "cell_type": "code",
   "execution_count": 167,
   "id": "c7153df0-dac0-4911-8276-469df5128e79",
   "metadata": {},
   "outputs": [
    {
     "data": {
      "text/plain": [
       "np.float64(0.4591479170272448)"
      ]
     },
     "execution_count": 167,
     "metadata": {},
     "output_type": "execute_result"
    }
   ],
   "source": [
    "gain(initial_entropy, conditional_entropy)"
   ]
  },
  {
   "cell_type": "code",
   "execution_count": 168,
   "id": "3a678507-4f88-4e57-bdc2-1e40b4358edd",
   "metadata": {},
   "outputs": [
    {
     "data": {
      "text/plain": [
       "{4: [(0, 'T'), (2, 'N'), (4, 'N')], 5: [(1, 'T'), (5, 'N')], 3: [(3, 'N')]}"
      ]
     },
     "execution_count": 168,
     "metadata": {},
     "output_type": "execute_result"
    }
   ],
   "source": [
    "division2 = initial_divide(edf, 'Biologia', 'Decyzja')\n",
    "division2"
   ]
  },
  {
   "cell_type": "code",
   "execution_count": 169,
   "id": "7f33e77a-6966-4b4f-86cc-de555bac8b71",
   "metadata": {},
   "outputs": [
    {
     "data": {
      "text/plain": [
       "np.float64(0.792481250360578)"
      ]
     },
     "execution_count": 169,
     "metadata": {},
     "output_type": "execute_result"
    }
   ],
   "source": [
    "conditional_entropy2 = cond_entropy(division2)\n",
    "conditional_entropy2"
   ]
  },
  {
   "cell_type": "code",
   "execution_count": 170,
   "id": "d9e22359-2a66-4069-80bd-fe4739485e7a",
   "metadata": {},
   "outputs": [
    {
     "data": {
      "text/plain": [
       "np.float64(0.12581458369391152)"
      ]
     },
     "execution_count": 170,
     "metadata": {},
     "output_type": "execute_result"
    }
   ],
   "source": [
    "gain(initial_entropy, conditional_entropy2)"
   ]
  },
  {
   "cell_type": "code",
   "execution_count": 171,
   "id": "498c4481-52a4-4202-ba57-32ed0b0285c6",
   "metadata": {},
   "outputs": [
    {
     "data": {
      "text/plain": [
       "{5: [(0, 'T'), (3, 'N')], 4: [(1, 'T'), (2, 'N'), (4, 'N')], 3: [(5, 'N')]}"
      ]
     },
     "execution_count": 171,
     "metadata": {},
     "output_type": "execute_result"
    }
   ],
   "source": [
    "division3 = initial_divide(edf, 'Polski', 'Decyzja')\n",
    "division3"
   ]
  },
  {
   "cell_type": "code",
   "execution_count": 172,
   "id": "d8cfba76-abb4-46b9-b3f8-3e79327da4dc",
   "metadata": {},
   "outputs": [
    {
     "data": {
      "text/plain": [
       "np.float64(0.792481250360578)"
      ]
     },
     "execution_count": 172,
     "metadata": {},
     "output_type": "execute_result"
    }
   ],
   "source": [
    "conditional_entropy3 = cond_entropy(division3)\n",
    "conditional_entropy3"
   ]
  },
  {
   "cell_type": "code",
   "execution_count": 173,
   "id": "38067dbf-852f-43a6-93cb-486728a42cd0",
   "metadata": {},
   "outputs": [
    {
     "data": {
      "text/plain": [
       "np.float64(0.12581458369391152)"
      ]
     },
     "execution_count": 173,
     "metadata": {},
     "output_type": "execute_result"
    }
   ],
   "source": [
    "gain(initial_entropy, conditional_entropy3)"
   ]
  },
  {
   "cell_type": "code",
   "execution_count": 178,
   "id": "2ddb2669-03b6-4888-8f53-62a3f95f0e81",
   "metadata": {},
   "outputs": [
    {
     "data": {
      "text/plain": [
       "{np.int64(4): [(0, 'T'), (4, 'N')], np.int64(5): [(1, 'T')]}"
      ]
     },
     "execution_count": 178,
     "metadata": {},
     "output_type": "execute_result"
    }
   ],
   "source": [
    "nl_division = divide(edf, [(0, 'T'), (1, 'T'), (4, 'N')], 'Biologia')\n",
    "nl_division"
   ]
  },
  {
   "cell_type": "code",
   "execution_count": 180,
   "id": "3d1c46cb-965a-4813-8304-b26399717ac6",
   "metadata": {},
   "outputs": [
    {
     "data": {
      "text/plain": [
       "np.float64(0.6666666666666666)"
      ]
     },
     "execution_count": 180,
     "metadata": {},
     "output_type": "execute_result"
    }
   ],
   "source": [
    "conditional_entropy4 = cond_entropy(nl_division)\n",
    "conditional_entropy4"
   ]
  },
  {
   "cell_type": "code",
   "execution_count": 183,
   "id": "a9beb9f6-b07a-44e7-ae38-0fd7dd18fe5e",
   "metadata": {},
   "outputs": [
    {
     "data": {
      "text/plain": [
       "np.float64(0.2516291673878229)"
      ]
     },
     "execution_count": 183,
     "metadata": {},
     "output_type": "execute_result"
    }
   ],
   "source": [
    "gain(initial_entropy, conditional_entropy4)"
   ]
  },
  {
   "cell_type": "code",
   "execution_count": 179,
   "id": "3716010a-bba2-41c4-9c56-b80890d5e61e",
   "metadata": {},
   "outputs": [
    {
     "data": {
      "text/plain": [
       "{np.int64(5): [(0, 'T')], np.int64(4): [(1, 'T'), (4, 'N')]}"
      ]
     },
     "execution_count": 179,
     "metadata": {},
     "output_type": "execute_result"
    }
   ],
   "source": [
    "nl_division2 = divide(edf, [(0, 'T'), (1, 'T'), (4, 'N')], 'Polski')\n",
    "nl_division2"
   ]
  },
  {
   "cell_type": "code",
   "execution_count": 181,
   "id": "161f29b5-9b30-4463-99c6-7880ee5e40e5",
   "metadata": {},
   "outputs": [
    {
     "data": {
      "text/plain": [
       "np.float64(0.6666666666666666)"
      ]
     },
     "execution_count": 181,
     "metadata": {},
     "output_type": "execute_result"
    }
   ],
   "source": [
    "conditional_entropy5 = cond_entropy(nl_division2)\n",
    "conditional_entropy5"
   ]
  },
  {
   "cell_type": "code",
   "execution_count": 184,
   "id": "defc08f9-3184-4be8-aa52-5c6b73f9aff3",
   "metadata": {},
   "outputs": [
    {
     "data": {
      "text/plain": [
       "np.float64(0.2516291673878229)"
      ]
     },
     "execution_count": 184,
     "metadata": {},
     "output_type": "execute_result"
    }
   ],
   "source": [
    "gain(initial_entropy, conditional_entropy5)"
   ]
  },
  {
   "cell_type": "code",
   "execution_count": 195,
   "id": "e36d0907-07d5-420d-a0cb-312fbed7c6e1",
   "metadata": {},
   "outputs": [
    {
     "data": {
      "text/plain": [
       "True"
      ]
     },
     "execution_count": 195,
     "metadata": {},
     "output_type": "execute_result"
    }
   ],
   "source": [
    "is_leaf(nl_division[5])"
   ]
  },
  {
   "cell_type": "markdown",
   "id": "0cd6060f-795e-4c8e-bd05-bc587d314e71",
   "metadata": {},
   "source": [
    "# Algorithm"
   ]
  },
  {
   "cell_type": "code",
   "execution_count": 200,
   "id": "6744d690-ef02-4183-9878-67c7c31f2c95",
   "metadata": {},
   "outputs": [],
   "source": [
    "example = edf.drop('Uczeń', axis=1)"
   ]
  },
  {
   "cell_type": "code",
   "execution_count": 363,
   "id": "ecc4751f-a368-4a76-8f7c-33ae6063e370",
   "metadata": {},
   "outputs": [],
   "source": [
    "def decision_tree(doc, label):\n",
    "    initial_entropy = entropy(doc[label])\n",
    "\n",
    "    tree = {}\n",
    "    columns = doc.columns.drop(label)\n",
    "\n",
    "    # calculate initial division entropy gains\n",
    "    # select the best division\n",
    "    best_initial_division = None\n",
    "    best_gain = 0\n",
    "    best_column = None\n",
    "    for column in columns:\n",
    "        division = initial_divide(doc, column, label)\n",
    "        conditional_entropy = cond_entropy(division)\n",
    "        g = gain(initial_entropy, conditional_entropy)\n",
    "        if best_gain < g:\n",
    "            best_column = column\n",
    "            best_gain = g\n",
    "            best_initial_division = division\n",
    "    \n",
    "    current_entropy = best_gain\n",
    "\n",
    "    # initialize tree root\n",
    "    tree[best_column] = {}\n",
    "    curr_tree = tree[best_column]\n",
    "\n",
    "    # node queue\n",
    "    nodes = []\n",
    "\n",
    "    labels_counter = Counter()\n",
    "    doc_keys = doc[best_column].unique()\n",
    "\n",
    "    # fill tree node\n",
    "    for k, v in best_initial_division.items():\n",
    "        if is_leaf(v):\n",
    "            curr_tree[k] = v[0][1]\n",
    "            labels_counter[v[0][1]] += 1\n",
    "        else:\n",
    "            curr_tree[k] = {}\n",
    "            nodes.append((curr_tree[k], v, best_column))\n",
    "\n",
    "    # fill in absent keys\n",
    "    absent_keys = set(best_initial_division.keys()).symmetric_difference(set(doc_keys))\n",
    "\n",
    "    for absent_key in absent_keys:\n",
    "        curr_tree[absent_key] = labels_counter.most_common()[0][0]\n",
    "\n",
    "    # do the same but for every subnode\n",
    "    while len(nodes) > 0:\n",
    "        curr_tree, subset, last_column = nodes.pop(0)\n",
    "\n",
    "        # find best division\n",
    "        best_division = None\n",
    "        best_gain = 0\n",
    "        best_column = None\n",
    "        for column in columns.drop(last_column):\n",
    "            division = divide(doc, subset, column)\n",
    "            conditional_entropy = cond_entropy(division)\n",
    "            g = gain(initial_entropy, conditional_entropy)\n",
    "            if best_gain < g:\n",
    "                best_column = column\n",
    "                best_gain = g\n",
    "                best_division = division\n",
    "\n",
    "        # initialize subnode root\n",
    "        curr_tree[best_column] = {}\n",
    "        curr_tree = curr_tree[best_column]\n",
    "\n",
    "        labels_counter = Counter()\n",
    "        doc_keys = doc[best_column].unique()\n",
    "\n",
    "        # fill in the subnode leafs\n",
    "        for k, v in best_division.items():\n",
    "            if is_leaf(v):\n",
    "                curr_tree[k] = v[0][1]\n",
    "                labels_counter[v[0][1]] += 1\n",
    "            else:\n",
    "                curr_tree[k] = {}\n",
    "                nodes.append((curr_tree[k], v, best_column))\n",
    "\n",
    "        # fill in the missing leafs\n",
    "        absent_keys = set(best_division.keys()).symmetric_difference(set(doc_keys))\n",
    "\n",
    "        for absent_key in absent_keys:\n",
    "            curr_tree[absent_key] = labels_counter.most_common()[0][0]\n",
    "    \n",
    "    return tree"
   ]
  },
  {
   "cell_type": "code",
   "execution_count": 364,
   "id": "67206037-810d-45db-b164-e06e4fb5e99e",
   "metadata": {},
   "outputs": [
    {
     "data": {
      "text/plain": [
       "{'Matematyka': {4: {'Biologia': {np.int64(4): {'Polski': {np.int64(5): 'T',\n",
       "      np.int64(4): 'N',\n",
       "      np.int64(3): 'T'}},\n",
       "    np.int64(5): 'T',\n",
       "    np.int64(3): 'T'}},\n",
       "  3: 'N',\n",
       "  5: 'N'}}"
      ]
     },
     "execution_count": 364,
     "metadata": {},
     "output_type": "execute_result"
    }
   ],
   "source": [
    "model = decision_tree(example, 'Decyzja')\n",
    "model"
   ]
  },
  {
   "cell_type": "code",
   "execution_count": 365,
   "id": "8720f81d-24e7-4a1d-aa77-9e44a21888db",
   "metadata": {},
   "outputs": [
    {
     "name": "stdout",
     "output_type": "stream",
     "text": [
      "{'Matematyka': {4: {'Biologia': {np.int64(4): {'Polski': {np.int64(5): 'T',\n",
      "                                                          np.int64(4): 'N',\n",
      "                                                          np.int64(3): 'T'}},\n",
      "                                 np.int64(5): 'T',\n",
      "                                 np.int64(3): 'T'}},\n",
      "                3: 'N',\n",
      "                5: 'N'}}\n"
     ]
    }
   ],
   "source": [
    "pprint.pp(model)"
   ]
  },
  {
   "cell_type": "code",
   "execution_count": 366,
   "id": "3b13d77d-83f4-4eb2-be03-add223c69b65",
   "metadata": {
    "scrolled": true
   },
   "outputs": [
    {
     "data": {
      "text/plain": [
       "{'Age': {22: 0,\n",
       "  38: 1,\n",
       "  26: {'Sex': {'female': 1, 'male': 0}},\n",
       "  35: {'Pclass': {np.int64(1): 1, np.int64(3): 0, np.int64(2): 0}},\n",
       "  34: {'Sex': {'male': 0, 'female': 1}},\n",
       "  54: 0,\n",
       "  2: 0,\n",
       "  27: {'Sex': {'female': 1, 'male': 0}},\n",
       "  14: {'Pclass': {np.int64(2): 1,\n",
       "    np.int64(3): {'SibSp': {np.int64(0): 1,\n",
       "      np.int64(1): 0,\n",
       "      np.int64(2): 1,\n",
       "      np.int64(3): 1,\n",
       "      np.int64(4): 1,\n",
       "      np.int64(5): 1}},\n",
       "    np.int64(1): 1}},\n",
       "  4: {'Sex': {'female': 1, 'male': 0}},\n",
       "  58: 1,\n",
       "  20: 0,\n",
       "  39: 0,\n",
       "  55: 1,\n",
       "  12: 1,\n",
       "  31: 0,\n",
       "  63: 1,\n",
       "  15: 1,\n",
       "  28: {'Pclass': {np.int64(1): {'SibSp': {np.int64(0): 1,\n",
       "      np.int64(1): 0,\n",
       "      np.int64(2): 1,\n",
       "      np.int64(3): 1,\n",
       "      np.int64(4): 1,\n",
       "      np.int64(5): 1}},\n",
       "    np.int64(3): 0,\n",
       "    np.int64(2): 0}},\n",
       "  8: 0,\n",
       "  44: 0,\n",
       "  19: {'Sex': {'male': 0, 'female': 1}},\n",
       "  6: 1,\n",
       "  78: 0,\n",
       "  40: {'Pclass': {np.int64(1): 1, np.int64(3): 0, np.int64(2): 1}},\n",
       "  77: 1,\n",
       "  66: 0,\n",
       "  42: 0,\n",
       "  21: {'Sex': {'male': 0, 'female': 1}},\n",
       "  18: {'SibSp': {np.int64(2): 0,\n",
       "    np.int64(0): 1,\n",
       "    np.int64(1): 0,\n",
       "    np.int64(3): 0,\n",
       "    np.int64(4): 0,\n",
       "    np.int64(5): 0}},\n",
       "  3: 1,\n",
       "  37: 0,\n",
       "  41: 0,\n",
       "  52: 0,\n",
       "  7: 0,\n",
       "  49: 1,\n",
       "  29: {'Sex': {'female': 1, 'male': 0}},\n",
       "  65: 0,\n",
       "  13: 1,\n",
       "  5: 1,\n",
       "  11: 0,\n",
       "  45: 0,\n",
       "  57: {'Pclass': {np.int64(1): 0, np.int64(3): 1, np.int64(2): 0}},\n",
       "  33: 1,\n",
       "  17: 1,\n",
       "  32: 0,\n",
       "  16: 0,\n",
       "  25: 0,\n",
       "  1: 1,\n",
       "  30: 1,\n",
       "  23: 1,\n",
       "  24: 0,\n",
       "  46: 0,\n",
       "  59: 0,\n",
       "  71: 0}}"
      ]
     },
     "execution_count": 366,
     "metadata": {},
     "output_type": "execute_result"
    }
   ],
   "source": [
    "model = decision_tree(df.drop(['PassengerId', 'Name'], axis=1), 'Survived')\n",
    "model"
   ]
  },
  {
   "cell_type": "code",
   "execution_count": 367,
   "id": "17a2e9f3-1113-43ec-a208-6fc30db07f80",
   "metadata": {},
   "outputs": [],
   "source": [
    "def predict(model, example):\n",
    "    key = list(model.keys())[0]\n",
    "    subtree = model\n",
    "\n",
    "    while True:\n",
    "        subtree = subtree[key][example[key]]\n",
    "        if type(subtree) is dict:\n",
    "            key = list(subtree.keys())[0]\n",
    "        else:\n",
    "            return subtree"
   ]
  },
  {
   "cell_type": "code",
   "execution_count": 368,
   "id": "3a652cca-e68e-46dd-8163-d6c4c0ffb7aa",
   "metadata": {},
   "outputs": [
    {
     "data": {
      "text/plain": [
       "0"
      ]
     },
     "execution_count": 368,
     "metadata": {},
     "output_type": "execute_result"
    }
   ],
   "source": [
    "predict(model, df.iloc[4])"
   ]
  },
  {
   "cell_type": "code",
   "execution_count": 369,
   "id": "71729c4c-b6ec-4e5a-94ba-a78eacc27d4f",
   "metadata": {},
   "outputs": [
    {
     "data": {
      "text/plain": [
       "PassengerId                           5\n",
       "Pclass                                3\n",
       "Name           Allen, Mr. William Henry\n",
       "Sex                                male\n",
       "Age                                  35\n",
       "SibSp                                 0\n",
       "Parch                                 0\n",
       "Survived                              0\n",
       "Name: 4, dtype: object"
      ]
     },
     "execution_count": 369,
     "metadata": {},
     "output_type": "execute_result"
    }
   ],
   "source": [
    "df.iloc[4]"
   ]
  },
  {
   "cell_type": "code",
   "execution_count": null,
   "id": "54b9f920-c71f-4449-9c32-b301227e1863",
   "metadata": {},
   "outputs": [],
   "source": []
  }
 ],
 "metadata": {
  "kernelspec": {
   "display_name": "Python 3 (ipykernel)",
   "language": "python",
   "name": "python3"
  },
  "language_info": {
   "codemirror_mode": {
    "name": "ipython",
    "version": 3
   },
   "file_extension": ".py",
   "mimetype": "text/x-python",
   "name": "python",
   "nbconvert_exporter": "python",
   "pygments_lexer": "ipython3",
   "version": "3.12.9"
  }
 },
 "nbformat": 4,
 "nbformat_minor": 5
}
