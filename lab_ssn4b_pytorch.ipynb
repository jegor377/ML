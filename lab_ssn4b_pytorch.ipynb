{
  "nbformat": 4,
  "nbformat_minor": 0,
  "metadata": {
    "colab": {
      "provenance": []
    },
    "kernelspec": {
      "name": "python3",
      "display_name": "Python 3"
    },
    "accelerator": "GPU"
  },
  "cells": [
    {
      "cell_type": "markdown",
      "metadata": {
        "id": "ebvqJaNU9bkH"
      },
      "source": [
        "# Wprowadzenie do sieci neuronowych i uczenia maszynowego\n",
        "\n",
        "## Lab 4b: Wprowadzenie do biblioteki PyTorch, uczenie sieci neuronowych\n",
        "\n",
        "---\n",
        "\n",
        "**Prowadzący:** Iwo Błądek, Anna Labijak-Kowalska<br>\n",
        "\n",
        "---"
      ]
    },
    {
      "cell_type": "markdown",
      "metadata": {
        "id": "Wlq47LA0BuBB"
      },
      "source": [
        "## Cel ćwiczeń\n",
        "\n",
        "* wprowadzenie biblioteki PyTorch,\n",
        "* ukazanie różnic i podobieństw pomiędzy NumPy a PyTorch,\n",
        "* algorytm wstecznej propagacji błędu w PyTorch."
      ]
    },
    {
      "cell_type": "markdown",
      "metadata": {
        "id": "C0AoiF16OTow"
      },
      "source": [
        "## PyTorch\n",
        "\n",
        "PyTorch to potężna biblioteka do uczenia maszynowego i głębokiego uczenia, stworzona przez Meta (dawniej Facebook).\n",
        "U podstaw jest to biblioteka implementująca operacje na tensorach (tablicach) na wzór NumPy, którego poszczególne elementy zostały zaprezentowane na poprzednich zajęciach.\n",
        "PyTorch oferuje dynamiczne podejście do tworzenia sieci neuronowych, co sprawia, że jest szczególnie popularny w środowisku badawczym i akademickim.\n",
        "\n",
        "Główne cechy PyTorch:\n",
        "- Natywna integracja z Python i łatwa współpraca z bibliotekami jak NumPy\n",
        "- Imperatywny styl programowania, który jest bardziej naturalny dla programistów Pythona\n",
        "- Dynamiczne grafy obliczeniowe (define-by-run), które ułatwiają debugowanie\n",
        "- Wsparcie dla CPU i GPU, z automatycznym przełączaniem między nimi\n",
        "- Rozbudowany ekosystem narzędzi i bibliotek (torchvision, torchaudio, torchtext)\n",
        "\n",
        "Aby rozpocząć pracę z PyTorch w Colab, wystarczy zaimportować bibliotekę:"
      ]
    },
    {
      "cell_type": "code",
      "metadata": {
        "id": "2ovUb2T9CbQv",
        "colab": {
          "base_uri": "https://localhost:8080/"
        },
        "outputId": "935f19f7-959b-4dd2-c2ed-2d24368b48c9"
      },
      "source": [
        "import torch\n",
        "print(f\"PyTorch version: {torch.__version__}\")\n",
        "print(f\"CUDA available: {torch.cuda.is_available()}\")"
      ],
      "execution_count": 1,
      "outputs": [
        {
          "output_type": "stream",
          "name": "stdout",
          "text": [
            "PyTorch version: 2.6.0+cu124\n",
            "CUDA available: True\n"
          ]
        }
      ]
    },
    {
      "cell_type": "markdown",
      "source": [
        "Jeśli nie korzystasz z Colab odwiedź https://pytorch.org/get-started/locally/ by dowiedzieć się jak zainstalować odpowiednią wersję dla swojego środowiska."
      ],
      "metadata": {
        "id": "3WuWss5Venrm"
      }
    },
    {
      "cell_type": "markdown",
      "metadata": {
        "id": "kyOQAsNXECp0"
      },
      "source": [
        "## Używanie biblioteki PyTorch"
      ]
    },
    {
      "cell_type": "markdown",
      "metadata": {
        "id": "QBy3wd9GSXa0"
      },
      "source": [
        "PyTorch domyślnie używa tensorów (tablic) z API bardzo podobnym do NumPy, poznanego na poprzednich zajęciach.\n",
        "\n",
        "Poniżej przedstawione zostało porównanie wykonania tego samego zadania w NumPy oraz w PyTorch:"
      ]
    },
    {
      "cell_type": "code",
      "metadata": {
        "id": "jl7PpJ5OOVNj",
        "colab": {
          "base_uri": "https://localhost:8080/"
        },
        "outputId": "64940ad9-19c0-498b-addb-764d17bd3e16"
      },
      "source": [
        "# Import biblioteki numpy\n",
        "import numpy as np\n",
        "\n",
        "# NumPy\n",
        "print(\"NumPy:\")\n",
        "x_np = np.array([[1., 2.], [3., 4.]])\n",
        "y_np = np.array([[5., 6.], [7., 8.]])\n",
        "z_np = np.multiply(x_np, y_np)\n",
        "print(f\"x:\\n{x_np}\")\n",
        "print(f\"y:\\n{y_np}\")\n",
        "print(f\"x * y:\\n{z_np}\")\n",
        "\n",
        "# PyTorch\n",
        "print(\"\\nPyTorch:\")\n",
        "x_torch = torch.tensor([[1., 2.], [3., 4.]])\n",
        "y_torch = torch.tensor([[5., 6.], [7., 8.]])\n",
        "z_torch = torch.mul(x_torch, y_torch)  # lub po prostu x_torch * y_torch\n",
        "print(f\"x:\\n{x_torch}\")\n",
        "print(f\"y:\\n{y_torch}\")\n",
        "print(f\"x * y:\\n{z_torch}\")"
      ],
      "execution_count": 2,
      "outputs": [
        {
          "output_type": "stream",
          "name": "stdout",
          "text": [
            "NumPy:\n",
            "x:\n",
            "[[1. 2.]\n",
            " [3. 4.]]\n",
            "y:\n",
            "[[5. 6.]\n",
            " [7. 8.]]\n",
            "x * y:\n",
            "[[ 5. 12.]\n",
            " [21. 32.]]\n",
            "\n",
            "PyTorch:\n",
            "x:\n",
            "tensor([[1., 2.],\n",
            "        [3., 4.]])\n",
            "y:\n",
            "tensor([[5., 6.],\n",
            "        [7., 8.]])\n",
            "x * y:\n",
            "tensor([[ 5., 12.],\n",
            "        [21., 32.]])\n"
          ]
        }
      ]
    },
    {
      "cell_type": "markdown",
      "source": [
        "W obu przypadkach uzyskamy identyczny wynik, ale PyTorch oferuje dodatkowo:\n",
        "\n",
        "- Automatyczne obliczanie gradientów (autograd)\n",
        "- Łatwe przenoszenie obliczeń na GPU\n",
        "- Zachowanie informacji o grafie obliczeniowym\n",
        "- Pełną integrację z debuggerem Pythona\n",
        "\n",
        "Inne przykłady składni bardzo podobnej do NumPy:"
      ],
      "metadata": {
        "id": "kgniwGZHgQsF"
      }
    },
    {
      "cell_type": "code",
      "source": [
        "# Operacje są prawie identyczne jak w NumPy\n",
        "print(x_np + y_np)\n",
        "print(x_torch + y_torch)  # dodawanie\n",
        "\n",
        "print(x_np * y_np)\n",
        "print(x_torch * y_torch)  # mnożenie element-wise\n",
        "\n",
        "print(x_np @ y_np)\n",
        "print(x_torch @ y_torch)  # mnożenie macierzowe\n",
        "\n",
        "print(np.mean(x_np))\n",
        "print(torch.mean(x_torch))  # średnia\n",
        "\n",
        "print(np.sum(x_np, axis=0))\n",
        "print(torch.sum(x_torch, dim=0))  # suma wzdłuż wymiaru"
      ],
      "metadata": {
        "id": "eWLUWruQgPaJ",
        "colab": {
          "base_uri": "https://localhost:8080/"
        },
        "outputId": "fa02dc05-c1e2-489b-be1e-c051c0cb24cb"
      },
      "execution_count": 3,
      "outputs": [
        {
          "output_type": "stream",
          "name": "stdout",
          "text": [
            "[[ 6.  8.]\n",
            " [10. 12.]]\n",
            "tensor([[ 6.,  8.],\n",
            "        [10., 12.]])\n",
            "[[ 5. 12.]\n",
            " [21. 32.]]\n",
            "tensor([[ 5., 12.],\n",
            "        [21., 32.]])\n",
            "[[19. 22.]\n",
            " [43. 50.]]\n",
            "tensor([[19., 22.],\n",
            "        [43., 50.]])\n",
            "2.5\n",
            "tensor(2.5000)\n",
            "[4. 6.]\n",
            "tensor([4., 6.])\n"
          ]
        }
      ]
    },
    {
      "cell_type": "code",
      "metadata": {
        "id": "GKGuFNGnTa9c",
        "colab": {
          "base_uri": "https://localhost:8080/"
        },
        "outputId": "b90c3243-d72a-41bc-db62-81f071113625"
      },
      "source": [
        "# Również w przypadku alokowania tablic/tensorów\n",
        "\n",
        "# Tablice zer\n",
        "arr_np = np.zeros([5, 5])\n",
        "arr_torch = torch.zeros(5, 5)\n",
        "\n",
        "# Tablice jedynek\n",
        "arr_np = np.ones([5, 5])\n",
        "arr_torch = torch.ones(5, 5)\n",
        "\n",
        "# Tablice ze zdefiniowanymi wartościami\n",
        "arr_np = np.array([1, 2, 3, 4, 5])\n",
        "arr_torch = torch.tensor([1, 2, 3, 4, 5])\n",
        "\n",
        "# Tablice z losowymi wartościami z rozkładu normalnego\n",
        "arr_np = np.random.normal(0, 1, [5, 5])\n",
        "arr_torch = torch.randn(5, 5)  # standardowy rozkład normalny (mean=0, std=1)\n",
        "# Alternatywnie, z konkretną średnią i odchyleniem:\n",
        "arr_torch = torch.normal(mean=0, std=1, size=(5, 5))\n",
        "\n",
        "print('NumPy array:\\n', arr_np, '\\n')\n",
        "print('PyTorch array:\\n', arr_torch, '\\n')"
      ],
      "execution_count": 4,
      "outputs": [
        {
          "output_type": "stream",
          "name": "stdout",
          "text": [
            "NumPy array:\n",
            " [[ 0.17818422  0.84055237  1.20854109  0.39828984  0.44522279]\n",
            " [ 0.95023135  1.12423204 -1.45238158  0.72496447 -0.20802212]\n",
            " [ 2.19365628 -1.15474592  1.12627519  1.17848003 -0.76819388]\n",
            " [ 0.4509379   0.67204709  2.13495947  1.14718028  0.44292757]\n",
            " [ 1.15775805 -0.46507032 -0.08259619 -0.12036391 -0.95856952]] \n",
            "\n",
            "PyTorch array:\n",
            " tensor([[ 0.0337, -1.4928, -0.7934,  0.2869,  2.5314],\n",
            "        [ 1.7664,  0.3410,  2.1835,  0.5812,  0.5130],\n",
            "        [ 0.3573,  1.0864,  1.1672,  1.5840, -0.2454],\n",
            "        [-0.1094,  0.6912, -1.1792,  0.2264,  0.1151],\n",
            "        [-1.9000, -1.7457, -1.5665, -0.8447,  0.8298]]) \n",
            "\n"
          ]
        }
      ]
    },
    {
      "cell_type": "markdown",
      "source": [
        "Warto zauważyć kilka różnic między NumPy a PyTorch:\n",
        "\n",
        "- W PyTorch często pomijamy \"nawiasy\" przy definiowaniu wymiarów - używamy po prostu `torch.zeros(5, 5)` zamiast `torch.zeros([5, 5])` lub `torch.zeros((5, 5))`. Czyli kolejne wymiary są przekazywane jako kolejne argumenty a nie obiekt o typie sekwencji.\n",
        "- Zamiast array używamy tensor do tworzenia tensorów ze zdefiniowanymi wartościami.\n",
        "Dla rozkładu normalnego PyTorch oferuje zarówno `torch.randn()` (dla standardowego rozkładu normalnego) jak i bardziej ogólną funkcję `torch.normal()`.\n",
        "- Operacje po konkretnych wymiarach używają argumentu `dim` zamiast `axis`.\n",
        "\n",
        "Wszystkie te tensory mogą być łatwo przeniesione na GPU poprzez dodanie metody `.cuda()` lub `.to('cuda')`, na przykład:\n"
      ],
      "metadata": {
        "id": "rT4hyM6yhZ-Q"
      }
    },
    {
      "cell_type": "code",
      "source": [
        "if torch.cuda.is_available():\n",
        "    arr_torch = arr_torch.cuda()\n",
        "arr_torch"
      ],
      "metadata": {
        "id": "xaCtOIE5hZRB",
        "colab": {
          "base_uri": "https://localhost:8080/"
        },
        "outputId": "fd83ca1d-473e-4e52-ba9d-fa6a223c535c"
      },
      "execution_count": 5,
      "outputs": [
        {
          "output_type": "execute_result",
          "data": {
            "text/plain": [
              "tensor([[ 0.0337, -1.4928, -0.7934,  0.2869,  2.5314],\n",
              "        [ 1.7664,  0.3410,  2.1835,  0.5812,  0.5130],\n",
              "        [ 0.3573,  1.0864,  1.1672,  1.5840, -0.2454],\n",
              "        [-0.1094,  0.6912, -1.1792,  0.2264,  0.1151],\n",
              "        [-1.9000, -1.7457, -1.5665, -0.8447,  0.8298]], device='cuda:0')"
            ]
          },
          "metadata": {},
          "execution_count": 5
        }
      ]
    },
    {
      "cell_type": "markdown",
      "source": [
        "Od teraz wszystkie operacje wykonywane na tym tensorze będą się automatycznie działy na GPU.\n",
        "\n",
        "**Ważne:** Jeśli dwa obiekty wchodzą ze sobą w interakcję muszą znajdować się na tym samym urządzeniu (albo oba na GPU, albo oba na CPU)."
      ],
      "metadata": {
        "id": "4YOWeRg-Fatp"
      }
    },
    {
      "cell_type": "markdown",
      "metadata": {
        "id": "IDAxwKNDUMrH"
      },
      "source": [
        "### Ćwiczenie\n",
        "\n",
        "Zaalokuj tablicę samych zer o wymiarze 2 x 2. Następnie utwórz tablicę jedynek o tym samym wymiarze (wykorzystaj funkcję ones_like)."
      ]
    },
    {
      "cell_type": "code",
      "metadata": {
        "id": "lnt4cj4vWhms",
        "colab": {
          "base_uri": "https://localhost:8080/"
        },
        "outputId": "d1049afc-f21b-4415-b70c-f692e3067982"
      },
      "source": [
        "# alokacja zer\n",
        "z = torch.zeros(2,2)\n",
        "\n",
        "# alokacja jedynek\n",
        "o = torch.ones_like(z)\n",
        "\n",
        "print(z)\n",
        "print(o)"
      ],
      "execution_count": 6,
      "outputs": [
        {
          "output_type": "stream",
          "name": "stdout",
          "text": [
            "tensor([[0., 0.],\n",
            "        [0., 0.]])\n",
            "tensor([[1., 1.],\n",
            "        [1., 1.]])\n"
          ]
        }
      ]
    },
    {
      "cell_type": "markdown",
      "metadata": {
        "id": "xIo9g-OZI-jv"
      },
      "source": [
        "### Zmienne \"uczone\" i autograd w PyTorch"
      ]
    },
    {
      "cell_type": "markdown",
      "metadata": {
        "id": "RZW2QB-HJDxu"
      },
      "source": [
        "Drugim filarem biblioteki PyTorch, po operacjach na tensorach, jest autograd.\n",
        "Autograd to kluczowa funkcjonalność, która umożliwia automatyczne obliczanie gradientów. Jest to fundamentalny mechanizm używany w uczeniu głębokich sieci neuronowych.\n",
        "\n",
        "W PyTorch możemy oznaczać tensory, które mają brać udział w liczeniu gradientów poprzez `requires_grad=True`."
      ]
    },
    {
      "cell_type": "code",
      "metadata": {
        "id": "tpLPMsD0JeB_",
        "colab": {
          "base_uri": "https://localhost:8080/"
        },
        "outputId": "926bd902-a933-412b-e804-4f3380760da6"
      },
      "source": [
        "x = torch.tensor(2.0, requires_grad=True)  # włączamy śledzenie gradientu\n",
        "#x = torch.tensor(2.0)  # to spowoduje błąd poniższego kodu\n",
        "print(f\"x = {x}\")\n",
        "print(f\"Czy x wymaga gradientu? {x.requires_grad}\")\n",
        "\n",
        "# Wykonujemy operacje matematyczne\n",
        "y = x * 2  # y = 2x\n",
        "z = y * y  # z = 4x²\n",
        "\n",
        "print(f\"\\ny = {y}\")\n",
        "print(f\"z = {z}\")\n",
        "\n",
        "# Obliczamy gradient dz/dx\n",
        "z.backward()\n",
        "\n",
        "# Sprawdzamy gradient (powinien być 16, bo dz/dx = 8x dla x=2)\n",
        "print(f\"\\nGradient dz/dx = {x.grad}\")"
      ],
      "execution_count": 7,
      "outputs": [
        {
          "output_type": "stream",
          "name": "stdout",
          "text": [
            "x = 2.0\n",
            "Czy x wymaga gradientu? True\n",
            "\n",
            "y = 4.0\n",
            "z = 16.0\n",
            "\n",
            "Gradient dz/dx = 16.0\n"
          ]
        }
      ]
    },
    {
      "cell_type": "code",
      "source": [
        "# Alternatywną metodą zdefiniowana zmiennej wymagającej liczenia gradientu\n",
        "# jest użycie klasy wrappującej parametr sieci neuronowej\n",
        "import torch.nn as nn\n",
        "\n",
        "x = nn.Parameter(torch.tensor(2.0))\n",
        "print(f\"x = {x}\")\n",
        "print(f\"Czy x wymaga gradientu? {x.requires_grad}\")\n",
        "\n",
        "# Wykonujemy operacje matematyczne\n",
        "y = x * 2  # y = 2x\n",
        "z = y * y  # z = 4x²\n",
        "\n",
        "print(f\"\\ny = {y}\")\n",
        "print(f\"z = {z}\")\n",
        "\n",
        "# Obliczamy gradient dz/dx\n",
        "z.backward()\n",
        "\n",
        "# Sprawdzamy gradient (powinien być 16, bo dz/dx = 8x dla x=2)\n",
        "print(f\"\\nGradient dz/dx = {x.grad}\")"
      ],
      "metadata": {
        "id": "uDM2kQrjoItG",
        "colab": {
          "base_uri": "https://localhost:8080/"
        },
        "outputId": "67588dc0-a84a-4259-dcb2-37aa1751ffa4"
      },
      "execution_count": 8,
      "outputs": [
        {
          "output_type": "stream",
          "name": "stdout",
          "text": [
            "x = Parameter containing:\n",
            "tensor(2., requires_grad=True)\n",
            "Czy x wymaga gradientu? True\n",
            "\n",
            "y = 4.0\n",
            "z = 16.0\n",
            "\n",
            "Gradient dz/dx = 16.0\n"
          ]
        }
      ]
    },
    {
      "cell_type": "markdown",
      "source": [
        "Aby potem wyzerować gradient ale nie usuwać samej zmiennej możemy ustawić go na `None`."
      ],
      "metadata": {
        "id": "Aznpgq5JkSyy"
      }
    },
    {
      "cell_type": "code",
      "source": [
        "x.grad = None"
      ],
      "metadata": {
        "id": "eXGr0lNpkP_V"
      },
      "execution_count": 9,
      "outputs": []
    },
    {
      "cell_type": "markdown",
      "metadata": {
        "id": "-Sh_nuvpLfJu"
      },
      "source": [
        "### Funkcje aktywacji i straty w PyTorch"
      ]
    },
    {
      "cell_type": "markdown",
      "metadata": {
        "id": "zbUbMgx0LkXd"
      },
      "source": [
        "PyTorch jest biblioteką przygotowaną do **Machine Learningu**. Wiele operacji bardzo często się powtarza w wielu zagadnieniach, np. funkcje aktywacji, funkcje straty, metryki, rodzaje warstw (operacji), itp. Stąd, w bilbiotece tej możemy znaleźć już gotowe komponenty, które można z łatwością wykorzystać (więcej o tym na kolejnych zajęciach).\n",
        "\n",
        "Poniżej zaprezentowane zostały gotowe funkcje aktywacji oraz straty."
      ]
    },
    {
      "cell_type": "code",
      "metadata": {
        "id": "v_Z84f4NMI0_",
        "colab": {
          "base_uri": "https://localhost:8080/"
        },
        "outputId": "c76b9c6b-d091-41ba-efb0-7179536a873f"
      },
      "source": [
        "import torch\n",
        "import torch.nn as nn\n",
        "import torch.nn.functional as F  # funkcje aktywacji i inne operacje\n",
        "\n",
        "# 1. Funkcje aktywacji\n",
        "# Możemy używać ich na dwa sposoby:\n",
        "# a) Jako warstwy (zalecane w modelach, o warstwach więcej na kolejnych zajęciach):\n",
        "activation_layers = {\n",
        "    'ReLU': nn.ReLU(),\n",
        "    'LeakyReLU': nn.LeakyReLU(negative_slope=0.1),\n",
        "    'Sigmoid': nn.Sigmoid(),\n",
        "    'Tanh': nn.Tanh(),\n",
        "    'ELU': nn.ELU(alpha=1.0),\n",
        "    'SELU': nn.SELU(),\n",
        "    'Softmax': nn.Softmax(dim=1),\n",
        "    'LogSoftmax': nn.LogSoftmax(dim=1)\n",
        "}\n",
        "\n",
        "# b) Jako funkcje (przydatne w obliczeniach doraźnych):\n",
        "x = torch.randn(2, 3)\n",
        "print(\"Dane wejściowe:\")\n",
        "print(x)\n",
        "\n",
        "print(\"\\nRóżne funkcje aktywacji:\")\n",
        "print(\"ReLU:\", F.relu(x))\n",
        "print(\"Sigmoid:\", torch.sigmoid(x))\n",
        "print(\"Tanh:\", torch.tanh(x))\n",
        "print(\"Softmax:\", F.softmax(x, dim=1))\n",
        "\n",
        "# 2. Funkcje straty (loss functions)\n",
        "loss_functions = {\n",
        "    'MSE': nn.MSELoss(),  # Mean Squared Error - regresja\n",
        "    'BCE': nn.BCELoss(),  # Binary Cross Entropy - klasyfikacja binarna\n",
        "    'CrossEntropy': nn.CrossEntropyLoss(),  # klasyfikacja wieloklasowa\n",
        "    'L1': nn.L1Loss(),  # Mean Absolute Error\n",
        "    'Huber': nn.HuberLoss(),  # połączenie MSE i L1\n",
        "    'KLDiv': nn.KLDivLoss(),  # Kullback-Leibler Divergence\n",
        "}\n",
        "\n",
        "# Przykład użycia funkcji straty:\n",
        "# Regresja\n",
        "x = torch.randn(3, 1)  # predykcje\n",
        "y = torch.randn(3, 1)  # wartości rzeczywiste\n",
        "mse_loss = nn.MSELoss()(x, y)\n",
        "print(f\"\\nMSE Loss: {mse_loss.item()}\")\n",
        "\n",
        "# Klasyfikacja\n",
        "predictions = torch.randn(3, 5)  # logity dla 5 klas\n",
        "targets = torch.tensor([1, 0, 4])  # prawidłowe klasy\n",
        "ce_loss = nn.CrossEntropyLoss()(predictions, targets)\n",
        "print(f\"Cross Entropy Loss: {ce_loss.item()}\")"
      ],
      "execution_count": 10,
      "outputs": [
        {
          "output_type": "stream",
          "name": "stdout",
          "text": [
            "Dane wejściowe:\n",
            "tensor([[-0.3630,  0.6588,  0.0410],\n",
            "        [ 0.1396, -0.4058, -0.5735]])\n",
            "\n",
            "Różne funkcje aktywacji:\n",
            "ReLU: tensor([[0.0000, 0.6588, 0.0410],\n",
            "        [0.1396, 0.0000, 0.0000]])\n",
            "Sigmoid: tensor([[0.4102, 0.6590, 0.5103],\n",
            "        [0.5348, 0.3999, 0.3604]])\n",
            "Tanh: tensor([[-0.3479,  0.5776,  0.0410],\n",
            "        [ 0.1387, -0.3849, -0.5179]])\n",
            "Softmax: tensor([[0.1895, 0.5266, 0.2839],\n",
            "        [0.4831, 0.2801, 0.2368]])\n",
            "\n",
            "MSE Loss: 0.30484625697135925\n",
            "Cross Entropy Loss: 2.22334361076355\n"
          ]
        }
      ]
    },
    {
      "cell_type": "markdown",
      "metadata": {
        "id": "RxSdsMUWD9ci"
      },
      "source": [
        "## Kompilacja grafów obliczeniowych\n",
        "\n",
        "W PyTorch również istnieje możliwość optymalizacji kodu poprzez kompilację grafów obliczeniowych, używając torch.jit (znanego jako TorchScript) oraz torch.compile() (wprowadzonego w PyTorch 2.0). Zaletą ich używania jest to, że pozwalają one używać podzbioru normalnego Pythona."
      ]
    },
    {
      "cell_type": "code",
      "metadata": {
        "id": "ets0mmTSUVsK",
        "colab": {
          "base_uri": "https://localhost:8080/"
        },
        "outputId": "ca8c48c7-77ea-46d0-f077-8a72dcfacb8a"
      },
      "source": [
        "import torch\n",
        "import time\n",
        "\n",
        "# 1. Używając TorchScript (@torch.jit.script)\n",
        "@torch.jit.script\n",
        "def scripted_fn(x, y):\n",
        "    for i in range(100):\n",
        "        x = x + y\n",
        "    return x\n",
        "\n",
        "# 2. Używając torch.compile (PyTorch 2.0+)\n",
        "@torch.compile\n",
        "def compiled_fn(x, y):\n",
        "    for i in range(100):\n",
        "        x = x + y\n",
        "    return x\n",
        "\n",
        "# 3. Zwykła funkcja Pythona dla porównania\n",
        "def regular_fn(x, y):\n",
        "    for i in range(100):\n",
        "        x = x + y\n",
        "    return x\n",
        "\n",
        "# Przygotowanie danych\n",
        "x = torch.randn(1000, 1000)\n",
        "y = torch.randn(1000, 1000)\n",
        "\n",
        "# Porównanie wydajności\n",
        "def benchmark(fn, name, x, y, warmup=1, runs=5):\n",
        "    # Warmup\n",
        "    for _ in range(warmup):\n",
        "        _ = fn(x, y)\n",
        "\n",
        "    # Pomiar czasu\n",
        "    start = time.time()\n",
        "    for _ in range(runs):\n",
        "        _ = fn(x, y)\n",
        "    end = time.time()\n",
        "\n",
        "    print(f\"{name}: {(end-start)/runs:.4f} sekund na iterację\")\n",
        "\n",
        "# Uruchamiamy benchmark\n",
        "print(\"Porównanie wydajności:\")\n",
        "benchmark(regular_fn, \"Zwykła funkcja\", x, y)\n",
        "benchmark(scripted_fn, \"TorchScript\", x, y)\n",
        "benchmark(compiled_fn, \"Torch Compile\", x, y)"
      ],
      "execution_count": 11,
      "outputs": [
        {
          "output_type": "stream",
          "name": "stdout",
          "text": [
            "Porównanie wydajności:\n",
            "Zwykła funkcja: 0.0572 sekund na iterację\n",
            "TorchScript: 0.0599 sekund na iterację\n",
            "Torch Compile: 0.0083 sekund na iterację\n"
          ]
        }
      ]
    },
    {
      "cell_type": "markdown",
      "source": [
        "### Ważne uwagi:\n",
        "\n",
        "TorchScript (`@torch.jit.script`):\n",
        "\n",
        "- Kompiluje (szybko) kod Python do pośredniej reprezentacji\n",
        "- Pozwala na eksport modelu do formatu niezależnego od Pythona\n",
        "- Ma pewne ograniczenia składniowe i typowanie\n",
        "- Dobry do produkcyjnego wdrażania modeli\n",
        "\n",
        "\n",
        "Torch Compile (`@torch.compile`):\n",
        "\n",
        "- Nowsza metoda wprowadzona w PyTorch 2.0\n",
        "- Często daje lepszą optymalizację\n",
        "- Łatwiejsza w użyciu niż TorchScript\n",
        "- Zachowuje więcej funkcjonalności Pythona\n",
        "- Wymaga dłuższej kompilacji przy pierwszym uruchomienu funkcji.\n",
        "\n",
        "Generalnie od wersji 2.0 zaleca się używanie Torch Compile.\n",
        "Zarówno TorchScript jak i Torch Compile utrudniają debugowanie."
      ],
      "metadata": {
        "id": "v3VHiaonmtuR"
      }
    },
    {
      "cell_type": "markdown",
      "metadata": {
        "id": "gQ-XK5nUEUWd"
      },
      "source": [
        "## Algorytm wstecznej propagacji błędu"
      ]
    },
    {
      "cell_type": "markdown",
      "metadata": {
        "id": "ZWWYxKRmguWl"
      },
      "source": [
        "Do wyprowadzenia wzorów na aktualizację zmiennych w algorytmie niezbędna jest znajomość zagadnień **chain-rule** oraz **multivariable chain-rule**. Poza podstawową wiedzą z matematyki są to jedyne niezbędne zagadnienia.\n",
        "\n",
        "### Chain-rule & Multivariable Chain-rule\n",
        "\n",
        "Poniżej zostały zaprezentowane zagadnienia **chain-rule** oraz **multivariable chain-rule** w sposób intuicyjny (i graficzny). Poniższa notacja została zaczerpnięta z sieci neuronowych, aby skojarzyć związek z algorytmem **backpropagation**.\n",
        "\n",
        "#### Chain-rule\n",
        "\n",
        "Jest to reguła opierająca się na pochodnej funkcji złożonej. W graficzny sposób można to pokazać następująco:\n",
        "\n",
        "![chain-rule](https://drive.google.com/uc?id=1S8pSUrrOzoisKr8d8YJaQHNLYgEq2dpk)\n",
        "\n",
        "Gdzie $L$ to pewna funkcja dla której liczymy pochodną względem zmiennej $w$. Jak widać, $L$ zależy od $y$, który zależy od $z$ który dopiero zależy bezpośrednio od $w$. Zależności tworzą łańcuch, skąd pochodzi nazwa **chain-rule**.\n",
        "\n",
        "#### Multivariable Chain-rule\n",
        "\n",
        "W przypadku gdy \"łańcuch\" w pewnym momencie się rozgałęzia, dalej możemy korzystać z zasady **chain-rule**, jednak tym razem przybiera ona formę nieco inną (lecz dalej intuicyjną):\n",
        "\n",
        "![multivariable-chain-rule](https://drive.google.com/uc?id=13WH6JXd_5rnTkyToKrBcCZDPdUXCqoT8)\n",
        "\n",
        "W tym przypadku, pochodna funkcji $L$ po zmiennej $z$ wyrażona jest jako suma pochodnych funkcji złożonych odpowiednio $y_1$ oraz $y_2$. Nic nie stoi na przeszkodzie, żeby stosować tę regułę także w sytuacji większej liczby rozgałęzień niż dwa, po prostu zawsze się dodaje pochodne z osobnych \"ścieżek\".\n",
        "\n",
        "<!-- \\\\ %ib: chyba nie jest to tak dobry przykład, jak myślałem...\n",
        "\n",
        "##### **Przykład:**\n",
        "Załóżmy, że mamy funkcję $f(x) = x\\cdot ln(x)$. Możemy ją przedstawić jako $f(x) = g(x)\\cdot h(x)$, gdzie $g(x)=x$ i $h(x)=ln(x)$. Korzystając z multivariable chain-rule możemy wyprowadzić:\n",
        "\n",
        "$$\\frac{\\partial f(x)}{\\partial x} = \\frac{\\partial g(x)h(x)}{\\partial x} = \\frac{\\partial g(x)h(x)}{\\partial g(x)} \\frac{\\partial g(x)}{\\partial x} + \\frac{\\partial g(x)h(x)}{\\partial h(x)} \\frac{\\partial h(x)}{\\partial x} = h(x)\\cdot 1 + g(x)\\cdot \\frac{1}{x} = ln(x) + 1$$\n",
        "\n",
        "Zwróć uwagę, że wzór na pochodną iloczynu jest szczególnym przypadkiem multivariable chain-rule:\n",
        "$$(g(x)h(x))' = g'(x)h(x) + g(x)h'(x) = 1\\cdot ln(x) + x\\cdot\\frac{1}{x} = ln(x) + 1$$ -->\n",
        "\n",
        "\\\\\n",
        "\n",
        "### Backpropagation\n",
        "\n",
        "Algorytm **wstecznej propagacji błędu** jest właściwie jedynie rozwinięciem **reguły delta/uczenia za pomocą metody spadku wzdłóż gradientu**, która została przedstawiona na pierwszych zajęciach. Podobnie jak poprzednio, uczenie neuronów opisane jest w następujący sposób:\n",
        "\n",
        "$$w_i' = w_i - \\mu \\frac{\\partial L}{\\partial w_i} $$\n",
        "\n",
        "Jedyną różnicą jest sposób w jaki się wylicza gradient. Nawiązując do powyższych, krótkich wyjaśnień **chain-rule**, w podobny sposób należy traktować sieci neuronowe.\n",
        "\n",
        "**Dla warstwy wyjściowej** gradient można przedstawić następująco:\n",
        "\n",
        "$$\\frac{\\partial L}{\\partial w_{ij}} = \\frac{\\partial L}{\\partial y_j} \\frac{\\partial y_j}{\\partial w_{ji}} = \\frac{\\partial L}{\\partial y_j} \\frac{\\partial y_j}{\\partial z_j}\\frac{\\partial z_j}{\\partial w_{ji}}$$\n",
        "\n",
        "Albo inaczej:\n",
        "\n",
        "$$\\frac{\\partial L}{\\partial w_{ij}} = \\delta_j o_i$$\n",
        "\n",
        "gdzie $w_{ji}$ oznacza wagę połączenia pomiędzy neuronem $j$ a $i$, $\\delta_j = \\frac{\\partial L}{\\partial y_j} \\frac{\\partial y_j}{\\partial z_j}$ oraz $o_i$ to wyjście z neuronu $i$ (dla neuronów w pierwszej warstwie będą to wejścia do sieci, natomiast w kolejnych warstwach będą to wyjścia z neuronów poprzednich).\n",
        "\n",
        "**Dla warstwy ukrytej** sprawa nieco bardziej się komplikuje. Weźmy jako przykład następującą prostą sieć z 2 warstwami i łącznie 3 neuronami:\n",
        "\n",
        "![simplenet](https://drive.google.com/uc?id=1NXHjEWUX3gAbn8NnHh9eGWdQaSNDavKW)\n",
        "\n",
        "Dla warstwy wyjściowej możemy skorzystać jedynie z **chain-rule** uzyskując następujące równanie:\n",
        "\n",
        "$$\\frac{\\partial L}{\\partial w^{2}_{i}} = \\frac{\\partial L}{\\partial y^{2}_i} \\frac{\\partial y^{2}_i}{\\partial z^{2}_i}\\frac{\\partial z^{2}_i}{\\partial w^{2}_{i}} = \\delta^2_i y^1_1$$\n",
        "\n",
        "Przy obliczaniu gradientu dla warstwy ukrytej najpierw stosujemy  proste **chain-rule**:\n",
        "\n",
        "$$\\frac{\\partial L}{\\partial w^{1}_{1}} = \\frac{\\partial L}{\\partial y^{1}_1} \\frac{\\partial y^{1}_1}{\\partial z^{1}_1}\\frac{\\partial z^{1}_1}{\\partial w^{1}_{1}}$$\n",
        "\n",
        "W tym momencie można zauważyć, że jest możliwe zastosowanie **multivariable chain-rule** do wyrażenia $\\frac{\\partial L}{\\partial y^{1}_1}$ (ponieważ $L$ nie zależy bezpośrednio od $y^{1}_1$, oraz występuje \"rozgałęzienie\" od $y$):\n",
        "\n",
        "$$\\frac{\\partial L}{\\partial y^{1}_1} = \\frac{\\partial L}{\\partial y^{2}_1} \\frac{\\partial y^{2}_1}{\\partial y^{1}_1} + \\frac{\\partial L}{\\partial y^{2}_2} \\frac{\\partial y^{2}_2}{\\partial y^{1}_1} = \\frac{\\partial L}{\\partial y^{2}_1} \\frac{\\partial y^{2}_1}{\\partial z^{2}_1}\\frac{\\partial z^{2}_1}{\\partial y^{1}_1} + \\frac{\\partial L}{\\partial y^{2}_2} \\frac{\\partial y^{2}_2}{\\partial z^{2}_2} \\frac{\\partial z^{2}_2}{\\partial y^{1}_1}$$\n",
        "\n",
        "Tu można zauważyć, że $\\frac{\\partial z^{2}_2}{\\partial y^{1}_1} = w^2_2$ oraz $\\frac{\\partial L}{\\partial y^{2}_2} \\frac{\\partial y^{2}_2}{\\partial z^{2}_2} = \\delta^2_2$ (przy założeniu liniowej funkcji aktywacji), co daje nam końcowo:\n",
        "\n",
        "$$\\frac{\\partial L}{\\partial y^{1}_1} = \\sum_i^2 \\delta^2_i w^2_i$$\n",
        "\n",
        "Podstawiając do wcześniejszego wzoru otrzymujemy:\n",
        "\n",
        "$$\\frac{\\partial L}{\\partial w^{1}_{1}} = \\sum_i^2 \\delta^2_i w^2_i \\frac{\\partial y^{1}_1}{\\partial z^{1}_1}\\frac{\\partial z^{1}_1}{\\partial w^{1}_{1}}$$\n",
        "\n",
        "Ostatecznie, za pomocą następujących podstawień możemy sprowadzić powyższe równanie do wersji spójnej z gradientem dla warstwy wyjściowej:\n",
        "\n",
        "$$\\sum_i^2 \\delta^2_i w^2_i \\frac{\\partial y^{1}_1}{\\partial z^{1}_1} = \\delta^1_1$$\n",
        "$$\\frac{\\partial z^{1}_1}{\\partial w^{1}_{1}} = x$$\n",
        "$$\\frac{\\partial L}{\\partial w^{1}_{1}} = \\delta^1_1 x$$\n",
        "\n",
        "\n",
        "\n",
        "---\n",
        "\n",
        "Podsumowując, zarówno dla warstwy wyjściowej jak i warstwy ukrytej gradienty możemy przedstawić w tej samej formie, składającej się z **błędu neuronu** ($\\delta$), oraz wyjścia z poprzedniej warstwy ($y$ lub $x$).\n",
        "\n",
        "$$\\frac{\\partial L}{\\partial w^{i}_{j}} = \\delta^i_j o^{(i-1)}$$"
      ]
    },
    {
      "cell_type": "markdown",
      "metadata": {
        "id": "TJKj35Ykeqzn"
      },
      "source": [
        "### Automatyczna wsteczna propagacja błędu"
      ]
    },
    {
      "cell_type": "markdown",
      "metadata": {
        "id": "DA3PfOaWcE9q"
      },
      "source": [
        "Można rozpatrywać różne algorytmy optymalizacji działające na bazie algorytmu wstecznej propagacji błędu, który sam w sobie jest po prostu pewną strategią przydziału informacji o błędzie do zmiennych, a to jak na tej podstawie będziemy je modyfikować pozostaje otwartą kwestią. Jednym z prostszych optymalizatorów jest **Stochastic Gradient Descent** (SGD). Różni się od klasycznego Gradient Descent tym, że w jego przypadku gradient liczony jest w każdej iteracji dla losowo wybranego podzbioru danych uczących zamiast dla wszystkich. Innym popularnym optymalizatorem jest **ADAM** (od \"adaptive moment estimation\"), który każdą zmienną modyfikuje na podstawie jej statystycznych momentów (rzędu 1 i 2) gradientu w pewnym oknie czasowym. Ogólnie konstruowanie optymalizatorów opartych na gradiencie to cała osobna obszerna dziedzina naukowa. Przykładowo, na niektórych problemach ADAM ma znacznie szybszą zbieżność niż SGD, ale na innych zauważalnie gorzej radzi sobie z uogólnieniem wiedzy i w efekcie błąd na zbiorze testowym jest większy.\n",
        "\n",
        "Poniżej zaprezentowany został algorytm wstecznej propagacji błędu zaimplementowany w bibliotece PyTorch. Przykład składa się z definicji sieci neuronowej, funkcji straty oraz jednego kroku uczenia przy użyciu gotowego optymalizatora."
      ]
    },
    {
      "cell_type": "markdown",
      "metadata": {
        "id": "gyUufSiJEgUH"
      },
      "source": [
        "### Prosta sieć neuronowa"
      ]
    },
    {
      "cell_type": "code",
      "metadata": {
        "id": "Ra9SuKPAE1wU"
      },
      "source": [
        "import torch\n",
        "\n",
        "# zmienne uczone pojedynczego neuronu, który na wejście otrzymuje wektor 10 liczb\n",
        "w = torch.nn.Parameter(torch.ones(10, 1))\n",
        "b = torch.nn.Parameter(torch.ones(1))\n",
        "\n",
        "# definicja 1-warstwowej sieci neuronowej z funkcją aktywacji relu\n",
        "# (@ jest również aliasem do torch.matmul() w PyTorch)\n",
        "def network(x):\n",
        "    return torch.relu(x @ w + b)"
      ],
      "execution_count": 12,
      "outputs": []
    },
    {
      "cell_type": "markdown",
      "metadata": {
        "id": "c97P9HzdEnID"
      },
      "source": [
        "### Funkcja straty"
      ]
    },
    {
      "cell_type": "markdown",
      "metadata": {
        "id": "JAaD7jSpyUmk"
      },
      "source": [
        "W poniższym kodzie torch.mean to odpowiednik np.mean i działa tak samo. Jako drugi argument można podać wymiar, po którym liczona będzie średnia (domyślnie liczona jest z wszystkich wymiarów). Jeżeli chodzi o *reduce* (nazywane również *fold*) w nazwie, to jest to schemat obliczeń często wykorzystywany w paradygmacie programowania funkcyjnego, i polega na rekurencyjnym przechodzeniu przez strukturę przy jednoczesnym konstruowaniu nowej, w pewnym sensie redukując tę strukturę (np. macierz liczb) do nowej struktury (np. liczby)."
      ]
    },
    {
      "cell_type": "code",
      "metadata": {
        "id": "sqwbPkFiE2UZ"
      },
      "source": [
        "# mean squared error jako funkcja straty\n",
        "def loss_fn(y_pred, y_true):\n",
        "   return torch.mean((y_pred - y_true) ** 2)"
      ],
      "execution_count": 13,
      "outputs": []
    },
    {
      "cell_type": "markdown",
      "metadata": {
        "id": "EWv0Fg36Epug"
      },
      "source": [
        "### Obliczenie gradientu"
      ]
    },
    {
      "cell_type": "code",
      "metadata": {
        "id": "-ejn6iHQE2kw",
        "colab": {
          "base_uri": "https://localhost:8080/"
        },
        "outputId": "fb2fb31a-596d-4ee4-b46e-2f55d82af4d1"
      },
      "source": [
        "# wsteczna propagacja błędu obsługiwana jest przez optymalizatory dostępne w PyTorch\n",
        "optimizer = torch.optim.Adam([w, b], lr=0.001)\n",
        "#optimizer = torch.optim.SGD([w, b], lr=0.001)  # a tutaj Stochastic Gradient Descent\n",
        "\n",
        "# wejście oraz pożądane wyjście z sieci neuronowej\n",
        "x = torch.rand(32, 10)\n",
        "y_true = torch.ones(32, 1)\n",
        "\n",
        "# W PyTorch nie potrzebujemy GradientTape, gradienty są obliczane automatycznie\n",
        "# Najpierw zerujemy gradienty z poprzedniej iteracji\n",
        "optimizer.zero_grad()\n",
        "\n",
        "# Forward pass\n",
        "y_pred = network(x)\n",
        "l = loss_fn(y_pred, y_true)\n",
        "\n",
        "# Backward pass - obliczenie gradientów\n",
        "l.backward()\n",
        "\n",
        "# Aktualizacja parametrów przez optymalizator\n",
        "optimizer.step()\n",
        "\n",
        "# Wyświetlenie gradientów\n",
        "print([w.grad, b.grad])  # gradienty są przechowywane w .grad"
      ],
      "execution_count": 14,
      "outputs": [
        {
          "output_type": "stream",
          "name": "stdout",
          "text": [
            "[tensor([[5.7925],\n",
            "        [5.6138],\n",
            "        [5.5791],\n",
            "        [4.4633],\n",
            "        [4.6250],\n",
            "        [6.1746],\n",
            "        [4.8555],\n",
            "        [4.8852],\n",
            "        [4.7506],\n",
            "        [5.4124]]), tensor([10.0765])]\n"
          ]
        }
      ]
    },
    {
      "cell_type": "markdown",
      "metadata": {
        "id": "idPo7uRZexv9"
      },
      "source": [
        "#### Zadanie 1"
      ]
    },
    {
      "cell_type": "markdown",
      "metadata": {
        "id": "IFKkCPhgezMI"
      },
      "source": [
        "Korzystając z wiedzy z tych i poprzednich zajęć stwórz sieć neuronową składającą się z 3 warstw o rozmiarach odpowiednio 1, 2, 1. Niech w pierwszej i drugiej warstwie funkcją aktywacji będzie sigmoid a wyjście z sieci funkcją liniową. Skorzystaj z funkcji straty MSE.\n",
        "\n",
        "Naucz sieć neuronową, aby wykonywała funkcję **sinus** (wejściem sieci niech będzie kąt wyrażony w radianach). Trening sieci powinien polegać na wykonaniu algorytmu wstecznej propagacji błędu **ITERS** razy. Każda iteracja niech przetwarza **batch** danych o rozmiarze 16. Do nauki sieci wykorzystaj algorytm **Stochastic Gradient Descent** (`torch.optim.SGD`).\n",
        "\n",
        "W celu optymalizacji szybkości działania, dodaj do definicji modelu adnotację @torch.compile.\n",
        "\n",
        "Przy domyślnych parametrach wyjdzie zasadniczo linia prosta na zerze. Poeksperymentuj z prędkością uczenia i liczbą iteracji, by poprawić ten rezultat. Sprawdź, jak działa ReLU dla tego problemu. Dla sigmoidalnej funkcji aktywacji rezultat powinien przypominać następujący wykres:\n",
        "\n",
        "![alt text](https://www.cs.put.poznan.pl/ibladek/students/eio/img/expected_sine.png)\n"
      ]
    },
    {
      "cell_type": "code",
      "source": [
        "import math\n",
        "import numpy as np\n",
        "import matplotlib.pyplot as plt\n",
        "\n",
        "ITERS = 30000  # ilość iteracji\n",
        "LR = 0.020  # prędkość uczenia\n",
        "\n",
        "# pierwsza warstwa\n",
        "w1 = torch.nn.Parameter(torch.rand(1, 2))\n",
        "b1 = torch.nn.Parameter(torch.rand(2))\n",
        "\n",
        "# druga warstwa\n",
        "w2 = torch.nn.Parameter(torch.rand(2, 2))\n",
        "b2 = torch.nn.Parameter(torch.rand(2))\n",
        "\n",
        "# trzecia warstwa\n",
        "w3 = torch.nn.Parameter(torch.rand(2, 1))\n",
        "b3 = torch.nn.Parameter(torch.rand(1))\n",
        "\n",
        "def layer_1(x):\n",
        "    return torch.sigmoid(x @ w1 + b1)\n",
        "\n",
        "def layer_2(x):\n",
        "    return torch.sigmoid(x @ w2 + b2)\n",
        "\n",
        "def layer_3(x):\n",
        "    return x @ w3 + b3\n",
        "\n",
        "@torch.compile\n",
        "def network(x):  # obliczanie wyjścia sieci\n",
        "    x = layer_1(x)\n",
        "    x = layer_2(x)\n",
        "    x = layer_3(x)\n",
        "    return x\n",
        "\n",
        "all_parameters = [w1, b1, w2, b2, w3, b3]\n",
        "optimizer = torch.optim.SGD(all_parameters, lr=LR)\n",
        "loss_fn = torch.nn.MSELoss()\n",
        "\n",
        "for i in range(ITERS):\n",
        "    # dane wejściowe\n",
        "    x = torch.rand(16, 1) * (2 * math.pi)\n",
        "    y_true = torch.sin(x)  # dane uczące (ground truth)\n",
        "    x = (x - math.pi) / (2 * math.pi) # przeskalowanie danych do [-1, 1]\n",
        "\n",
        "    # zerowanie gradientów\n",
        "    optimizer.zero_grad()\n",
        "\n",
        "    # forward pass\n",
        "    y_pred = network(x)\n",
        "\n",
        "    # obliczanie błędu\n",
        "    loss = loss_fn(y_pred, y_true)\n",
        "\n",
        "    # backward pass\n",
        "    loss.backward()\n",
        "\n",
        "    # aktualizacja wag\n",
        "    optimizer.step()\n",
        "\n",
        "    if i % 100 == 0:\n",
        "        print(f'Iteracja {i}, Loss: {loss.item():.4f}')\n",
        "\n",
        "# testowanie sieci na zbiorze testowym\n",
        "x = torch.linspace(0, 2 * math.pi, 100).reshape(-1, 1)\n",
        "y_test = torch.sin(x)\n",
        "x = (x - math.pi) / (2 * math.pi)\n",
        "with torch.no_grad():  # wyłączamy obliczanie gradientów podczas testowania\n",
        "    y_pred = network(x)\n",
        "\n",
        "# konwersja do numpy dla matplotlib\n",
        "x = x.numpy()\n",
        "y_test = y_test.numpy()\n",
        "y_pred = y_pred.numpy()\n",
        "\n",
        "plt.plot(x, y_test, label='sin(x)')\n",
        "plt.plot(x, y_pred, label='network(x)')\n",
        "plt.legend()\n",
        "plt.show()"
      ],
      "metadata": {
        "id": "-yoSVpH5pVvo",
        "colab": {
          "base_uri": "https://localhost:8080/",
          "height": 1000
        },
        "outputId": "d6de1a82-bdf3-4f0b-8cd8-f48689338b79"
      },
      "execution_count": 42,
      "outputs": [
        {
          "output_type": "stream",
          "name": "stdout",
          "text": [
            "Iteracja 0, Loss: 1.4785\n",
            "Iteracja 100, Loss: 0.2072\n",
            "Iteracja 200, Loss: 0.4677\n",
            "Iteracja 300, Loss: 0.4902\n",
            "Iteracja 400, Loss: 0.5979\n",
            "Iteracja 500, Loss: 0.4622\n",
            "Iteracja 600, Loss: 0.4865\n",
            "Iteracja 700, Loss: 0.4544\n",
            "Iteracja 800, Loss: 0.6875\n",
            "Iteracja 900, Loss: 0.5171\n",
            "Iteracja 1000, Loss: 0.3893\n",
            "Iteracja 1100, Loss: 0.5035\n",
            "Iteracja 1200, Loss: 0.3571\n",
            "Iteracja 1300, Loss: 0.3958\n",
            "Iteracja 1400, Loss: 0.4559\n",
            "Iteracja 1500, Loss: 0.4600\n",
            "Iteracja 1600, Loss: 0.4422\n",
            "Iteracja 1700, Loss: 0.5013\n",
            "Iteracja 1800, Loss: 0.3302\n",
            "Iteracja 1900, Loss: 0.5176\n",
            "Iteracja 2000, Loss: 0.4745\n",
            "Iteracja 2100, Loss: 0.4611\n",
            "Iteracja 2200, Loss: 0.5164\n",
            "Iteracja 2300, Loss: 0.5358\n",
            "Iteracja 2400, Loss: 0.3418\n",
            "Iteracja 2500, Loss: 0.4319\n",
            "Iteracja 2600, Loss: 0.4373\n",
            "Iteracja 2700, Loss: 0.4008\n",
            "Iteracja 2800, Loss: 0.4102\n",
            "Iteracja 2900, Loss: 0.4863\n",
            "Iteracja 3000, Loss: 0.5687\n",
            "Iteracja 3100, Loss: 0.4347\n",
            "Iteracja 3200, Loss: 0.4918\n",
            "Iteracja 3300, Loss: 0.5070\n",
            "Iteracja 3400, Loss: 0.4910\n",
            "Iteracja 3500, Loss: 0.6332\n",
            "Iteracja 3600, Loss: 0.6440\n",
            "Iteracja 3700, Loss: 0.4889\n",
            "Iteracja 3800, Loss: 0.5011\n",
            "Iteracja 3900, Loss: 0.5945\n",
            "Iteracja 4000, Loss: 0.4727\n",
            "Iteracja 4100, Loss: 0.5203\n",
            "Iteracja 4200, Loss: 0.4615\n",
            "Iteracja 4300, Loss: 0.4846\n",
            "Iteracja 4400, Loss: 0.3657\n",
            "Iteracja 4500, Loss: 0.4213\n",
            "Iteracja 4600, Loss: 0.5442\n",
            "Iteracja 4700, Loss: 0.4813\n",
            "Iteracja 4800, Loss: 0.5273\n",
            "Iteracja 4900, Loss: 0.6278\n",
            "Iteracja 5000, Loss: 0.4671\n",
            "Iteracja 5100, Loss: 0.3191\n",
            "Iteracja 5200, Loss: 0.4547\n",
            "Iteracja 5300, Loss: 0.3107\n",
            "Iteracja 5400, Loss: 0.5011\n",
            "Iteracja 5500, Loss: 0.5432\n",
            "Iteracja 5600, Loss: 0.4174\n",
            "Iteracja 5700, Loss: 0.5269\n",
            "Iteracja 5800, Loss: 0.4498\n",
            "Iteracja 5900, Loss: 0.5041\n",
            "Iteracja 6000, Loss: 0.4916\n",
            "Iteracja 6100, Loss: 0.5904\n",
            "Iteracja 6200, Loss: 0.5931\n",
            "Iteracja 6300, Loss: 0.5161\n",
            "Iteracja 6400, Loss: 0.4640\n",
            "Iteracja 6500, Loss: 0.5417\n",
            "Iteracja 6600, Loss: 0.4057\n",
            "Iteracja 6700, Loss: 0.3116\n",
            "Iteracja 6800, Loss: 0.6020\n",
            "Iteracja 6900, Loss: 0.4724\n",
            "Iteracja 7000, Loss: 0.4898\n",
            "Iteracja 7100, Loss: 0.4808\n",
            "Iteracja 7200, Loss: 0.7146\n",
            "Iteracja 7300, Loss: 0.3471\n",
            "Iteracja 7400, Loss: 0.4035\n",
            "Iteracja 7500, Loss: 0.5407\n",
            "Iteracja 7600, Loss: 0.4835\n",
            "Iteracja 7700, Loss: 0.5361\n",
            "Iteracja 7800, Loss: 0.6853\n",
            "Iteracja 7900, Loss: 0.4482\n",
            "Iteracja 8000, Loss: 0.4562\n",
            "Iteracja 8100, Loss: 0.4627\n",
            "Iteracja 8200, Loss: 0.6667\n",
            "Iteracja 8300, Loss: 0.5498\n",
            "Iteracja 8400, Loss: 0.4202\n",
            "Iteracja 8500, Loss: 0.3790\n",
            "Iteracja 8600, Loss: 0.5511\n",
            "Iteracja 8700, Loss: 0.5479\n",
            "Iteracja 8800, Loss: 0.5434\n",
            "Iteracja 8900, Loss: 0.5564\n",
            "Iteracja 9000, Loss: 0.4913\n",
            "Iteracja 9100, Loss: 0.5342\n",
            "Iteracja 9200, Loss: 0.5664\n",
            "Iteracja 9300, Loss: 0.5506\n",
            "Iteracja 9400, Loss: 0.4322\n",
            "Iteracja 9500, Loss: 0.5471\n",
            "Iteracja 9600, Loss: 0.4838\n",
            "Iteracja 9700, Loss: 0.3235\n",
            "Iteracja 9800, Loss: 0.4170\n",
            "Iteracja 9900, Loss: 0.5472\n",
            "Iteracja 10000, Loss: 0.4418\n",
            "Iteracja 10100, Loss: 0.5150\n",
            "Iteracja 10200, Loss: 0.4466\n",
            "Iteracja 10300, Loss: 0.5156\n",
            "Iteracja 10400, Loss: 0.5572\n",
            "Iteracja 10500, Loss: 0.3578\n",
            "Iteracja 10600, Loss: 0.5650\n",
            "Iteracja 10700, Loss: 0.3333\n",
            "Iteracja 10800, Loss: 0.3586\n",
            "Iteracja 10900, Loss: 0.5435\n",
            "Iteracja 11000, Loss: 0.3981\n",
            "Iteracja 11100, Loss: 0.4121\n",
            "Iteracja 11200, Loss: 0.1957\n",
            "Iteracja 11300, Loss: 0.3974\n",
            "Iteracja 11400, Loss: 0.3837\n",
            "Iteracja 11500, Loss: 0.3169\n",
            "Iteracja 11600, Loss: 0.3383\n",
            "Iteracja 11700, Loss: 0.2003\n",
            "Iteracja 11800, Loss: 0.1823\n",
            "Iteracja 11900, Loss: 0.2374\n",
            "Iteracja 12000, Loss: 0.2520\n",
            "Iteracja 12100, Loss: 0.1707\n",
            "Iteracja 12200, Loss: 0.1290\n",
            "Iteracja 12300, Loss: 0.1989\n",
            "Iteracja 12400, Loss: 0.1880\n",
            "Iteracja 12500, Loss: 0.1304\n",
            "Iteracja 12600, Loss: 0.1675\n",
            "Iteracja 12700, Loss: 0.1331\n",
            "Iteracja 12800, Loss: 0.1539\n",
            "Iteracja 12900, Loss: 0.1665\n",
            "Iteracja 13000, Loss: 0.1182\n",
            "Iteracja 13100, Loss: 0.1805\n",
            "Iteracja 13200, Loss: 0.2819\n",
            "Iteracja 13300, Loss: 0.1265\n",
            "Iteracja 13400, Loss: 0.1139\n",
            "Iteracja 13500, Loss: 0.1468\n",
            "Iteracja 13600, Loss: 0.1219\n",
            "Iteracja 13700, Loss: 0.1976\n",
            "Iteracja 13800, Loss: 0.1963\n",
            "Iteracja 13900, Loss: 0.2075\n",
            "Iteracja 14000, Loss: 0.0802\n",
            "Iteracja 14100, Loss: 0.1569\n",
            "Iteracja 14200, Loss: 0.1193\n",
            "Iteracja 14300, Loss: 0.1990\n",
            "Iteracja 14400, Loss: 0.2006\n",
            "Iteracja 14500, Loss: 0.0768\n",
            "Iteracja 14600, Loss: 0.1389\n",
            "Iteracja 14700, Loss: 0.2159\n",
            "Iteracja 14800, Loss: 0.2030\n",
            "Iteracja 14900, Loss: 0.2552\n",
            "Iteracja 15000, Loss: 0.1701\n",
            "Iteracja 15100, Loss: 0.2060\n",
            "Iteracja 15200, Loss: 0.1152\n",
            "Iteracja 15300, Loss: 0.1448\n",
            "Iteracja 15400, Loss: 0.1497\n",
            "Iteracja 15500, Loss: 0.2550\n",
            "Iteracja 15600, Loss: 0.1156\n",
            "Iteracja 15700, Loss: 0.1361\n",
            "Iteracja 15800, Loss: 0.0992\n",
            "Iteracja 15900, Loss: 0.1456\n",
            "Iteracja 16000, Loss: 0.1378\n",
            "Iteracja 16100, Loss: 0.1446\n",
            "Iteracja 16200, Loss: 0.1367\n",
            "Iteracja 16300, Loss: 0.1124\n",
            "Iteracja 16400, Loss: 0.1876\n",
            "Iteracja 16500, Loss: 0.1464\n",
            "Iteracja 16600, Loss: 0.1257\n",
            "Iteracja 16700, Loss: 0.1473\n",
            "Iteracja 16800, Loss: 0.1037\n",
            "Iteracja 16900, Loss: 0.1474\n",
            "Iteracja 17000, Loss: 0.0893\n",
            "Iteracja 17100, Loss: 0.1050\n",
            "Iteracja 17200, Loss: 0.1838\n",
            "Iteracja 17300, Loss: 0.1162\n",
            "Iteracja 17400, Loss: 0.1136\n",
            "Iteracja 17500, Loss: 0.1624\n",
            "Iteracja 17600, Loss: 0.1335\n",
            "Iteracja 17700, Loss: 0.1777\n",
            "Iteracja 17800, Loss: 0.1635\n",
            "Iteracja 17900, Loss: 0.1989\n",
            "Iteracja 18000, Loss: 0.1149\n",
            "Iteracja 18100, Loss: 0.1576\n",
            "Iteracja 18200, Loss: 0.1409\n",
            "Iteracja 18300, Loss: 0.1954\n",
            "Iteracja 18400, Loss: 0.2017\n",
            "Iteracja 18500, Loss: 0.2159\n",
            "Iteracja 18600, Loss: 0.0825\n",
            "Iteracja 18700, Loss: 0.0605\n",
            "Iteracja 18800, Loss: 0.1936\n",
            "Iteracja 18900, Loss: 0.0996\n",
            "Iteracja 19000, Loss: 0.1410\n",
            "Iteracja 19100, Loss: 0.1183\n",
            "Iteracja 19200, Loss: 0.1250\n",
            "Iteracja 19300, Loss: 0.0891\n",
            "Iteracja 19400, Loss: 0.1565\n",
            "Iteracja 19500, Loss: 0.1153\n",
            "Iteracja 19600, Loss: 0.1299\n",
            "Iteracja 19700, Loss: 0.1796\n",
            "Iteracja 19800, Loss: 0.1503\n",
            "Iteracja 19900, Loss: 0.0805\n",
            "Iteracja 20000, Loss: 0.1536\n",
            "Iteracja 20100, Loss: 0.1212\n",
            "Iteracja 20200, Loss: 0.1292\n",
            "Iteracja 20300, Loss: 0.0875\n",
            "Iteracja 20400, Loss: 0.0958\n",
            "Iteracja 20500, Loss: 0.1305\n",
            "Iteracja 20600, Loss: 0.1611\n",
            "Iteracja 20700, Loss: 0.1581\n",
            "Iteracja 20800, Loss: 0.0708\n",
            "Iteracja 20900, Loss: 0.1096\n",
            "Iteracja 21000, Loss: 0.1646\n",
            "Iteracja 21100, Loss: 0.1093\n",
            "Iteracja 21200, Loss: 0.1162\n",
            "Iteracja 21300, Loss: 0.1289\n",
            "Iteracja 21400, Loss: 0.1131\n",
            "Iteracja 21500, Loss: 0.1449\n",
            "Iteracja 21600, Loss: 0.0921\n",
            "Iteracja 21700, Loss: 0.1369\n",
            "Iteracja 21800, Loss: 0.1170\n",
            "Iteracja 21900, Loss: 0.0702\n",
            "Iteracja 22000, Loss: 0.0972\n",
            "Iteracja 22100, Loss: 0.0716\n",
            "Iteracja 22200, Loss: 0.1058\n",
            "Iteracja 22300, Loss: 0.0878\n",
            "Iteracja 22400, Loss: 0.1155\n",
            "Iteracja 22500, Loss: 0.1374\n",
            "Iteracja 22600, Loss: 0.1585\n",
            "Iteracja 22700, Loss: 0.0846\n",
            "Iteracja 22800, Loss: 0.1015\n",
            "Iteracja 22900, Loss: 0.1306\n",
            "Iteracja 23000, Loss: 0.0717\n",
            "Iteracja 23100, Loss: 0.1205\n",
            "Iteracja 23200, Loss: 0.0711\n",
            "Iteracja 23300, Loss: 0.0348\n",
            "Iteracja 23400, Loss: 0.1247\n",
            "Iteracja 23500, Loss: 0.1467\n",
            "Iteracja 23600, Loss: 0.1353\n",
            "Iteracja 23700, Loss: 0.0434\n",
            "Iteracja 23800, Loss: 0.1109\n",
            "Iteracja 23900, Loss: 0.1429\n",
            "Iteracja 24000, Loss: 0.1357\n",
            "Iteracja 24100, Loss: 0.1036\n",
            "Iteracja 24200, Loss: 0.0454\n",
            "Iteracja 24300, Loss: 0.1729\n",
            "Iteracja 24400, Loss: 0.0953\n",
            "Iteracja 24500, Loss: 0.0583\n",
            "Iteracja 24600, Loss: 0.0992\n",
            "Iteracja 24700, Loss: 0.1660\n",
            "Iteracja 24800, Loss: 0.1074\n",
            "Iteracja 24900, Loss: 0.0705\n",
            "Iteracja 25000, Loss: 0.0512\n",
            "Iteracja 25100, Loss: 0.1017\n",
            "Iteracja 25200, Loss: 0.1108\n",
            "Iteracja 25300, Loss: 0.0581\n",
            "Iteracja 25400, Loss: 0.0686\n",
            "Iteracja 25500, Loss: 0.0772\n",
            "Iteracja 25600, Loss: 0.0757\n",
            "Iteracja 25700, Loss: 0.0568\n",
            "Iteracja 25800, Loss: 0.0614\n",
            "Iteracja 25900, Loss: 0.0992\n",
            "Iteracja 26000, Loss: 0.0775\n",
            "Iteracja 26100, Loss: 0.0591\n",
            "Iteracja 26200, Loss: 0.0796\n",
            "Iteracja 26300, Loss: 0.1074\n",
            "Iteracja 26400, Loss: 0.1143\n",
            "Iteracja 26500, Loss: 0.1105\n",
            "Iteracja 26600, Loss: 0.0558\n",
            "Iteracja 26700, Loss: 0.1145\n",
            "Iteracja 26800, Loss: 0.0783\n",
            "Iteracja 26900, Loss: 0.1246\n",
            "Iteracja 27000, Loss: 0.1649\n",
            "Iteracja 27100, Loss: 0.1213\n",
            "Iteracja 27200, Loss: 0.0875\n",
            "Iteracja 27300, Loss: 0.0808\n",
            "Iteracja 27400, Loss: 0.0680\n",
            "Iteracja 27500, Loss: 0.0857\n",
            "Iteracja 27600, Loss: 0.1092\n",
            "Iteracja 27700, Loss: 0.1143\n",
            "Iteracja 27800, Loss: 0.0816\n",
            "Iteracja 27900, Loss: 0.0665\n",
            "Iteracja 28000, Loss: 0.0862\n",
            "Iteracja 28100, Loss: 0.0945\n",
            "Iteracja 28200, Loss: 0.1336\n",
            "Iteracja 28300, Loss: 0.1057\n",
            "Iteracja 28400, Loss: 0.1266\n",
            "Iteracja 28500, Loss: 0.1101\n",
            "Iteracja 28600, Loss: 0.1003\n",
            "Iteracja 28700, Loss: 0.0926\n",
            "Iteracja 28800, Loss: 0.1333\n",
            "Iteracja 28900, Loss: 0.1213\n",
            "Iteracja 29000, Loss: 0.0873\n",
            "Iteracja 29100, Loss: 0.1039\n",
            "Iteracja 29200, Loss: 0.0614\n",
            "Iteracja 29300, Loss: 0.1292\n",
            "Iteracja 29400, Loss: 0.1284\n",
            "Iteracja 29500, Loss: 0.0826\n",
            "Iteracja 29600, Loss: 0.0593\n",
            "Iteracja 29700, Loss: 0.0978\n",
            "Iteracja 29800, Loss: 0.0833\n",
            "Iteracja 29900, Loss: 0.0672\n"
          ]
        },
        {
          "output_type": "display_data",
          "data": {
            "text/plain": [
              "<Figure size 640x480 with 1 Axes>"
            ],
            "image/png": "[encoded data removed]"
          },
          "metadata": {}
        }
      ]
    },
    {
      "cell_type": "markdown",
      "source": [
        "Wykres dla relu zawiera ostre krawędzie zamiast bycia falistym i dla ujemnych wartości jest linią prostą."
      ],
      "metadata": {
        "id": "tDA85Dl43CLo"
      }
    }
  ]
}