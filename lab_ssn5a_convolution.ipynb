{
  "cells": [
    {
      "cell_type": "markdown",
      "metadata": {
        "id": "ebvqJaNU9bkH"
      },
      "source": [
        "# Wprowadzenie do sieci neuronowych i uczenia maszynowego\n",
        "\n",
        "## Lab 5a: Podstawowe moduły w PyTorch, sieci konwolucyjne\n",
        "\n",
        "---\n",
        "\n",
        "**Prowadzący:** Iwo Błądek, Anna Labijak-Kowalska<br>\n",
        "\n",
        "---"
      ]
    },
    {
      "cell_type": "markdown",
      "source": [
        "## Uwaga\n",
        "\n",
        "* **Aby wykonać polecenia należy najpierw przejść do trybu 'playground'. File -> Open in Playground Mode**\n",
        "* Nowe funkcje Colab pozwalają na autouzupełnianie oraz czytanie dokumentacji.\n"
      ],
      "metadata": {
        "id": "o8aSyboqZ40M"
      }
    },
    {
      "cell_type": "markdown",
      "metadata": {
        "id": "Wlq47LA0BuBB"
      },
      "source": [
        "## Cel ćwiczeń:\n",
        "\n",
        "* zapoznanie się z pojęciem **zbioru danych** i jego charakterystyką,\n",
        "* wykorzystanie podstawowych warstw neuronowych,\n",
        "* implementacja procesu uczenia sieci neuronowej + *good practices*"
      ]
    },
    {
      "cell_type": "code",
      "execution_count": 1,
      "metadata": {
        "id": "Z8ToIOrDr7A8",
        "colab": {
          "base_uri": "https://localhost:8080/"
        },
        "outputId": "041fa46b-a692-4b97-f814-c9a9a77c3f35"
      },
      "outputs": [
        {
          "output_type": "stream",
          "name": "stdout",
          "text": [
            "PyTorch version: 2.6.0+cu124\n",
            "CUDA available: True\n"
          ]
        }
      ],
      "source": [
        "import numpy as np\n",
        "import torch\n",
        "\n",
        "print(f\"PyTorch version: {torch.__version__}\")\n",
        "print(f\"CUDA available: {torch.cuda.is_available()}\")"
      ]
    },
    {
      "cell_type": "markdown",
      "metadata": {
        "id": "s10XO61Fn57k"
      },
      "source": [
        "## Zbiór danych"
      ]
    },
    {
      "cell_type": "markdown",
      "metadata": {
        "id": "qNwfaIiuy6ar"
      },
      "source": [
        "### Wprowadzenie oraz popularne zbiory danych"
      ]
    },
    {
      "cell_type": "markdown",
      "metadata": {
        "id": "mmzwK1KIvl_t"
      },
      "source": [
        "Odpowiednie przygotowanie zbioru danych odgrywa znaczącą rolę w uczeniu sieci neuronowych. Zazwyczaj zbiory danych zawierają 3 pozbiory:\n",
        "\n",
        "* treningowy - wykorzystywany do uaktualniania wag modelu neuronowego,\n",
        "* walidacyjny - do oceny modelu po każdej **epoce**,\n",
        "* testowy - do porównania modelu z innymi rozwiązaniami.\n",
        "\n",
        "**Uwaga:** bardzo często popularne zbiory danych nie posiadają wyróżnionego zbioru testowego, ponieważ nie prowadzą tzw. **leaderboard**.\n",
        "\n",
        "Najpopularniejsze zbiory danych:\n",
        "\n",
        "* **MNIST**,\n",
        "* eMNIST,\n",
        "* Caltech 101/256,\n",
        "* Cityscapes,\n",
        "* Kitty,\n",
        "* LFW Face Dataset,\n",
        "* ImageNet\n",
        "\n",
        "Więcej informacji: [wiki](https://en.wikipedia.org/wiki/List_of_datasets_for_machine-learning_research) [kaggle](https://www.kaggle.com/datasets) [google](https://toolbox.google.com/datasetsearch)"
      ]
    },
    {
      "cell_type": "markdown",
      "metadata": {
        "id": "KWwP2RtTy-9o"
      },
      "source": [
        "### Obsługa zbioru danych w PyTorch"
      ]
    },
    {
      "cell_type": "markdown",
      "metadata": {
        "id": "29POyzqin9L1"
      },
      "source": [
        "Kod do przetwarzania danych może stać się nieczytelny i trudny do utrzymania; idealnie chcielibyśmy, aby kod związany z naszym zestawem danych był oddzielony od kodu, który odpowiada za uczenie modelu. PyTorch udostępnia dwie klasy do obsługi danych: `torch.utils.data.DataLoader` i `torch.utils.data.Dataset`, które pozwalają na użycie zarówno gotowych zestawów danych, jak i własnych. `Dataset` przechowuje próbki i ich odpowiadające etykiety, a `DataLoader` jest swego rodzaju nakładką na obiekt `Dataset`, umożliwiając łatwy dostęp do próbek - ładowanie danych, dzielenie danych na podzbiory (_ang. batch_). [link](https://pytorch.org/tutorials/beginner/basics/data_tutorial.html)"
      ]
    },
    {
      "cell_type": "markdown",
      "metadata": {
        "id": "fDh89pFDzGca"
      },
      "source": [
        "#### Tworzenie zbioru danych"
      ]
    },
    {
      "cell_type": "code",
      "execution_count": 2,
      "metadata": {
        "id": "9S59kIwgz5x1",
        "colab": {
          "base_uri": "https://localhost:8080/"
        },
        "outputId": "f13cfbe7-c86f-4fb1-b642-b268566151bc"
      },
      "outputs": [
        {
          "output_type": "stream",
          "name": "stderr",
          "text": [
            "<ipython-input-2-2ea1c1efc034>:7: UserWarning: Creating a tensor from a list of numpy.ndarrays is extremely slow. Please consider converting the list to a single numpy.ndarray with numpy.array() before converting to a tensor. (Triggered internally at /pytorch/torch/csrc/utils/tensor_new.cpp:254.)\n",
            "  tensor_x = torch.Tensor(x)\n"
          ]
        }
      ],
      "source": [
        "dataset_size = 10\n",
        "\n",
        "# zbiór danych składający się z losowych obrazków o rozmiarze (32, 32, 3) oraz etykiet po kolei od 0 do dataset_size\n",
        "x = [np.random.uniform(size=(32, 32, 3)) for _ in range(dataset_size)]\n",
        "y = [i for i in range(dataset_size)]\n",
        "\n",
        "tensor_x = torch.Tensor(x)\n",
        "tensor_y = torch.Tensor(y)\n",
        "\n",
        "# utworzenie \"iteratora\" zbioru danych\n",
        "dataset = torch.utils.data.TensorDataset(tensor_x, tensor_y)\n",
        "dataloader = torch.utils.data.DataLoader(dataset)"
      ]
    },
    {
      "cell_type": "markdown",
      "metadata": {
        "id": "latEGDXR1BDT"
      },
      "source": [
        "#### Iterowanie po zbiorze danych"
      ]
    },
    {
      "cell_type": "code",
      "execution_count": 3,
      "metadata": {
        "id": "mJZo9pGz1EX8",
        "colab": {
          "base_uri": "https://localhost:8080/"
        },
        "outputId": "d254efd1-1525-4038-d31c-3e65ac591404"
      },
      "outputs": [
        {
          "output_type": "stream",
          "name": "stdout",
          "text": [
            "torch.Size([1, 32, 32, 3]) tensor([0.])\n",
            "torch.Size([1, 32, 32, 3]) tensor([1.])\n",
            "torch.Size([1, 32, 32, 3]) tensor([2.])\n",
            "torch.Size([1, 32, 32, 3]) tensor([3.])\n",
            "torch.Size([1, 32, 32, 3]) tensor([4.])\n",
            "torch.Size([1, 32, 32, 3]) tensor([5.])\n",
            "torch.Size([1, 32, 32, 3]) tensor([6.])\n",
            "torch.Size([1, 32, 32, 3]) tensor([7.])\n",
            "torch.Size([1, 32, 32, 3]) tensor([8.])\n",
            "torch.Size([1, 32, 32, 3]) tensor([9.])\n"
          ]
        }
      ],
      "source": [
        "for x, y in dataloader:\n",
        "  print(x.shape, y)"
      ]
    },
    {
      "cell_type": "markdown",
      "metadata": {
        "id": "j8xxrDkx1b_r"
      },
      "source": [
        "#### Tasowanie"
      ]
    },
    {
      "cell_type": "code",
      "execution_count": 6,
      "metadata": {
        "id": "yzQhivcx1wjY",
        "colab": {
          "base_uri": "https://localhost:8080/"
        },
        "outputId": "d61882e0-22fa-4dea-ccd2-a8fbe2c6e017"
      },
      "outputs": [
        {
          "output_type": "stream",
          "name": "stdout",
          "text": [
            "torch.Size([1, 32, 32, 3]) tensor([7.])\n",
            "torch.Size([1, 32, 32, 3]) tensor([2.])\n",
            "torch.Size([1, 32, 32, 3]) tensor([3.])\n",
            "torch.Size([1, 32, 32, 3]) tensor([1.])\n",
            "torch.Size([1, 32, 32, 3]) tensor([9.])\n",
            "torch.Size([1, 32, 32, 3]) tensor([6.])\n",
            "torch.Size([1, 32, 32, 3]) tensor([5.])\n",
            "torch.Size([1, 32, 32, 3]) tensor([8.])\n",
            "torch.Size([1, 32, 32, 3]) tensor([0.])\n",
            "torch.Size([1, 32, 32, 3]) tensor([4.])\n"
          ]
        }
      ],
      "source": [
        "dataloader_shuffled = torch.utils.data.DataLoader(dataset, shuffle=True)\n",
        "\n",
        "for x, y in dataloader_shuffled:\n",
        "  print(x.shape, y)"
      ]
    },
    {
      "cell_type": "markdown",
      "metadata": {
        "id": "IUFB46tu15qP"
      },
      "source": [
        "#### Mapowanie"
      ]
    },
    {
      "cell_type": "code",
      "execution_count": 48,
      "metadata": {
        "id": "vxLq1Jwa17HN",
        "colab": {
          "base_uri": "https://localhost:8080/"
        },
        "outputId": "50195f18-ba6b-43c1-b1f6-b1f402f45f42"
      },
      "outputs": [
        {
          "output_type": "stream",
          "name": "stdout",
          "text": [
            "torch.Size([1, 32, 32, 3]) tensor([0.])\n",
            "torch.Size([1, 32, 32, 3]) tensor([2.])\n",
            "torch.Size([1, 32, 32, 3]) tensor([4.])\n",
            "torch.Size([1, 32, 32, 3]) tensor([6.])\n",
            "torch.Size([1, 32, 32, 3]) tensor([8.])\n",
            "torch.Size([1, 32, 32, 3]) tensor([10.])\n",
            "torch.Size([1, 32, 32, 3]) tensor([12.])\n",
            "torch.Size([1, 32, 32, 3]) tensor([14.])\n",
            "torch.Size([1, 32, 32, 3]) tensor([16.])\n",
            "torch.Size([1, 32, 32, 3]) tensor([18.])\n"
          ]
        }
      ],
      "source": [
        "class MappedDataset(torch.utils.data.Dataset):\n",
        "  def __init__(self, dataset, transform_func):\n",
        "    self.dataset = dataset\n",
        "    self.transform_func = transform_func\n",
        "\n",
        "  def __len__(self):\n",
        "    return len(self.dataset)\n",
        "\n",
        "  def __getitem__(self, idx):\n",
        "    data, label = self.dataset[idx]\n",
        "    return self.transform_func(data, label)\n",
        "\n",
        "\n",
        "def map(x, y):\n",
        "  y = y * 2\n",
        "  return x, y\n",
        "\n",
        "\n",
        "dataset_mapped = MappedDataset(dataset, map)\n",
        "dataloader_mapped = torch.utils.data.DataLoader(dataset_mapped)\n",
        "\n",
        "for x, y in dataloader_mapped:\n",
        "  print(x.shape, y)"
      ]
    },
    {
      "cell_type": "markdown",
      "metadata": {
        "id": "2TUb4toF2T-8"
      },
      "source": [
        "#### Filtrowanie"
      ]
    },
    {
      "cell_type": "code",
      "execution_count": 8,
      "metadata": {
        "id": "3ZOTi5mz2Vpf",
        "colab": {
          "base_uri": "https://localhost:8080/"
        },
        "outputId": "3d57ea0f-d33b-41f8-d489-021ffff1a2a9"
      },
      "outputs": [
        {
          "output_type": "stream",
          "name": "stdout",
          "text": [
            "torch.Size([1, 32, 32, 3]) tensor([6.])\n",
            "torch.Size([1, 32, 32, 3]) tensor([7.])\n",
            "torch.Size([1, 32, 32, 3]) tensor([8.])\n",
            "torch.Size([1, 32, 32, 3]) tensor([9.])\n"
          ]
        }
      ],
      "source": [
        "class FilteredDataset(torch.utils.data.Dataset):\n",
        "  def __init__(self, dataset, threshold):\n",
        "    self.filtered_data = [\n",
        "      (data, label) for data, label in dataset if label > threshold\n",
        "    ]\n",
        "\n",
        "  def __len__(self):\n",
        "    return len(self.filtered_data)\n",
        "\n",
        "  def __getitem__(self, idx):\n",
        "    return self.filtered_data[idx]\n",
        "\n",
        "\n",
        "dataset_filtered = FilteredDataset(dataset, 5)\n",
        "\n",
        "dataloader_filtered = torch.utils.data.DataLoader(dataset_filtered)\n",
        "\n",
        "for x, y in dataloader_filtered:\n",
        "  print(x.shape, y)"
      ]
    },
    {
      "cell_type": "markdown",
      "metadata": {
        "id": "QhZmXSZJ2fc3"
      },
      "source": [
        "#### Grupowanie"
      ]
    },
    {
      "cell_type": "code",
      "execution_count": 9,
      "metadata": {
        "id": "FLaNPS6A2iK5",
        "colab": {
          "base_uri": "https://localhost:8080/"
        },
        "outputId": "4efdf658-aa36-4406-d8dc-260036394a48"
      },
      "outputs": [
        {
          "output_type": "stream",
          "name": "stdout",
          "text": [
            "torch.Size([5, 32, 32, 3]) tensor([0., 1., 2., 3., 4.])\n",
            "torch.Size([5, 32, 32, 3]) tensor([5., 6., 7., 8., 9.])\n"
          ]
        }
      ],
      "source": [
        "dataloader_batch = torch.utils.data.DataLoader(dataset, batch_size=5)\n",
        "\n",
        "for x, y in dataloader_batch:\n",
        "  print(x.shape, y)"
      ]
    },
    {
      "cell_type": "markdown",
      "metadata": {
        "id": "_98O2Zsr2xEP"
      },
      "source": [
        "#### Składanie wielu operacji na raz"
      ]
    },
    {
      "cell_type": "code",
      "execution_count": 10,
      "metadata": {
        "id": "q2o3BqWb2z27",
        "colab": {
          "base_uri": "https://localhost:8080/"
        },
        "outputId": "7f0de046-6584-4cdc-c9c0-9832dd7c84b6"
      },
      "outputs": [
        {
          "output_type": "stream",
          "name": "stdout",
          "text": [
            "tensor(0.9264) torch.Size([5, 32, 32, 3]) tensor([10., 12., 14., 16., 18.])\n",
            "tensor(0.9849) torch.Size([1, 32, 32, 3]) tensor([8.])\n"
          ]
        }
      ],
      "source": [
        "dataset_mix = MappedDataset(dataset, map)\n",
        "dataset_mix = FilteredDataset(dataset_mix, 6)\n",
        "\n",
        "dataloader_mix = torch.utils.data.DataLoader(dataset_mix, shuffle=True, batch_size=5)\n",
        "\n",
        "for x, y in dataloader_mix:\n",
        "  print(x[0, 0, 0, 0], x.shape, y)"
      ]
    },
    {
      "cell_type": "markdown",
      "metadata": {
        "id": "6TJaDyXCA9Qe"
      },
      "source": [
        "### Popularne zbiory danych"
      ]
    },
    {
      "cell_type": "markdown",
      "metadata": {
        "id": "fp29iNwaBBhw"
      },
      "source": [
        "Biblioteka PyTorch zawiera gotowe funkcje wczytujące dla niektórych zbiorów danych. Większość gotowych zbiorów danych możemy znaleźć w bibliotece *torchvision*. Tutaj możesz znaleźć dokładną listę dostępnych zbiorów danych - [link](https://pytorch.org/vision/stable/datasets.html)"
      ]
    },
    {
      "cell_type": "markdown",
      "metadata": {
        "id": "kQp1MMjzB9Di"
      },
      "source": [
        "Jednym z popularniejszych zbiorów danych jest MNIST. Jest to zbiór zawierający cyfry pochodzące z pisma odręcznego wraz z ich przypisanymi etykietami ('1', '2', etc.). Poniżej przykładowe pobranie i wykorzystanie zbioru MNIST."
      ]
    },
    {
      "cell_type": "code",
      "execution_count": 11,
      "metadata": {
        "id": "dcggguYcB-8U",
        "colab": {
          "base_uri": "https://localhost:8080/"
        },
        "outputId": "79551142-eabc-4296-f1de-29f186797684"
      },
      "outputs": [
        {
          "output_type": "stream",
          "name": "stderr",
          "text": [
            "100%|██████████| 9.91M/9.91M [00:11<00:00, 901kB/s] \n",
            "100%|██████████| 28.9k/28.9k [00:00<00:00, 130kB/s]\n",
            "100%|██████████| 1.65M/1.65M [00:01<00:00, 1.08MB/s]\n",
            "100%|██████████| 4.54k/4.54k [00:00<00:00, 8.62MB/s]\n"
          ]
        }
      ],
      "source": [
        "import torch\n",
        "from torch.utils.data import Dataset\n",
        "from torchvision import datasets\n",
        "from torchvision.transforms import ToTensor\n",
        "import matplotlib.pyplot as plt\n",
        "\n",
        "\n",
        "training_data = datasets.MNIST(\n",
        "    root=\"data\",\n",
        "    train=True,\n",
        "    download=True,\n",
        "    transform=ToTensor()\n",
        ")\n",
        "\n",
        "test_data = datasets.MNIST(\n",
        "    root=\"data\",\n",
        "    train=False,\n",
        "    download=True,\n",
        "    transform=ToTensor()\n",
        ")"
      ]
    },
    {
      "cell_type": "code",
      "execution_count": 12,
      "metadata": {
        "id": "OJEqdWYeHhg-",
        "colab": {
          "base_uri": "https://localhost:8080/",
          "height": 675
        },
        "outputId": "eb6c819f-6887-4c78-f310-bb5c07194f44"
      },
      "outputs": [
        {
          "output_type": "display_data",
          "data": {
            "text/plain": [
              "<Figure size 800x800 with 9 Axes>"
            ],
            "image/png": "[encoded data removed]"
          },
          "metadata": {}
        }
      ],
      "source": [
        "figure = plt.figure(figsize=(8, 8))\n",
        "cols, rows = 3, 3\n",
        "for i in range(1, cols * rows + 1):\n",
        "    sample_idx = torch.randint(len(training_data), size=(1,)).item()\n",
        "    img, label = training_data[sample_idx]\n",
        "    figure.add_subplot(rows, cols, i)\n",
        "    plt.title(label)\n",
        "    plt.axis(\"off\")\n",
        "    plt.imshow(img.squeeze(), cmap=\"gray\")\n",
        "plt.show()"
      ]
    },
    {
      "cell_type": "markdown",
      "metadata": {
        "id": "um8QcBw-qE3a"
      },
      "source": [
        "Przy projektowaniu sieci neuronowych możemy wyróżnić podstawowe operacje (warstwy), które się powtarzają. Dla wygody, PyTorch zawiera gotowe implementacje najprostszych z nich, oraz udostępnia interfejsy do tworzenia własnych, bardziej skomplikowanych.\n",
        "\n",
        "Operacje możemy podzielić na:\n",
        "* **uczalne** - zawierające zmienne uczalne (np. *w* i *b* w warstwie w pełni połączonej),\n",
        "* **nieuczalne** - takie, które wykonują pewne charakterystyczne działania na danych, jednak nie potrzebują do tego zmiennych, które będą uczone w trakcie propagacji gradientu.\n",
        "\n",
        "Poniżej zaprezentowane zostały popularne operacje uczalne i nieuczalne.\n",
        "\n",
        "**Uwaga**\n",
        "Wszystkie operacje są reprezentowane jako klasy."
      ]
    },
    {
      "cell_type": "markdown",
      "metadata": {
        "id": "F4PMPG23oKgP"
      },
      "source": [
        "## Podstawowe warstwy neuronowe"
      ]
    },
    {
      "cell_type": "markdown",
      "metadata": {
        "id": "xi5VgRQ7peBQ"
      },
      "source": [
        "### Uczalne\n",
        "\n"
      ]
    },
    {
      "cell_type": "markdown",
      "metadata": {
        "id": "wnh4-j1XtP8k"
      },
      "source": [
        "Dzięki predefiniowanym warstwom nie ma potrzeby samodzielnej deklaracji nowych zmiennych. Wszystkie zmienne uczone są deklarowane (zgodnie z implementacją danej warstwy) wewnątrz obiektu, a następnie przechowywane.\n",
        "\n",
        "Do zmiennych uczonych można dostać się poprzez własność *state_dict* (lub *parameters*)."
      ]
    },
    {
      "cell_type": "code",
      "execution_count": 13,
      "metadata": {
        "id": "FI5eoguKtxCy",
        "colab": {
          "base_uri": "https://localhost:8080/"
        },
        "outputId": "9ccbfffc-9ebb-4519-ae2a-a4c25d422a17"
      },
      "outputs": [
        {
          "output_type": "execute_result",
          "data": {
            "text/plain": [
              "OrderedDict([('weight',\n",
              "              tensor([[-0.0392,  0.3315, -0.3711, -0.2124,  0.1394],\n",
              "                      [ 0.4319, -0.1261, -0.3279,  0.1321, -0.2011],\n",
              "                      [-0.3741,  0.3075, -0.4426,  0.2011,  0.3147],\n",
              "                      [-0.3319, -0.4240, -0.2771,  0.0536, -0.2845],\n",
              "                      [-0.2033, -0.2596,  0.1179, -0.3716, -0.3345]])),\n",
              "             ('bias', tensor([-0.2858,  0.0152,  0.3556,  0.0363, -0.1457]))])"
            ]
          },
          "metadata": {},
          "execution_count": 13
        }
      ],
      "source": [
        "m = torch.nn.Linear(5, 5)\n",
        "\n",
        "m.state_dict()"
      ]
    },
    {
      "cell_type": "markdown",
      "metadata": {
        "id": "yfk3PAOvpjcK"
      },
      "source": [
        "#### Linear"
      ]
    },
    {
      "cell_type": "markdown",
      "metadata": {
        "id": "SSE1DNZErodm"
      },
      "source": [
        "Jest to warstwa w pełni połączona, która pobiera jako wejście wektor i produkuje na wyjściu wektor o długości równej rozmiarowi warstwy (liczby neuronów)."
      ]
    },
    {
      "cell_type": "code",
      "execution_count": 14,
      "metadata": {
        "id": "Ylb4JpMAr2DQ",
        "colab": {
          "base_uri": "https://localhost:8080/"
        },
        "outputId": "dfd5e4b1-8ad0-45b7-c885-ba1e9781b055"
      },
      "outputs": [
        {
          "output_type": "stream",
          "name": "stdout",
          "text": [
            "torch.Size([8]) torch.Size([2])\n",
            "Wagi w warstwie linear: tensor([[-0.1980, -0.3147,  0.0993, -0.0121,  0.1321, -0.1977,  0.1530, -0.1874],\n",
            "        [ 0.1788,  0.1308, -0.1860,  0.0620,  0.1745, -0.2975,  0.1633,  0.1409]])\n",
            "Bias'y w warstwie linear: tensor([-0.1167,  0.3248])\n"
          ]
        }
      ],
      "source": [
        "# definicja warstwy\n",
        "linear1 = torch.nn.Linear(8, 2)\n",
        "\n",
        "# inferencja\n",
        "x = torch.ones([8])\n",
        "y = linear1(x)\n",
        "\n",
        "# rozmiar wejściowego oraz wyjściowego tensora\n",
        "print(x.shape, y.shape)\n",
        "\n",
        "# zmienne uczone\n",
        "state_dict = linear1.state_dict()\n",
        "print(f\"Wagi w warstwie linear: {state_dict['weight']}\")\n",
        "print(f\"Bias'y w warstwie linear: {state_dict['bias']}\")"
      ]
    },
    {
      "cell_type": "markdown",
      "metadata": {
        "id": "qEzIeQLKplLd"
      },
      "source": [
        "#### Convolution"
      ]
    },
    {
      "cell_type": "markdown",
      "metadata": {
        "id": "jKyyxUqvuejZ"
      },
      "source": [
        "Warstwa w pełni połączona dobrze sprawdza się przy danych jednowymiarowych. W przypadku danych wielowymiarowych (jak obrazy) korzystanie z nich byłoby bardzo kosztowne obliczeniowo. Aby wykonać pojedynczą operację *Linear* z 128 neuronami na obrazie o rozmiarach (256, 256, 3) należałoby zadeklarować  256 * 256 * 3 * 128 = 25165824 zmiennych uczonych.\n",
        "\n",
        "Popularnym rozwiązaniem efektywnego przetwarzania danych wielowymiarowych są operacje konwolucji ([link do wizualizacji](https://github.com/vdumoulin/conv_arithmetic)). Konwolucja (inaczej splot) w sieciach neuronowych intuicyjnie jest, tak samo jak *Linear*, kombinacją liniową danego podobszaru danych wielowymiarowych i zmiennych uczonych (inaczej *kernel*).\n",
        "\n",
        "Konwolucja w PyTorch posiada szereg parametrów takich jak:\n",
        "* liczba kanałów wejściowych - liczba kanałów w obrazie wejściowym,\n",
        "* liczba kanałów wyjściowych - liczba kanałów \"wyprodukowana\" przez konwolucję,\n",
        "* kernel_size - rozmiar kernela,\n",
        "* stride - \"rozstrzał\" przetwarzanego podobszaru (patrz link do github),\n",
        "* padding - dopełnienie dodane do wszystkich czterech stron danych wejściowych. Domyślnie: 0,\n",
        "\n",
        "W porównaniu do przykładu przytoczonego powyżej, konwolucja z 128 filtrami, rozmiarem kernela równym (3, 3), dla takich samych danych wejściowych zawierałaby 3 * 3 * 3 * 128 = 3456, czyli ponad 7281 (!) razy mniej niż w przypadku *Linear*. Ponadto, w przetwarzaniu danych, w których zachodzą lokalne zależności (na obrazie sąsiadujące piksele reprezentują zazwyczaj ten sam obiekt) konwolucja sprawdza się o wiele lepiej niż *Linear*."
      ]
    },
    {
      "cell_type": "code",
      "execution_count": 15,
      "metadata": {
        "id": "MGMUqvtcwFQe",
        "colab": {
          "base_uri": "https://localhost:8080/"
        },
        "outputId": "cf10c44c-26b1-473f-8d37-6005764d4812"
      },
      "outputs": [
        {
          "output_type": "stream",
          "name": "stdout",
          "text": [
            "torch.Size([10, 128, 128, 3]) torch.Size([10, 128, 64, 2])\n",
            "Wagi w warstwie conv: torch.Size([128, 128, 3, 3])\n",
            "Bias'y w warstwie conv: torch.Size([128])\n"
          ]
        }
      ],
      "source": [
        "# definicja warstwy\n",
        "conv1 = torch.nn.Conv2d(128, 128, (3, 3), (2, 2), 1)\n",
        "\n",
        "# inferencja (przy pierwszym wywołaniu warstwy Linear1 zostaną stworzone zmienne uczone)\n",
        "x = torch.ones([10, 128, 128, 3])\n",
        "y = conv1(x)\n",
        "\n",
        "# rozmiar wejściowego oraz wyjściowego tensora\n",
        "print(x.shape, y.shape)\n",
        "\n",
        "# zmienne uczone\n",
        "state_dict = conv1.state_dict()\n",
        "print(f\"Wagi w warstwie conv: {state_dict['weight'].shape}\")\n",
        "print(f\"Bias'y w warstwie conv: {state_dict['bias'].shape}\")"
      ]
    },
    {
      "cell_type": "markdown",
      "metadata": {
        "id": "O3fPzepapfuY"
      },
      "source": [
        "### Nieuczalne"
      ]
    },
    {
      "cell_type": "markdown",
      "metadata": {
        "id": "nMV7LJQeRuXG"
      },
      "source": [
        "Warstwy nieuczalne zazwyczaj wykonują pewne operacje techniczne, typu zmiana kształtu, skalowanie danych, lub są wykorzystywane w **regularyzacji** (o czym będzie mowa na kolejnych zajęciach)."
      ]
    },
    {
      "cell_type": "markdown",
      "metadata": {
        "id": "DIl-axl0pu0s"
      },
      "source": [
        "#### Pooling"
      ]
    },
    {
      "cell_type": "markdown",
      "metadata": {
        "id": "DoDcI-1sRtFq"
      },
      "source": [
        "Jest to jedna z popularniejszych metod regularyzacji, polegająca na wykonaniu pewnej operacji na małym wycinku danych. Przykładowo MaxPooling2D, podobnie jak konwolucja 2D (patrz wizualizacje), wybiera podobszar obrazu o jakichs wymiarach (np. 2x2) a następnie wybiera maksymalny obiekt z tego okna, tworząc nowy obraz (np. zmniejszony 2-krotnie). Istnieją również inne metody poolingu:\n",
        "\n",
        "* average - z okna obliczana jest średnia,\n",
        "* median - z okna obliczana jest mediana,\n",
        "* minimum - z okna wybierana jest najmniejsza wartość,\n",
        "* itp."
      ]
    },
    {
      "cell_type": "code",
      "execution_count": 16,
      "metadata": {
        "id": "EmJStBb_zTO0",
        "colab": {
          "base_uri": "https://localhost:8080/"
        },
        "outputId": "8d575b3a-f9d9-4a22-9337-01517dc5098c"
      },
      "outputs": [
        {
          "output_type": "stream",
          "name": "stdout",
          "text": [
            "torch.Size([10, 128, 128, 3]) torch.Size([10, 128, 64, 1])\n"
          ]
        }
      ],
      "source": [
        "# definicja warstwy\n",
        "mp1 = torch.nn.MaxPool2d((2, 2), (2, 2))\n",
        "\n",
        "# inferencja (przy pierwszym wywołaniu warstwy Linear1 zostaną stworzone zmienne uczone)\n",
        "x = torch.ones([10, 128, 128, 3])\n",
        "y = mp1(x)\n",
        "\n",
        "# rozmiar wejściowego oraz wyjściowego tensora\n",
        "print(x.shape, y.shape)"
      ]
    },
    {
      "cell_type": "markdown",
      "metadata": {
        "id": "W2C6kjTBpw3w"
      },
      "source": [
        "#### Flatten"
      ]
    },
    {
      "cell_type": "markdown",
      "metadata": {
        "id": "p2_3pL2QSz4M"
      },
      "source": [
        "Flatten jest prostą funkcją spłaszczającą **każdy element w batchu**. Przykładowo dla grupy 10 obrazów o pewnych wymiarach wyprodukowanych zostanie 10 wektorów (spłaszczonych do wektorów obrazów)."
      ]
    },
    {
      "cell_type": "code",
      "execution_count": 17,
      "metadata": {
        "id": "x5rs9OqBzoCt",
        "colab": {
          "base_uri": "https://localhost:8080/"
        },
        "outputId": "448fce2c-9e67-44d9-f297-f5023825f1f0"
      },
      "outputs": [
        {
          "output_type": "stream",
          "name": "stdout",
          "text": [
            "torch.Size([10, 128, 128, 3]) torch.Size([10, 49152])\n"
          ]
        }
      ],
      "source": [
        "# definicja warstwy\n",
        "ft1 = torch.nn.Flatten()\n",
        "\n",
        "# inferencja (przy pierwszym wywołaniu warstwy Linear1 zostaną stworzone zmienne uczone)\n",
        "x = torch.ones([10, 128, 128, 3])\n",
        "y = ft1(x)\n",
        "\n",
        "# rozmiar wejściowego oraz wyjściowego tensora\n",
        "print(x.shape, y.shape)"
      ]
    },
    {
      "cell_type": "markdown",
      "metadata": {
        "id": "fMqJe-T1oY-9"
      },
      "source": [
        "## Proces uczenia sieci neuronowej"
      ]
    },
    {
      "cell_type": "markdown",
      "metadata": {
        "id": "EorLINSXTTcE"
      },
      "source": [
        "Proces uczenia sieci neuronowych składa się z kilku części. Po inicjalizacji modelu oraz zbioru danych następuje uczenie modelu składające się z wielu **epok**. Epoka to pojedyncze przeiterowanie po całym zbiorze danych (podzbiory treningowe i walidacyjne). Przy czym model jest uczony (bład jest propagowany) tylko na zbiorze treningowym. **Nigdy na zbiorach walidacyjnym i testowym.** Proces uczenia sieci neuronowej składa się (najczęściej) następujących części:\n",
        "\n",
        "1. Inicjalizacja modelu,\n",
        "2. Inicjalizacja zbioru danych,\n",
        "3. Pętla treningowa,\n",
        "  1. Uczenie na zbiorze treningowym (raz!),\n",
        "  2. Ocena modelu na zbiorze walidacyjnym,\n",
        "4. Ocena modelu na zbiorze testowym (opcjonalne)"
      ]
    },
    {
      "cell_type": "markdown",
      "metadata": {
        "id": "Qro02c56Uskh"
      },
      "source": [
        "#### Inicjalizacja modelu"
      ]
    },
    {
      "cell_type": "markdown",
      "metadata": {
        "id": "Dgzk0y0GU3Ty"
      },
      "source": [
        "**Uwaga:** Jeśli model składa się z następujących po sobie operacji, można opakować go dla wygody w strukturę *Sequential*, tak jak pokazano poniżej."
      ]
    },
    {
      "cell_type": "code",
      "execution_count": 18,
      "metadata": {
        "id": "bZWoSMEeHhhF",
        "colab": {
          "base_uri": "https://localhost:8080/"
        },
        "outputId": "578aa304-2625-41e9-b610-dcc6eb8b741f"
      },
      "outputs": [
        {
          "output_type": "stream",
          "name": "stdout",
          "text": [
            "Using cuda device\n"
          ]
        }
      ],
      "source": [
        "device = (\n",
        "    \"cuda\"\n",
        "    if torch.cuda.is_available()\n",
        "    else \"mps\"\n",
        "    if torch.backends.mps.is_available()\n",
        "    else \"cpu\"\n",
        ")\n",
        "print(f\"Using {device} device\")"
      ]
    },
    {
      "cell_type": "code",
      "execution_count": 67,
      "metadata": {
        "id": "_IxiftCDUuVn",
        "colab": {
          "base_uri": "https://localhost:8080/"
        },
        "outputId": "566fb470-2670-4d02-cda0-c3d5c78c2e35"
      },
      "outputs": [
        {
          "output_type": "stream",
          "name": "stdout",
          "text": [
            "MyModel(\n",
            "  (conv_relu_stack): Sequential(\n",
            "    (0): Conv2d(1, 64, kernel_size=(5, 5), stride=(2, 2), padding=(1, 1))\n",
            "    (1): ReLU()\n",
            "    (2): Conv2d(64, 32, kernel_size=(5, 5), stride=(2, 2), padding=(1, 1))\n",
            "    (3): ReLU()\n",
            "    (4): Conv2d(32, 16, kernel_size=(5, 5), stride=(2, 2), padding=(1, 1))\n",
            "    (5): ReLU()\n",
            "  )\n",
            "  (flatten): Flatten(start_dim=1, end_dim=-1)\n",
            "  (linear_relu_stack): Sequential(\n",
            "    (0): Linear(in_features=64, out_features=32, bias=True)\n",
            "    (1): ReLU()\n",
            "    (2): Linear(in_features=32, out_features=10, bias=True)\n",
            "    (3): ReLU()\n",
            "    (4): Linear(in_features=10, out_features=10, bias=True)\n",
            "  )\n",
            ")\n"
          ]
        }
      ],
      "source": [
        "import torch.nn as nn\n",
        "from torch.nn.modules.activation import ReLU\n",
        "\n",
        "\n",
        "class MyModel(nn.Module):\n",
        "    def __init__(self) -> None:\n",
        "        \"\"\"Model który na wejściu otrzymuje obraz a na wyjściu produkuje skalar\n",
        "\n",
        "        W skład modelu wchodzą 3 warstwy konwolucyjne o rozmiarach 64, 32, 16 (out_channels),\n",
        "        każda z rozmiarem kernela 5x5 oraz stride 2x2 (czyli obraz po każdej warstwie będzie 2 razy mniejszy)\n",
        "        potem następuje spłaszczenie obrazu do wektora i przetwarzanie warstwami w pełni połączonymi.\n",
        "        Wszystkie warstwy (oprócz wyjściowej) korzystają z funkcji aktywacji 'relu'\n",
        "        \"\"\"\n",
        "        super(MyModel, self).__init__()\n",
        "        self.conv_relu_stack = nn.Sequential(\n",
        "            nn.Conv2d(in_channels=1, out_channels=64, kernel_size=5, stride=2, padding=1),\n",
        "            ReLU(),\n",
        "            nn.Conv2d(in_channels=64, out_channels=32, kernel_size=5, stride=2, padding=1),\n",
        "            ReLU(),\n",
        "            nn.Conv2d(in_channels=32, out_channels=16, kernel_size=5, stride=2, padding=1),\n",
        "            ReLU(),\n",
        "        )\n",
        "        self.flatten = nn.Flatten()\n",
        "        self.linear_relu_stack = nn.Sequential(\n",
        "            nn.Linear(in_features=64, out_features=32),\n",
        "            ReLU(),\n",
        "            nn.Linear(in_features=32, out_features=10),\n",
        "            ReLU(),\n",
        "            nn.Linear(in_features=10, out_features=10),\n",
        "        )\n",
        "\n",
        "    def forward(self, x: torch.Tensor):\n",
        "        x = self.conv_relu_stack(x)\n",
        "        x = self.flatten(x)\n",
        "        return self.linear_relu_stack(x)\n",
        "\n",
        "\n",
        "model = MyModel()\n",
        "print(model)"
      ]
    },
    {
      "cell_type": "markdown",
      "metadata": {
        "id": "KBfKk6KSWWXF"
      },
      "source": [
        "#### Inicjalizacja zbioru danych"
      ]
    },
    {
      "cell_type": "markdown",
      "metadata": {
        "id": "Z242L-5DWZBc"
      },
      "source": [
        "Jako zbiór danych wykorzystany zostanie zaprezentowany wcześniej zbiór **MNIST**."
      ]
    },
    {
      "cell_type": "code",
      "execution_count": 68,
      "metadata": {
        "id": "RZQ0CdUiWnbZ"
      },
      "outputs": [],
      "source": [
        "training_data = datasets.MNIST(\n",
        "    root=\"data\",\n",
        "    train=True,\n",
        "    download=True,\n",
        "    transform=ToTensor()\n",
        ")\n",
        "\n",
        "test_data = datasets.MNIST(\n",
        "    root=\"data\",\n",
        "    train=False,\n",
        "    download=True,\n",
        "    transform=ToTensor()\n",
        ")"
      ]
    },
    {
      "cell_type": "code",
      "execution_count": 69,
      "metadata": {
        "id": "mUyzOt0OWYeX"
      },
      "outputs": [],
      "source": [
        "from torch.utils.data import DataLoader\n",
        "\n",
        "train_dataloader = DataLoader(training_data, batch_size=32, shuffle=True)\n",
        "test_dataloader = DataLoader(test_data, batch_size=32, shuffle=True)"
      ]
    },
    {
      "cell_type": "markdown",
      "metadata": {
        "id": "hBmDlmOAf3b7"
      },
      "source": [
        "### Proces uczenia sieci neuronowej"
      ]
    },
    {
      "cell_type": "code",
      "execution_count": 70,
      "metadata": {
        "id": "dUDPmj0bHhhG"
      },
      "outputs": [],
      "source": [
        "learning_rate = 1e-3\n",
        "batch_size = 32\n",
        "epochs = 5"
      ]
    },
    {
      "cell_type": "code",
      "execution_count": 71,
      "metadata": {
        "id": "mmE-IwkOZMUY"
      },
      "outputs": [],
      "source": [
        "def train_loop(dataloader, model, loss_fn, optimizer):\n",
        "    size = len(dataloader.dataset)\n",
        "    # Set the model to training mode - important for batch normalization and dropout layers\n",
        "    # Unnecessary in this situation but added for best practices\n",
        "    model.train()\n",
        "    for batch, (X, y) in enumerate(dataloader):\n",
        "        # Compute prediction and loss\n",
        "        pred = model(X)\n",
        "        loss = loss_fn(pred, y)\n",
        "\n",
        "        # Backpropagation\n",
        "        loss.backward()\n",
        "        optimizer.step()\n",
        "        optimizer.zero_grad()\n",
        "\n",
        "        if batch % 100 == 0:\n",
        "            loss, current = loss.item(), batch * batch_size + len(X)\n",
        "            print(f\"loss: {loss:>7f}  [{current:>5d}/{size:>5d}]\")\n",
        "\n",
        "\n",
        "def test_loop(dataloader, model, loss_fn):\n",
        "    # Set the model to evaluation mode - important for batch normalization and dropout layers\n",
        "    # Unnecessary in this situation but added for best practices\n",
        "    model.eval()\n",
        "    size = len(dataloader.dataset)\n",
        "    num_batches = len(dataloader)\n",
        "    test_loss, correct = 0, 0\n",
        "\n",
        "    # Evaluating the model with torch.no_grad() ensures that no gradients are computed during test mode\n",
        "    # also serves to reduce unnecessary gradient computations and memory usage for tensors with requires_grad=True\n",
        "    with torch.no_grad():\n",
        "        for X, y in dataloader:\n",
        "            pred = model(X)\n",
        "            test_loss += loss_fn(pred, y).item()\n",
        "            correct += (pred.argmax(1) == y).type(torch.float).sum().item()\n",
        "\n",
        "    test_loss /= num_batches\n",
        "    correct /= size\n",
        "    print(f\"Test Error: \\n Accuracy: {(100*correct):>0.1f}%, Avg loss: {test_loss:>8f} \\n\")"
      ]
    },
    {
      "cell_type": "code",
      "execution_count": 72,
      "metadata": {
        "id": "-4kmh8WItrUK",
        "colab": {
          "base_uri": "https://localhost:8080/"
        },
        "outputId": "00dcb2a3-e03d-48a4-9404-d0e973fc84ca"
      },
      "outputs": [
        {
          "output_type": "stream",
          "name": "stdout",
          "text": [
            "Epoch 1\n",
            "-------------------------------\n",
            "loss: 2.315616  [   32/60000]\n",
            "loss: 1.063976  [ 3232/60000]\n",
            "loss: 0.930766  [ 6432/60000]\n",
            "loss: 1.059689  [ 9632/60000]\n",
            "loss: 0.350513  [12832/60000]\n",
            "loss: 0.411303  [16032/60000]\n",
            "loss: 0.201484  [19232/60000]\n",
            "loss: 0.496849  [22432/60000]\n",
            "loss: 0.204275  [25632/60000]\n",
            "loss: 0.176738  [28832/60000]\n",
            "loss: 0.093858  [32032/60000]\n",
            "loss: 0.315600  [35232/60000]\n",
            "loss: 0.242938  [38432/60000]\n",
            "loss: 0.142801  [41632/60000]\n",
            "loss: 0.214895  [44832/60000]\n",
            "loss: 0.209402  [48032/60000]\n",
            "loss: 0.445284  [51232/60000]\n",
            "loss: 0.111880  [54432/60000]\n",
            "loss: 0.213967  [57632/60000]\n",
            "Test Error: \n",
            " Accuracy: 96.4%, Avg loss: 0.118716 \n",
            "\n",
            "Epoch 2\n",
            "-------------------------------\n",
            "loss: 0.044347  [   32/60000]\n",
            "loss: 0.053014  [ 3232/60000]\n",
            "loss: 0.135591  [ 6432/60000]\n",
            "loss: 0.194220  [ 9632/60000]\n",
            "loss: 0.045715  [12832/60000]\n",
            "loss: 0.428774  [16032/60000]\n",
            "loss: 0.144221  [19232/60000]\n",
            "loss: 0.135690  [22432/60000]\n",
            "loss: 0.277268  [25632/60000]\n",
            "loss: 0.043741  [28832/60000]\n",
            "loss: 0.008845  [32032/60000]\n",
            "loss: 0.048016  [35232/60000]\n",
            "loss: 0.026699  [38432/60000]\n",
            "loss: 0.006489  [41632/60000]\n",
            "loss: 0.122290  [44832/60000]\n",
            "loss: 0.037949  [48032/60000]\n",
            "loss: 0.079535  [51232/60000]\n",
            "loss: 0.046397  [54432/60000]\n",
            "loss: 0.018973  [57632/60000]\n",
            "Test Error: \n",
            " Accuracy: 97.9%, Avg loss: 0.065208 \n",
            "\n",
            "Epoch 3\n",
            "-------------------------------\n",
            "loss: 0.115535  [   32/60000]\n",
            "loss: 0.324173  [ 3232/60000]\n",
            "loss: 0.005396  [ 6432/60000]\n",
            "loss: 0.044765  [ 9632/60000]\n",
            "loss: 0.137307  [12832/60000]\n",
            "loss: 0.003717  [16032/60000]\n",
            "loss: 0.005384  [19232/60000]\n",
            "loss: 0.082345  [22432/60000]\n",
            "loss: 0.021305  [25632/60000]\n",
            "loss: 0.022396  [28832/60000]\n",
            "loss: 0.011879  [32032/60000]\n",
            "loss: 0.014493  [35232/60000]\n",
            "loss: 0.036998  [38432/60000]\n",
            "loss: 0.011938  [41632/60000]\n",
            "loss: 0.096449  [44832/60000]\n",
            "loss: 0.002834  [48032/60000]\n",
            "loss: 0.038911  [51232/60000]\n",
            "loss: 0.038518  [54432/60000]\n",
            "loss: 0.090735  [57632/60000]\n",
            "Test Error: \n",
            " Accuracy: 98.3%, Avg loss: 0.057701 \n",
            "\n",
            "Done!\n"
          ]
        }
      ],
      "source": [
        "loss_fn = nn.CrossEntropyLoss()\n",
        "optimizer = torch.optim.Adam(model.parameters(), lr=learning_rate)\n",
        "\n",
        "epochs = 3\n",
        "for t in range(epochs):\n",
        "    print(f\"Epoch {t+1}\\n-------------------------------\")\n",
        "    train_loop(train_dataloader, model, loss_fn, optimizer)\n",
        "    test_loop(test_dataloader, model, loss_fn)\n",
        "print(\"Done!\")"
      ]
    },
    {
      "cell_type": "markdown",
      "metadata": {
        "id": "d2s7Isp4633N"
      },
      "source": [
        "#### Zadanie 1\n",
        "\n",
        "Stwórz zbiór danych (bez podziału na zbiory treningowe, walidacyjne i treningowe) składający się z 10000 elementów, zawierający pary (x, y) danych\n",
        "dla funkcji **sinus**. Dane x niech będą z zakresu [-2 * PI, 2 * PI], y - odpowiadające im wartości funkcji sinus.\n",
        "\n",
        "Następnie utwórz providera za pomocą PyTorch Dataset API, który będzie:\n",
        "\n",
        "* tasował dane\n",
        "* mapował tak, aby dane x, z zakresu [-2 \\* PI, 0), były transformowane do przedziału [0, 2 \\* PI)\n",
        "\n",
        "Podpowiedź: (x + 2PI) % 2PI,\n",
        "* grupował dane w batche o rozmiarze 32"
      ]
    },
    {
      "cell_type": "code",
      "execution_count": 73,
      "metadata": {
        "id": "_1hnkzMEA7l_"
      },
      "outputs": [],
      "source": [
        "import numpy as np\n",
        "from torch.utils.data import TensorDataset, DataLoader\n",
        "\n",
        "\n",
        "dataset_size = 10000\n",
        "\n",
        "x = np.linspace(-2 * np.pi, 2 * np.pi, dataset_size)\n",
        "y = np.sin(x)\n",
        "\n",
        "tensor_x = torch.tensor(x, dtype=torch.float32)\n",
        "tensor_y = torch.tensor(y, dtype=torch.float32)\n",
        "\n",
        "\n",
        "def transform_sinus(x, y):\n",
        "  x = (x + 2 * np.pi) % 2 * np.pi\n",
        "  return x, y\n",
        "\n",
        "dataset = torch.utils.data.TensorDataset(tensor_x, tensor_y)\n",
        "mappedDataset = MappedDataset(dataset, transform_sinus)\n",
        "dataloader = torch.utils.data.DataLoader(mappedDataset, shuffle=True, batch_size=32)\n",
        "\n",
        "# for x, y in dataloader:\n",
        "#   print(x, y)"
      ]
    },
    {
      "cell_type": "markdown",
      "metadata": {
        "id": "kM_SpGu7ejES"
      },
      "source": [
        "#### Zadanie 2"
      ]
    },
    {
      "cell_type": "markdown",
      "metadata": {
        "id": "sMB9DnMVeppt"
      },
      "source": [
        "Stwórz sieć neuronową składającą się z:\n",
        "\n",
        "* 3 warstw konwolucyjnych (kernel size = 5, liczba filtrów = 128, 64, 32, **bez stride (stride=1)**, aktywacja = relu, **padding='1'**)\n",
        "* 3 warstw Max Pooling-u, każda znajdująca się za kolejną warstwą konwolucyjną (kernel size = 2, **stride = 2**, padding=1, funkcja aktywacji: relu) (tzn. Conv2d -> MaxPool2d -> Conv2d -> MaxPool2d -> ...),\n",
        "* 3 warstw w pełni połączonych (rozmiary: 512, 128, **liczba klas**, funkcja aktywacji: relu)\n",
        "\n",
        "Przetestuj swoją sieć na następujących zbiorach danych:\n",
        "\n",
        "* Cifar 10\n",
        "* Cifar 100"
      ]
    },
    {
      "cell_type": "code",
      "execution_count": 74,
      "metadata": {
        "id": "GbK4okcB0Dqs",
        "colab": {
          "base_uri": "https://localhost:8080/"
        },
        "outputId": "f3d5b307-9c92-4c07-956d-bc5eb136b385"
      },
      "outputs": [
        {
          "output_type": "stream",
          "name": "stdout",
          "text": [
            "PyTorch version: 2.6.0+cu124\n",
            "CUDA available: True\n"
          ]
        }
      ],
      "source": [
        "import numpy as np\n",
        "import torch\n",
        "import torch.nn as nn\n",
        "\n",
        "print(f\"PyTorch version: {torch.__version__}\")\n",
        "print(f\"CUDA available: {torch.cuda.is_available()}\")"
      ]
    },
    {
      "cell_type": "code",
      "source": [
        "class NeuralNetwork(nn.Module):\n",
        "    def __init__(self, num_classes: int) -> None:\n",
        "        super(NeuralNetwork, self).__init__()\n",
        "        self.conv_relu_stack = nn.Sequential(\n",
        "            nn.Conv2d(in_channels=3, out_channels=128, kernel_size=5, stride=1, padding=2),\n",
        "            ReLU(),\n",
        "            torch.nn.MaxPool2d(kernel_size=2, stride=2, padding=1),\n",
        "            ReLU(),\n",
        "\n",
        "            nn.Conv2d(in_channels=128, out_channels=64, kernel_size=5, stride=1, padding=2),\n",
        "            ReLU(),\n",
        "            torch.nn.MaxPool2d(kernel_size=2, stride=2, padding=1),\n",
        "            ReLU(),\n",
        "\n",
        "            nn.Conv2d(in_channels=64, out_channels=32, kernel_size=5, stride=1, padding=2),\n",
        "            ReLU(),\n",
        "            torch.nn.MaxPool2d(kernel_size=2, stride=2, padding=1),\n",
        "            ReLU(),\n",
        "        )\n",
        "\n",
        "        self.flatten = nn.Flatten()\n",
        "\n",
        "        self.linear_relu_stack = nn.Sequential(\n",
        "            torch.nn.Linear(in_features=32*5*5, out_features=512),\n",
        "            ReLU(),\n",
        "\n",
        "            torch.nn.Linear(in_features=512, out_features=128),\n",
        "            ReLU(),\n",
        "\n",
        "            torch.nn.Linear(in_features=128, out_features=num_classes)\n",
        "        )\n",
        "\n",
        "    def forward(self, x: torch.Tensor):\n",
        "        x = self.conv_relu_stack(x)\n",
        "        x = self.flatten(x)\n",
        "        x = self.linear_relu_stack(x)\n",
        "        return x\n",
        "\n",
        "\n",
        "model = NeuralNetwork(10)\n",
        "print(model)\n"
      ],
      "metadata": {
        "id": "1W1ZAdDjLh0z",
        "colab": {
          "base_uri": "https://localhost:8080/"
        },
        "outputId": "3a6e555e-fb0d-4511-bcf0-e29e6f373ee7"
      },
      "execution_count": 121,
      "outputs": [
        {
          "output_type": "stream",
          "name": "stdout",
          "text": [
            "NeuralNetwork(\n",
            "  (conv_relu_stack): Sequential(\n",
            "    (0): Conv2d(3, 128, kernel_size=(5, 5), stride=(1, 1), padding=(2, 2))\n",
            "    (1): ReLU()\n",
            "    (2): MaxPool2d(kernel_size=2, stride=2, padding=1, dilation=1, ceil_mode=False)\n",
            "    (3): ReLU()\n",
            "    (4): Conv2d(128, 64, kernel_size=(5, 5), stride=(1, 1), padding=(2, 2))\n",
            "    (5): ReLU()\n",
            "    (6): MaxPool2d(kernel_size=2, stride=2, padding=1, dilation=1, ceil_mode=False)\n",
            "    (7): ReLU()\n",
            "    (8): Conv2d(64, 32, kernel_size=(5, 5), stride=(1, 1), padding=(2, 2))\n",
            "    (9): ReLU()\n",
            "    (10): MaxPool2d(kernel_size=2, stride=2, padding=1, dilation=1, ceil_mode=False)\n",
            "    (11): ReLU()\n",
            "  )\n",
            "  (flatten): Flatten(start_dim=1, end_dim=-1)\n",
            "  (linear_relu_stack): Sequential(\n",
            "    (0): Linear(in_features=800, out_features=512, bias=True)\n",
            "    (1): ReLU()\n",
            "    (2): Linear(in_features=512, out_features=128, bias=True)\n",
            "    (3): ReLU()\n",
            "    (4): Linear(in_features=128, out_features=10, bias=True)\n",
            "  )\n",
            ")\n"
          ]
        }
      ]
    },
    {
      "cell_type": "code",
      "source": [
        "import torch\n",
        "from torch.utils.data import Dataset\n",
        "from torchvision import datasets\n",
        "from torchvision.transforms import ToTensor\n",
        "\n",
        "model = NeuralNetwork(10)\n",
        "\n",
        "# DONE - init dataset\n",
        "training_data = datasets.CIFAR10(\n",
        "    root=\"data\",\n",
        "    train=True,\n",
        "    download=True,\n",
        "    transform=ToTensor()\n",
        ")\n",
        "\n",
        "test_data = datasets.CIFAR10(\n",
        "    root=\"data\",\n",
        "    train=False,\n",
        "    download=True,\n",
        "    transform=ToTensor()\n",
        ")"
      ],
      "metadata": {
        "id": "F0BX6tH9Nua_"
      },
      "execution_count": 122,
      "outputs": []
    },
    {
      "cell_type": "code",
      "source": [
        "from torch.utils.data import DataLoader\n",
        "\n",
        "batch_size = 32\n",
        "\n",
        "# DONE - init dataloaders\n",
        "train_dataloader = DataLoader(training_data, batch_size=batch_size, shuffle=True)\n",
        "test_dataloader = DataLoader(test_data, batch_size=batch_size, shuffle=True)"
      ],
      "metadata": {
        "id": "wjiYpQJYOH5V"
      },
      "execution_count": 123,
      "outputs": []
    },
    {
      "cell_type": "code",
      "source": [
        "# TODO - train networks\n",
        "learning_rate = 1e-3\n",
        "epochs = 5\n",
        "\n",
        "loss_fn = nn.CrossEntropyLoss()\n",
        "optimizer = torch.optim.Adam(model.parameters(), lr=learning_rate)\n",
        "\n",
        "for t in range(epochs):\n",
        "    print(f\"Epoch {t+1}\\n-------------------------------\")\n",
        "    train_loop(train_dataloader, model, loss_fn, optimizer)\n",
        "    test_loop(test_dataloader, model, loss_fn)\n",
        "print(\"Done!\")"
      ],
      "metadata": {
        "id": "TfYLcHWsPYZF",
        "colab": {
          "base_uri": "https://localhost:8080/"
        },
        "outputId": "1e1ecb9b-b6fb-422e-a18c-4b13eac25dea"
      },
      "execution_count": 124,
      "outputs": [
        {
          "output_type": "stream",
          "name": "stdout",
          "text": [
            "Epoch 1\n",
            "-------------------------------\n",
            "loss: 2.297431  [   32/50000]\n",
            "loss: 1.961807  [ 3232/50000]\n",
            "loss: 1.906437  [ 6432/50000]\n",
            "loss: 1.993695  [ 9632/50000]\n",
            "loss: 1.990707  [12832/50000]\n",
            "loss: 1.463743  [16032/50000]\n",
            "loss: 1.478565  [19232/50000]\n",
            "loss: 1.478493  [22432/50000]\n",
            "loss: 1.237658  [25632/50000]\n",
            "loss: 1.524460  [28832/50000]\n",
            "loss: 1.614998  [32032/50000]\n",
            "loss: 1.168687  [35232/50000]\n",
            "loss: 1.376714  [38432/50000]\n",
            "loss: 1.375384  [41632/50000]\n",
            "loss: 1.764998  [44832/50000]\n",
            "loss: 1.185607  [48032/50000]\n",
            "Test Error: \n",
            " Accuracy: 53.8%, Avg loss: 1.274821 \n",
            "\n",
            "Epoch 2\n",
            "-------------------------------\n",
            "loss: 1.192428  [   32/50000]\n",
            "loss: 1.179512  [ 3232/50000]\n",
            "loss: 1.002019  [ 6432/50000]\n",
            "loss: 1.469337  [ 9632/50000]\n",
            "loss: 1.093521  [12832/50000]\n",
            "loss: 0.933654  [16032/50000]\n",
            "loss: 1.346963  [19232/50000]\n",
            "loss: 1.308478  [22432/50000]\n",
            "loss: 1.130149  [25632/50000]\n",
            "loss: 0.883633  [28832/50000]\n",
            "loss: 1.120854  [32032/50000]\n",
            "loss: 1.359735  [35232/50000]\n",
            "loss: 0.980552  [38432/50000]\n",
            "loss: 1.058038  [41632/50000]\n",
            "loss: 1.257249  [44832/50000]\n",
            "loss: 1.054359  [48032/50000]\n",
            "Test Error: \n",
            " Accuracy: 58.8%, Avg loss: 1.154082 \n",
            "\n",
            "Epoch 3\n",
            "-------------------------------\n",
            "loss: 1.286436  [   32/50000]\n",
            "loss: 0.965773  [ 3232/50000]\n",
            "loss: 1.019459  [ 6432/50000]\n",
            "loss: 0.910522  [ 9632/50000]\n",
            "loss: 0.899351  [12832/50000]\n",
            "loss: 1.114502  [16032/50000]\n",
            "loss: 1.252376  [19232/50000]\n",
            "loss: 0.802437  [22432/50000]\n",
            "loss: 1.141358  [25632/50000]\n",
            "loss: 0.905851  [28832/50000]\n",
            "loss: 0.876144  [32032/50000]\n",
            "loss: 0.999540  [35232/50000]\n",
            "loss: 1.058295  [38432/50000]\n",
            "loss: 0.890038  [41632/50000]\n",
            "loss: 1.072885  [44832/50000]\n",
            "loss: 0.785445  [48032/50000]\n",
            "Test Error: \n",
            " Accuracy: 65.2%, Avg loss: 1.009109 \n",
            "\n",
            "Epoch 4\n",
            "-------------------------------\n",
            "loss: 1.318740  [   32/50000]\n",
            "loss: 0.969940  [ 3232/50000]\n",
            "loss: 0.990688  [ 6432/50000]\n",
            "loss: 0.988690  [ 9632/50000]\n",
            "loss: 0.746459  [12832/50000]\n",
            "loss: 0.747666  [16032/50000]\n",
            "loss: 0.929813  [19232/50000]\n",
            "loss: 0.763709  [22432/50000]\n",
            "loss: 1.063943  [25632/50000]\n",
            "loss: 1.120004  [28832/50000]\n",
            "loss: 1.278575  [32032/50000]\n",
            "loss: 0.871088  [35232/50000]\n",
            "loss: 0.998760  [38432/50000]\n",
            "loss: 0.807825  [41632/50000]\n",
            "loss: 1.259363  [44832/50000]\n",
            "loss: 0.751764  [48032/50000]\n",
            "Test Error: \n",
            " Accuracy: 65.6%, Avg loss: 1.025800 \n",
            "\n",
            "Epoch 5\n",
            "-------------------------------\n",
            "loss: 0.676772  [   32/50000]\n",
            "loss: 1.112592  [ 3232/50000]\n",
            "loss: 0.810716  [ 6432/50000]\n",
            "loss: 0.582168  [ 9632/50000]\n",
            "loss: 0.993284  [12832/50000]\n",
            "loss: 0.784308  [16032/50000]\n",
            "loss: 0.768074  [19232/50000]\n",
            "loss: 0.981658  [22432/50000]\n",
            "loss: 0.569063  [25632/50000]\n",
            "loss: 0.644911  [28832/50000]\n",
            "loss: 0.594667  [32032/50000]\n",
            "loss: 0.632414  [35232/50000]\n",
            "loss: 0.589164  [38432/50000]\n",
            "loss: 0.879902  [41632/50000]\n",
            "loss: 1.070854  [44832/50000]\n",
            "loss: 0.503240  [48032/50000]\n",
            "Test Error: \n",
            " Accuracy: 68.4%, Avg loss: 0.912261 \n",
            "\n",
            "Done!\n"
          ]
        }
      ]
    },
    {
      "cell_type": "code",
      "source": [
        "model = NeuralNetwork(100)\n",
        "\n",
        "training_data = datasets.CIFAR100(\n",
        "    root=\"data\",\n",
        "    train=True,\n",
        "    download=True,\n",
        "    transform=ToTensor()\n",
        ")\n",
        "\n",
        "test_data = datasets.CIFAR100(\n",
        "    root=\"data\",\n",
        "    train=False,\n",
        "    download=True,\n",
        "    transform=ToTensor()\n",
        ")\n",
        "\n",
        "train_dataloader = DataLoader(training_data, batch_size=batch_size, shuffle=True)\n",
        "test_dataloader = DataLoader(test_data, batch_size=batch_size, shuffle=True)\n",
        "\n",
        "loss_fn = nn.CrossEntropyLoss()\n",
        "optimizer = torch.optim.Adam(model.parameters(), lr=learning_rate)\n",
        "\n",
        "for t in range(epochs):\n",
        "    print(f\"Epoch {t+1}\\n-------------------------------\")\n",
        "    train_loop(train_dataloader, model, loss_fn, optimizer)\n",
        "    test_loop(test_dataloader, model, loss_fn)\n",
        "print(\"Done!\")"
      ],
      "metadata": {
        "colab": {
          "base_uri": "https://localhost:8080/"
        },
        "id": "5zQr3Ie0h66-",
        "outputId": "8e9d11e1-5469-4bff-bd83-6e42caba435e"
      },
      "execution_count": 125,
      "outputs": [
        {
          "output_type": "stream",
          "name": "stdout",
          "text": [
            "Epoch 1\n",
            "-------------------------------\n",
            "loss: 4.600184  [   32/50000]\n",
            "loss: 4.606565  [ 3232/50000]\n",
            "loss: 4.601277  [ 6432/50000]\n",
            "loss: 4.441255  [ 9632/50000]\n",
            "loss: 4.505960  [12832/50000]\n",
            "loss: 4.263085  [16032/50000]\n",
            "loss: 4.299911  [19232/50000]\n",
            "loss: 4.425410  [22432/50000]\n",
            "loss: 4.178503  [25632/50000]\n",
            "loss: 4.266966  [28832/50000]\n",
            "loss: 4.052618  [32032/50000]\n",
            "loss: 3.630601  [35232/50000]\n",
            "loss: 4.560429  [38432/50000]\n",
            "loss: 4.010098  [41632/50000]\n",
            "loss: 4.108679  [44832/50000]\n",
            "loss: 3.927967  [48032/50000]\n",
            "Test Error: \n",
            " Accuracy: 9.1%, Avg loss: 3.896235 \n",
            "\n",
            "Epoch 2\n",
            "-------------------------------\n",
            "loss: 3.637828  [   32/50000]\n",
            "loss: 3.663473  [ 3232/50000]\n",
            "loss: 3.830843  [ 6432/50000]\n",
            "loss: 3.787503  [ 9632/50000]\n",
            "loss: 4.036543  [12832/50000]\n",
            "loss: 3.808629  [16032/50000]\n",
            "loss: 3.495084  [19232/50000]\n",
            "loss: 3.475884  [22432/50000]\n",
            "loss: 3.242941  [25632/50000]\n",
            "loss: 4.048459  [28832/50000]\n",
            "loss: 3.770393  [32032/50000]\n",
            "loss: 3.567184  [35232/50000]\n",
            "loss: 3.436841  [38432/50000]\n",
            "loss: 3.432719  [41632/50000]\n",
            "loss: 3.168482  [44832/50000]\n",
            "loss: 3.718345  [48032/50000]\n",
            "Test Error: \n",
            " Accuracy: 16.7%, Avg loss: 3.512660 \n",
            "\n",
            "Epoch 3\n",
            "-------------------------------\n",
            "loss: 3.503551  [   32/50000]\n",
            "loss: 3.510447  [ 3232/50000]\n",
            "loss: 3.260455  [ 6432/50000]\n",
            "loss: 3.153959  [ 9632/50000]\n",
            "loss: 2.972307  [12832/50000]\n",
            "loss: 3.634756  [16032/50000]\n",
            "loss: 2.780367  [19232/50000]\n",
            "loss: 3.137257  [22432/50000]\n",
            "loss: 3.147531  [25632/50000]\n",
            "loss: 3.120852  [28832/50000]\n",
            "loss: 3.207418  [32032/50000]\n",
            "loss: 2.970061  [35232/50000]\n",
            "loss: 2.928961  [38432/50000]\n",
            "loss: 3.041061  [41632/50000]\n",
            "loss: 3.324347  [44832/50000]\n",
            "loss: 2.842317  [48032/50000]\n",
            "Test Error: \n",
            " Accuracy: 19.9%, Avg loss: 3.326596 \n",
            "\n",
            "Epoch 4\n",
            "-------------------------------\n",
            "loss: 2.999873  [   32/50000]\n",
            "loss: 3.427166  [ 3232/50000]\n",
            "loss: 3.321516  [ 6432/50000]\n",
            "loss: 2.718248  [ 9632/50000]\n",
            "loss: 3.140087  [12832/50000]\n",
            "loss: 2.908487  [16032/50000]\n",
            "loss: 2.911454  [19232/50000]\n",
            "loss: 3.637063  [22432/50000]\n",
            "loss: 2.855319  [25632/50000]\n",
            "loss: 2.914306  [28832/50000]\n",
            "loss: 3.251045  [32032/50000]\n",
            "loss: 3.430772  [35232/50000]\n",
            "loss: 3.120940  [38432/50000]\n",
            "loss: 3.193082  [41632/50000]\n",
            "loss: 3.087482  [44832/50000]\n",
            "loss: 3.396185  [48032/50000]\n",
            "Test Error: \n",
            " Accuracy: 23.0%, Avg loss: 3.155319 \n",
            "\n",
            "Epoch 5\n",
            "-------------------------------\n",
            "loss: 2.873818  [   32/50000]\n",
            "loss: 2.781694  [ 3232/50000]\n",
            "loss: 2.660963  [ 6432/50000]\n",
            "loss: 3.146849  [ 9632/50000]\n",
            "loss: 2.839468  [12832/50000]\n",
            "loss: 3.055689  [16032/50000]\n",
            "loss: 3.200474  [19232/50000]\n",
            "loss: 2.539616  [22432/50000]\n",
            "loss: 2.715730  [25632/50000]\n",
            "loss: 3.229199  [28832/50000]\n",
            "loss: 2.834804  [32032/50000]\n",
            "loss: 2.479895  [35232/50000]\n",
            "loss: 2.767280  [38432/50000]\n",
            "loss: 2.989675  [41632/50000]\n",
            "loss: 3.163738  [44832/50000]\n",
            "loss: 2.583569  [48032/50000]\n",
            "Test Error: \n",
            " Accuracy: 24.4%, Avg loss: 3.097482 \n",
            "\n",
            "Done!\n"
          ]
        }
      ]
    }
  ],
  "metadata": {
    "accelerator": "GPU",
    "colab": {
      "provenance": []
    },
    "kernelspec": {
      "display_name": "venv-snum",
      "language": "python",
      "name": "python3"
    },
    "language_info": {
      "codemirror_mode": {
        "name": "ipython",
        "version": 3
      },
      "file_extension": ".py",
      "mimetype": "text/x-python",
      "name": "python",
      "nbconvert_exporter": "python",
      "pygments_lexer": "ipython3",
      "version": "3.10.5"
    }
  },
  "nbformat": 4,
  "nbformat_minor": 0
}